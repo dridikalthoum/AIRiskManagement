{
  "cells": [
    {
      "cell_type": "code",
      "source": [
        "from google.colab import drive\n",
        "drive.mount('/content/drive')"
      ],
      "metadata": {
        "colab": {
          "base_uri": "https://localhost:8080/"
        },
        "id": "GHUQOa0-Bz3m",
        "outputId": "833422d6-89bf-4e35-aae6-aef714d4b17a"
      },
      "id": "GHUQOa0-Bz3m",
      "execution_count": null,
      "outputs": [
        {
          "output_type": "stream",
          "name": "stdout",
          "text": [
            "Mounted at /content/drive\n"
          ]
        }
      ]
    },
    {
      "cell_type": "markdown",
      "id": "1f568a47",
      "metadata": {
        "id": "1f568a47"
      },
      "source": [
        "# Downloading Required Packages"
      ]
    },
    {
      "cell_type": "code",
      "source": [
        "!pip install pytesseract pdf2image pillow opencv-python matplotlib pymupdf && \\\n",
        "pip install nltk PyPDF2 pdfplumber pycryptodome && \\\n",
        "pip install pdfplumber && \\\n",
        "pip install nltk sentence-transformers scikit-learn && \\\n",
        "pip install python-Levenshtein"
      ],
      "metadata": {
        "colab": {
          "base_uri": "https://localhost:8080/"
        },
        "id": "QmqojC-ge-LJ",
        "outputId": "16519c91-6e50-4e5b-fd8d-7fbab587b240"
      },
      "id": "QmqojC-ge-LJ",
      "execution_count": null,
      "outputs": [
        {
          "output_type": "stream",
          "name": "stdout",
          "text": [
            "Collecting pytesseract\n",
            "  Downloading pytesseract-0.3.13-py3-none-any.whl.metadata (11 kB)\n",
            "Collecting pdf2image\n",
            "  Downloading pdf2image-1.17.0-py3-none-any.whl.metadata (6.2 kB)\n",
            "Requirement already satisfied: pillow in /usr/local/lib/python3.10/dist-packages (10.4.0)\n",
            "Requirement already satisfied: opencv-python in /usr/local/lib/python3.10/dist-packages (4.10.0.84)\n",
            "Requirement already satisfied: matplotlib in /usr/local/lib/python3.10/dist-packages (3.7.1)\n",
            "Collecting pymupdf\n",
            "  Downloading PyMuPDF-1.24.10-cp310-none-manylinux2014_x86_64.whl.metadata (3.4 kB)\n",
            "Requirement already satisfied: packaging>=21.3 in /usr/local/lib/python3.10/dist-packages (from pytesseract) (24.1)\n",
            "Requirement already satisfied: numpy>=1.21.2 in /usr/local/lib/python3.10/dist-packages (from opencv-python) (1.26.4)\n",
            "Requirement already satisfied: contourpy>=1.0.1 in /usr/local/lib/python3.10/dist-packages (from matplotlib) (1.3.0)\n",
            "Requirement already satisfied: cycler>=0.10 in /usr/local/lib/python3.10/dist-packages (from matplotlib) (0.12.1)\n",
            "Requirement already satisfied: fonttools>=4.22.0 in /usr/local/lib/python3.10/dist-packages (from matplotlib) (4.53.1)\n",
            "Requirement already satisfied: kiwisolver>=1.0.1 in /usr/local/lib/python3.10/dist-packages (from matplotlib) (1.4.7)\n",
            "Requirement already satisfied: pyparsing>=2.3.1 in /usr/local/lib/python3.10/dist-packages (from matplotlib) (3.1.4)\n",
            "Requirement already satisfied: python-dateutil>=2.7 in /usr/local/lib/python3.10/dist-packages (from matplotlib) (2.8.2)\n",
            "Collecting PyMuPDFb==1.24.10 (from pymupdf)\n",
            "  Downloading PyMuPDFb-1.24.10-py3-none-manylinux2014_x86_64.manylinux_2_17_x86_64.whl.metadata (1.4 kB)\n",
            "Requirement already satisfied: six>=1.5 in /usr/local/lib/python3.10/dist-packages (from python-dateutil>=2.7->matplotlib) (1.16.0)\n",
            "Downloading pytesseract-0.3.13-py3-none-any.whl (14 kB)\n",
            "Downloading pdf2image-1.17.0-py3-none-any.whl (11 kB)\n",
            "Downloading PyMuPDF-1.24.10-cp310-none-manylinux2014_x86_64.whl (3.5 MB)\n",
            "\u001b[2K   \u001b[90m━━━━━━━━━━━━━━━━━━━━━━━━━━━━━━━━━━━━━━━━\u001b[0m \u001b[32m3.5/3.5 MB\u001b[0m \u001b[31m14.0 MB/s\u001b[0m eta \u001b[36m0:00:00\u001b[0m\n",
            "\u001b[?25hDownloading PyMuPDFb-1.24.10-py3-none-manylinux2014_x86_64.manylinux_2_17_x86_64.whl (15.9 MB)\n",
            "\u001b[2K   \u001b[90m━━━━━━━━━━━━━━━━━━━━━━━━━━━━━━━━━━━━━━━━\u001b[0m \u001b[32m15.9/15.9 MB\u001b[0m \u001b[31m62.5 MB/s\u001b[0m eta \u001b[36m0:00:00\u001b[0m\n",
            "\u001b[?25hInstalling collected packages: pytesseract, PyMuPDFb, pdf2image, pymupdf\n",
            "Successfully installed PyMuPDFb-1.24.10 pdf2image-1.17.0 pymupdf-1.24.10 pytesseract-0.3.13\n",
            "Requirement already satisfied: nltk in /usr/local/lib/python3.10/dist-packages (3.8.1)\n",
            "Collecting PyPDF2\n",
            "  Downloading pypdf2-3.0.1-py3-none-any.whl.metadata (6.8 kB)\n",
            "Collecting pdfplumber\n",
            "  Downloading pdfplumber-0.11.4-py3-none-any.whl.metadata (41 kB)\n",
            "\u001b[2K     \u001b[90m━━━━━━━━━━━━━━━━━━━━━━━━━━━━━━━━━━━━━━━━\u001b[0m \u001b[32m42.0/42.0 kB\u001b[0m \u001b[31m1.7 MB/s\u001b[0m eta \u001b[36m0:00:00\u001b[0m\n",
            "\u001b[?25hCollecting pycryptodome\n",
            "  Downloading pycryptodome-3.20.0-cp35-abi3-manylinux_2_17_x86_64.manylinux2014_x86_64.whl.metadata (3.4 kB)\n",
            "Requirement already satisfied: click in /usr/local/lib/python3.10/dist-packages (from nltk) (8.1.7)\n",
            "Requirement already satisfied: joblib in /usr/local/lib/python3.10/dist-packages (from nltk) (1.4.2)\n",
            "Requirement already satisfied: regex>=2021.8.3 in /usr/local/lib/python3.10/dist-packages (from nltk) (2024.9.11)\n",
            "Requirement already satisfied: tqdm in /usr/local/lib/python3.10/dist-packages (from nltk) (4.66.5)\n",
            "Collecting pdfminer.six==20231228 (from pdfplumber)\n",
            "  Downloading pdfminer.six-20231228-py3-none-any.whl.metadata (4.2 kB)\n",
            "Requirement already satisfied: Pillow>=9.1 in /usr/local/lib/python3.10/dist-packages (from pdfplumber) (10.4.0)\n",
            "Collecting pypdfium2>=4.18.0 (from pdfplumber)\n",
            "  Downloading pypdfium2-4.30.0-py3-none-manylinux_2_17_x86_64.manylinux2014_x86_64.whl.metadata (48 kB)\n",
            "\u001b[2K     \u001b[90m━━━━━━━━━━━━━━━━━━━━━━━━━━━━━━━━━━━━━━━━\u001b[0m \u001b[32m48.5/48.5 kB\u001b[0m \u001b[31m3.4 MB/s\u001b[0m eta \u001b[36m0:00:00\u001b[0m\n",
            "\u001b[?25hRequirement already satisfied: charset-normalizer>=2.0.0 in /usr/local/lib/python3.10/dist-packages (from pdfminer.six==20231228->pdfplumber) (3.3.2)\n",
            "Requirement already satisfied: cryptography>=36.0.0 in /usr/local/lib/python3.10/dist-packages (from pdfminer.six==20231228->pdfplumber) (43.0.1)\n",
            "Requirement already satisfied: cffi>=1.12 in /usr/local/lib/python3.10/dist-packages (from cryptography>=36.0.0->pdfminer.six==20231228->pdfplumber) (1.17.1)\n",
            "Requirement already satisfied: pycparser in /usr/local/lib/python3.10/dist-packages (from cffi>=1.12->cryptography>=36.0.0->pdfminer.six==20231228->pdfplumber) (2.22)\n",
            "Downloading pypdf2-3.0.1-py3-none-any.whl (232 kB)\n",
            "\u001b[2K   \u001b[90m━━━━━━━━━━━━━━━━━━━━━━━━━━━━━━━━━━━━━━━━\u001b[0m \u001b[32m232.6/232.6 kB\u001b[0m \u001b[31m9.4 MB/s\u001b[0m eta \u001b[36m0:00:00\u001b[0m\n",
            "\u001b[?25hDownloading pdfplumber-0.11.4-py3-none-any.whl (59 kB)\n",
            "\u001b[2K   \u001b[90m━━━━━━━━━━━━━━━━━━━━━━━━━━━━━━━━━━━━━━━━\u001b[0m \u001b[32m59.2/59.2 kB\u001b[0m \u001b[31m4.2 MB/s\u001b[0m eta \u001b[36m0:00:00\u001b[0m\n",
            "\u001b[?25hDownloading pdfminer.six-20231228-py3-none-any.whl (5.6 MB)\n",
            "\u001b[2K   \u001b[90m━━━━━━━━━━━━━━━━━━━━━━━━━━━━━━━━━━━━━━━━\u001b[0m \u001b[32m5.6/5.6 MB\u001b[0m \u001b[31m75.2 MB/s\u001b[0m eta \u001b[36m0:00:00\u001b[0m\n",
            "\u001b[?25hDownloading pycryptodome-3.20.0-cp35-abi3-manylinux_2_17_x86_64.manylinux2014_x86_64.whl (2.1 MB)\n",
            "\u001b[2K   \u001b[90m━━━━━━━━━━━━━━━━━━━━━━━━━━━━━━━━━━━━━━━━\u001b[0m \u001b[32m2.1/2.1 MB\u001b[0m \u001b[31m78.0 MB/s\u001b[0m eta \u001b[36m0:00:00\u001b[0m\n",
            "\u001b[?25hDownloading pypdfium2-4.30.0-py3-none-manylinux_2_17_x86_64.manylinux2014_x86_64.whl (2.8 MB)\n",
            "\u001b[2K   \u001b[90m━━━━━━━━━━━━━━━━━━━━━━━━━━━━━━━━━━━━━━━━\u001b[0m \u001b[32m2.8/2.8 MB\u001b[0m \u001b[31m89.1 MB/s\u001b[0m eta \u001b[36m0:00:00\u001b[0m\n",
            "\u001b[?25hInstalling collected packages: pypdfium2, PyPDF2, pycryptodome, pdfminer.six, pdfplumber\n",
            "Successfully installed PyPDF2-3.0.1 pdfminer.six-20231228 pdfplumber-0.11.4 pycryptodome-3.20.0 pypdfium2-4.30.0\n",
            "Requirement already satisfied: pdfplumber in /usr/local/lib/python3.10/dist-packages (0.11.4)\n",
            "Requirement already satisfied: pdfminer.six==20231228 in /usr/local/lib/python3.10/dist-packages (from pdfplumber) (20231228)\n",
            "Requirement already satisfied: Pillow>=9.1 in /usr/local/lib/python3.10/dist-packages (from pdfplumber) (10.4.0)\n",
            "Requirement already satisfied: pypdfium2>=4.18.0 in /usr/local/lib/python3.10/dist-packages (from pdfplumber) (4.30.0)\n",
            "Requirement already satisfied: charset-normalizer>=2.0.0 in /usr/local/lib/python3.10/dist-packages (from pdfminer.six==20231228->pdfplumber) (3.3.2)\n",
            "Requirement already satisfied: cryptography>=36.0.0 in /usr/local/lib/python3.10/dist-packages (from pdfminer.six==20231228->pdfplumber) (43.0.1)\n",
            "Requirement already satisfied: cffi>=1.12 in /usr/local/lib/python3.10/dist-packages (from cryptography>=36.0.0->pdfminer.six==20231228->pdfplumber) (1.17.1)\n",
            "Requirement already satisfied: pycparser in /usr/local/lib/python3.10/dist-packages (from cffi>=1.12->cryptography>=36.0.0->pdfminer.six==20231228->pdfplumber) (2.22)\n",
            "Requirement already satisfied: nltk in /usr/local/lib/python3.10/dist-packages (3.8.1)\n",
            "Collecting sentence-transformers\n",
            "  Downloading sentence_transformers-3.1.1-py3-none-any.whl.metadata (10 kB)\n",
            "Requirement already satisfied: scikit-learn in /usr/local/lib/python3.10/dist-packages (1.5.2)\n",
            "Requirement already satisfied: click in /usr/local/lib/python3.10/dist-packages (from nltk) (8.1.7)\n",
            "Requirement already satisfied: joblib in /usr/local/lib/python3.10/dist-packages (from nltk) (1.4.2)\n",
            "Requirement already satisfied: regex>=2021.8.3 in /usr/local/lib/python3.10/dist-packages (from nltk) (2024.9.11)\n",
            "Requirement already satisfied: tqdm in /usr/local/lib/python3.10/dist-packages (from nltk) (4.66.5)\n",
            "Requirement already satisfied: transformers<5.0.0,>=4.38.0 in /usr/local/lib/python3.10/dist-packages (from sentence-transformers) (4.44.2)\n",
            "Requirement already satisfied: torch>=1.11.0 in /usr/local/lib/python3.10/dist-packages (from sentence-transformers) (2.4.1+cu121)\n",
            "Requirement already satisfied: scipy in /usr/local/lib/python3.10/dist-packages (from sentence-transformers) (1.13.1)\n",
            "Requirement already satisfied: huggingface-hub>=0.19.3 in /usr/local/lib/python3.10/dist-packages (from sentence-transformers) (0.24.7)\n",
            "Requirement already satisfied: Pillow in /usr/local/lib/python3.10/dist-packages (from sentence-transformers) (10.4.0)\n",
            "Requirement already satisfied: numpy>=1.19.5 in /usr/local/lib/python3.10/dist-packages (from scikit-learn) (1.26.4)\n",
            "Requirement already satisfied: threadpoolctl>=3.1.0 in /usr/local/lib/python3.10/dist-packages (from scikit-learn) (3.5.0)\n",
            "Requirement already satisfied: filelock in /usr/local/lib/python3.10/dist-packages (from huggingface-hub>=0.19.3->sentence-transformers) (3.16.1)\n",
            "Requirement already satisfied: fsspec>=2023.5.0 in /usr/local/lib/python3.10/dist-packages (from huggingface-hub>=0.19.3->sentence-transformers) (2024.6.1)\n",
            "Requirement already satisfied: packaging>=20.9 in /usr/local/lib/python3.10/dist-packages (from huggingface-hub>=0.19.3->sentence-transformers) (24.1)\n",
            "Requirement already satisfied: pyyaml>=5.1 in /usr/local/lib/python3.10/dist-packages (from huggingface-hub>=0.19.3->sentence-transformers) (6.0.2)\n",
            "Requirement already satisfied: requests in /usr/local/lib/python3.10/dist-packages (from huggingface-hub>=0.19.3->sentence-transformers) (2.32.3)\n",
            "Requirement already satisfied: typing-extensions>=3.7.4.3 in /usr/local/lib/python3.10/dist-packages (from huggingface-hub>=0.19.3->sentence-transformers) (4.12.2)\n",
            "Requirement already satisfied: sympy in /usr/local/lib/python3.10/dist-packages (from torch>=1.11.0->sentence-transformers) (1.13.3)\n",
            "Requirement already satisfied: networkx in /usr/local/lib/python3.10/dist-packages (from torch>=1.11.0->sentence-transformers) (3.3)\n",
            "Requirement already satisfied: jinja2 in /usr/local/lib/python3.10/dist-packages (from torch>=1.11.0->sentence-transformers) (3.1.4)\n",
            "Requirement already satisfied: safetensors>=0.4.1 in /usr/local/lib/python3.10/dist-packages (from transformers<5.0.0,>=4.38.0->sentence-transformers) (0.4.5)\n",
            "Requirement already satisfied: tokenizers<0.20,>=0.19 in /usr/local/lib/python3.10/dist-packages (from transformers<5.0.0,>=4.38.0->sentence-transformers) (0.19.1)\n",
            "Requirement already satisfied: MarkupSafe>=2.0 in /usr/local/lib/python3.10/dist-packages (from jinja2->torch>=1.11.0->sentence-transformers) (2.1.5)\n",
            "Requirement already satisfied: charset-normalizer<4,>=2 in /usr/local/lib/python3.10/dist-packages (from requests->huggingface-hub>=0.19.3->sentence-transformers) (3.3.2)\n",
            "Requirement already satisfied: idna<4,>=2.5 in /usr/local/lib/python3.10/dist-packages (from requests->huggingface-hub>=0.19.3->sentence-transformers) (3.10)\n",
            "Requirement already satisfied: urllib3<3,>=1.21.1 in /usr/local/lib/python3.10/dist-packages (from requests->huggingface-hub>=0.19.3->sentence-transformers) (2.2.3)\n",
            "Requirement already satisfied: certifi>=2017.4.17 in /usr/local/lib/python3.10/dist-packages (from requests->huggingface-hub>=0.19.3->sentence-transformers) (2024.8.30)\n",
            "Requirement already satisfied: mpmath<1.4,>=1.1.0 in /usr/local/lib/python3.10/dist-packages (from sympy->torch>=1.11.0->sentence-transformers) (1.3.0)\n",
            "Downloading sentence_transformers-3.1.1-py3-none-any.whl (245 kB)\n",
            "\u001b[2K   \u001b[90m━━━━━━━━━━━━━━━━━━━━━━━━━━━━━━━━━━━━━━━━\u001b[0m \u001b[32m245.3/245.3 kB\u001b[0m \u001b[31m1.7 MB/s\u001b[0m eta \u001b[36m0:00:00\u001b[0m\n",
            "\u001b[?25hInstalling collected packages: sentence-transformers\n",
            "Successfully installed sentence-transformers-3.1.1\n",
            "Collecting python-Levenshtein\n",
            "  Downloading python_Levenshtein-0.26.0-py3-none-any.whl.metadata (3.7 kB)\n",
            "Collecting Levenshtein==0.26.0 (from python-Levenshtein)\n",
            "  Downloading levenshtein-0.26.0-cp310-cp310-manylinux_2_17_x86_64.manylinux2014_x86_64.whl.metadata (3.2 kB)\n",
            "Collecting rapidfuzz<4.0.0,>=3.9.0 (from Levenshtein==0.26.0->python-Levenshtein)\n",
            "  Downloading rapidfuzz-3.10.0-cp310-cp310-manylinux_2_17_x86_64.manylinux2014_x86_64.whl.metadata (11 kB)\n",
            "Downloading python_Levenshtein-0.26.0-py3-none-any.whl (9.4 kB)\n",
            "Downloading levenshtein-0.26.0-cp310-cp310-manylinux_2_17_x86_64.manylinux2014_x86_64.whl (162 kB)\n",
            "\u001b[2K   \u001b[90m━━━━━━━━━━━━━━━━━━━━━━━━━━━━━━━━━━━━━━━━\u001b[0m \u001b[32m162.6/162.6 kB\u001b[0m \u001b[31m2.0 MB/s\u001b[0m eta \u001b[36m0:00:00\u001b[0m\n",
            "\u001b[?25hDownloading rapidfuzz-3.10.0-cp310-cp310-manylinux_2_17_x86_64.manylinux2014_x86_64.whl (3.1 MB)\n",
            "\u001b[2K   \u001b[90m━━━━━━━━━━━━━━━━━━━━━━━━━━━━━━━━━━━━━━━━\u001b[0m \u001b[32m3.1/3.1 MB\u001b[0m \u001b[31m21.4 MB/s\u001b[0m eta \u001b[36m0:00:00\u001b[0m\n",
            "\u001b[?25hInstalling collected packages: rapidfuzz, Levenshtein, python-Levenshtein\n",
            "Successfully installed Levenshtein-0.26.0 python-Levenshtein-0.26.0 rapidfuzz-3.10.0\n"
          ]
        }
      ]
    },
    {
      "cell_type": "markdown",
      "id": "437c4cf0",
      "metadata": {
        "id": "437c4cf0"
      },
      "source": [
        "\n",
        "# Project IA-Cognition\n",
        "\n",
        "This notebook is part of the **A content based recommender system on Risk Mangement** project. The goal of this project is to analyze textual data, extract meaningful features, and evaluate the relevance of extracted concepts using various natural language processing techniques. The project includes cleaning data, extracting attributes and relations from text, calculating term frequencies, and evaluating the performance of feature extraction.\n",
        "\n",
        "This notebook is organized as follows:\n",
        "1. **Data Extraction**\n",
        "2. **Data Segmentation**\n",
        "3. **Concept and Relationship Identification**\n",
        "4. **Process Evaluation**\n"
      ]
    },
    {
      "cell_type": "markdown",
      "id": "1c27de53",
      "metadata": {
        "id": "1c27de53"
      },
      "source": [
        "# Imports"
      ]
    },
    {
      "cell_type": "code",
      "execution_count": null,
      "id": "78f65b6c",
      "metadata": {
        "id": "78f65b6c",
        "colab": {
          "base_uri": "https://localhost:8080/"
        },
        "outputId": "e3bd6150-7e14-4f65-8f4a-30c0e32d87b8"
      },
      "outputs": [
        {
          "output_type": "stream",
          "name": "stderr",
          "text": [
            "/usr/local/lib/python3.10/dist-packages/sentence_transformers/cross_encoder/CrossEncoder.py:13: TqdmExperimentalWarning: Using `tqdm.autonotebook.tqdm` in notebook mode. Use `tqdm.tqdm` instead to force console mode (e.g. in jupyter console)\n",
            "  from tqdm.autonotebook import tqdm, trange\n"
          ]
        }
      ],
      "source": [
        "# Data Handling\n",
        "import pandas as pd\n",
        "import numpy as np\n",
        "\n",
        "# PDF Processing\n",
        "import pdfplumber\n",
        "import fitz\n",
        "from pdf2image import convert_from_path\n",
        "\n",
        "# Image Processing\n",
        "from PIL import Image, ImageEnhance, ImageFilter\n",
        "import cv2\n",
        "import pytesseract\n",
        "\n",
        "# Text Processing\n",
        "import re\n",
        "import unicodedata\n",
        "import nltk\n",
        "from nltk.corpus import stopwords\n",
        "from nltk.tokenize import word_tokenize, sent_tokenize\n",
        "from nltk.stem import WordNetLemmatizer\n",
        "from nltk import RegexpParser\n",
        "from nltk.probability import FreqDist\n",
        "from collections import Counter, defaultdict\n",
        "\n",
        "# Natural Language Processing\n",
        "import spacy\n",
        "from sentence_transformers import SentenceTransformer\n",
        "from nltk.parse.corenlp import CoreNLPDependencyParser\n",
        "\n",
        "# Machine Learning\n",
        "from sklearn.feature_extraction.text import TfidfVectorizer\n",
        "from sklearn.metrics import precision_score, recall_score, f1_score\n",
        "from sklearn.preprocessing import MultiLabelBinarizer\n",
        "from sklearn.metrics.pairwise import cosine_similarity\n",
        "\n",
        "# String Distance\n",
        "import Levenshtein\n",
        "from Levenshtein import distance as levenshtein_distance\n",
        "\n",
        "# Concurrent Processing\n",
        "import concurrent.futures\n",
        "\n",
        "# Visualization\n",
        "import matplotlib.pyplot as plt\n"
      ]
    },
    {
      "cell_type": "markdown",
      "source": [
        "\n",
        "# Data Extraction\n",
        "\n"
      ],
      "metadata": {
        "id": "oja9wnQ2Ta0J"
      },
      "id": "oja9wnQ2Ta0J"
    },
    {
      "cell_type": "code",
      "source": [
        "# Download NLTK data (if not already downloaded)\n",
        "nltk.download('stopwords', quiet=True)\n",
        "nltk.download('punkt', quiet=True)\n",
        "nltk.download('wordnet', quiet=True)\n",
        "nltk.download('averaged_perceptron_tagger', quiet=True)\n",
        "nltk.download('maxent_ne_chunker', quiet=True)\n",
        "nltk.download('words', quiet=True)\n"
      ],
      "metadata": {
        "colab": {
          "base_uri": "https://localhost:8080/"
        },
        "id": "ixzo43tv2wk_",
        "outputId": "5bff3ca7-2260-420d-a266-9e061ae206f6"
      },
      "id": "ixzo43tv2wk_",
      "execution_count": null,
      "outputs": [
        {
          "output_type": "execute_result",
          "data": {
            "text/plain": [
              "True"
            ]
          },
          "metadata": {},
          "execution_count": 4
        }
      ]
    },
    {
      "cell_type": "code",
      "source": [
        "\n",
        "# Define the path to your PDF file\n",
        "pdf_path = '/content/drive/MyDrive/PI/practice-standard-project-risk-management.pdf'"
      ],
      "metadata": {
        "id": "XCNZlODl20V3"
      },
      "id": "XCNZlODl20V3",
      "execution_count": null,
      "outputs": []
    },
    {
      "cell_type": "code",
      "source": [
        "# Initialize a list to store text from all pages\n",
        "extracted_text = []"
      ],
      "metadata": {
        "id": "Utu1yhfb23AQ"
      },
      "id": "Utu1yhfb23AQ",
      "execution_count": null,
      "outputs": []
    },
    {
      "cell_type": "code",
      "source": [
        "nltk.download('stopwords')\n",
        "\n",
        "# Load the default English stopwords\n",
        "stop_words = set(stopwords.words('english'))\n",
        "\n",
        "# Define your custom stop words\n",
        "custom_stop_words = {\n",
        "    # Articles\n",
        "    'a', 'an', 'the',\n",
        "\n",
        "    # Prepositions\n",
        "    'in', 'on', 'at', 'by', 'for', 'with', 'of',\n",
        "\n",
        "    # Conjunctions\n",
        "    'and', 'or', 'but', 'if',\n",
        "\n",
        "    # Pronouns\n",
        "    'i', 'you', 'he', 'she', 'it', 'we', 'they', 'this', 'that',\n",
        "\n",
        "    # Common Verbs\n",
        "    'is', 'are', 'was', 'were', 'be', 'been', 'have', 'has', 'do', 'does',\n",
        "\n",
        "    # Adverbs\n",
        "    'very', 'so', 'just',\n",
        "\n",
        "    # Quantifiers\n",
        "    'all', 'some', 'many', 'most',\n",
        "\n",
        "    # Additional Words\n",
        "    'other', 'chapter', 'appendix',\n",
        "\n",
        "    # Single Letters\n",
        "    'b', 'c', 'd', 'e', 'f', 'g', 'h', 'i', 'j', 'k', 'l',\n",
        "    'm', 'n', 'o', 'p', 'q', 'r', 's', 't', 'u', 'v', 'w', 'x', 'y', 'z',\n",
        "\n",
        "    # Specific Words and Numbers\n",
        "    '2009', 'to', 'can', 'may', 'of','.'\n",
        "}\n",
        "\n",
        "# Update the NLTK stopwords with the custom stopwords\n",
        "stop_words.update(custom_stop_words)"
      ],
      "metadata": {
        "colab": {
          "base_uri": "https://localhost:8080/"
        },
        "id": "Shwx4Agj2_s2",
        "outputId": "c26383e7-084a-48e2-90d7-744b352a3707"
      },
      "id": "Shwx4Agj2_s2",
      "execution_count": null,
      "outputs": [
        {
          "output_type": "stream",
          "name": "stderr",
          "text": [
            "[nltk_data] Downloading package stopwords to /root/nltk_data...\n",
            "[nltk_data]   Package stopwords is already up-to-date!\n"
          ]
        }
      ]
    },
    {
      "cell_type": "code",
      "source": [
        "# Initialize the WordNet lemmatizer\n",
        "lemmatizer = WordNetLemmatizer()"
      ],
      "metadata": {
        "id": "hBH3-Enr5jxn"
      },
      "id": "hBH3-Enr5jxn",
      "execution_count": null,
      "outputs": []
    },
    {
      "cell_type": "code",
      "source": [
        "def clean_text(text):\n",
        "    # Normalize unicode characters (remove accents)\n",
        "    text = unicodedata.normalize('NFKD', text).encode('ASCII', 'ignore').decode('utf-8')\n",
        "    # Convert text to lowercase\n",
        "    text = text.lower()\n",
        "    # Remove ellipses (sequences of three or more periods)\n",
        "    text = re.sub(r'\\.{3,}', ' ', text)\n",
        "    # Remove any other unwanted patterns\n",
        "    # Remove digits\n",
        "    # text = re.sub(r'\\d+', '', text)\n",
        "    # Remove punctuation and special characters except spaces\n",
        "    text = re.sub(r'[^\\w\\s]', '', text)\n",
        "    # Remove multiple spaces\n",
        "    text = re.sub(r'\\s+', ' ', text)\n",
        "    text = re.sub(r'[^\\x00-\\x7F]+', '', text)  # Removes any non-ASCII characters\n",
        "    # Strip leading and trailing spaces\n",
        "    text = text.strip()\n",
        "\n",
        "    return text"
      ],
      "metadata": {
        "id": "6LC4U6GP5lmJ"
      },
      "id": "6LC4U6GP5lmJ",
      "execution_count": null,
      "outputs": []
    },
    {
      "cell_type": "code",
      "execution_count": null,
      "id": "54477dfa",
      "metadata": {
        "colab": {
          "base_uri": "https://localhost:8080/"
        },
        "id": "54477dfa",
        "outputId": "9adc53c1-af35-45d5-d417-0ec71cb5369b"
      },
      "outputs": [
        {
          "output_type": "stream",
          "name": "stdout",
          "text": [
            "--- Page 20 ---\n",
            "No text found on this page.\n",
            "\n",
            "--- Page 30 ---\n",
            "No text found on this page.\n",
            "\n",
            "--- Page 36 ---\n",
            "No text found on this page.\n",
            "\n",
            "--- Page 42 ---\n",
            "No text found on this page.\n",
            "\n",
            "--- Page 48 ---\n",
            "No text found on this page.\n",
            "\n",
            "--- Page 68 ---\n",
            "No text found on this page.\n",
            "\n",
            "--- Page 70 ---\n",
            "No text found on this page.\n",
            "\n",
            "--- Page 80 ---\n",
            "No text found on this page.\n",
            "\n",
            "--- Page 118 ---\n",
            "No text found on this page.\n",
            "\n",
            "Sentence 1: 1 chapter 1 introduction p roject management institute pmi practice standards are guides to the use of a tool technique or process identifi ed in a guide to the project management body of knowledge pmbok g uide fourth edition or other pmi standards practice standards are targeted at audiences who participate in the management of projects this includes project managers project personnel contract personnel supervisors and other project stakeholders a pmi practice standard describes processes activities inputs and outputs for a specifi c knowledge area it provides information on what the signifi cant process tool or technique is what it does why it is signifi cant when it should be performed or executed and if necessary for further clarifi cation who should perform the process a practice standard does not prescribe how the process is to be implemented leaving that subject for other forums such as handbooks manuals and courses this chapter includes the following sections 11 purpose of the practice standard for project risk management 12 project risk management defi nition 13 role of project risk management in project management 14 good risk management practice 15 critical success factors for project risk management 2009 project management institute practice standard for project risk management 1 1 chapter 1 introduction 11 purpose of the practice standard for project risk management t he purpose of the practice standard for project risk management is to a provide a standard for project management practitioners and other stakeholders that defi nes the aspects of project risk management that are recognized as good practice on most projects most of the time and b provide a standard that is globally applicable and consistently applied this practice standard has a descriptive purpose rather than one used for training or educational purposes the practice standard for project risk management covers risk management as it is applied to single projects only like the p mbok guide fourth edition this practice standard does not cover risk in programs or portfolios of projects c hapter 11 of the p mbok guide fourth edition is the basis for the p ractice standard for project risk management this practice standard is consistent with that chapter emphasizing the concepts and principles relating to project risk management it is aligned with other pmi practice standards figure 11 compares the purposes of this practice standard to those of the p mbok g uide fourth edition and textbooks handbooks and courses figure 11 hierarchy of pmi project risk management resources 2009 project management institute practice standard for project risk management 2 1 chapter 1 introduction this practice standard is organized in three main sections 1 i ntroductory material including the framework purpose principles context of and introduction to project risk management processes as defi ned in the pmbok guide fourth edition 2 principles underlying the six project risk management processes in the p mbok g uide fourth edition the six processes are as follows plan risk management identify risks perform qualitative risk analysis perform quantitative risk analysis plan risk responses and monitor and control risks e ach of these six processes is described in a chapter that addresses the following four topics a purpose and objectives of the process b critical success factors for the process c tools and techniques for the process and d documenting the results of the process 3 a glossary of terms which are used in this practice standard t his practice standard emphasizes those principles that are fundamental to effective comprehensive and successful project risk management these principles can and should be stated at a general level for several reasons 1 p rinciples are expected to be agreed upon now and to be valid in the future while tools and techniques are constantly evolving the principles have more stability and persistence 2 different projects organizations and situations will require different approaches to project risk management in particular risk management is a discipline that contains a series of processes to apply to both large and small projects risk management will be more effective if its practice is tailored to the project and congruent with the organizational culture processes and assets there are many different ways of conducting risk management that may comply with the principles of project risk management as presented in this practice standard 3 the principles are applicable to projects carried out in a global context refl ecting the many business and organizational arrangements between participants for example joint ventures between commercial and national companies government and nongovernment organizations and the crosscultural environment often found on these project teams t he principles described herein can be used as a check for an organizations processes practitioners can establish processes specifi c to their particular situation project or organization and then compare them with these principles thus validating them against good project risk management practice 2009 project management institute practice standard for project risk management 3 1 chapter 1 introduction 12 project risk management defi nition t he defi nition of project risk management as defi ned in the p mbok guide fourth edition is the basis for this practice standard project risk management includes the processes concerned with conducting risk management planning identifi cation analysis responses and monitoring and control on a project the pmbok guide fourth edition also states the objectives of project risk management are to increase the probability and impact of positive events and decrease the probability and impact of negative events in the project in the pmbok g uide fourth edition project risk is an uncertain event or condition that if it occurs has a positive or negative effect on a projects objectives project objectives include scope schedule cost and quality project risk management aims to identify and prioritize risks in advance of their occurrence and provide actionoriented information to project managers this orientation requires consideration of events that may or may not occur and are therefore described in terms of likelihood or probability of occurrence in addition to other dimensions such as their impact on objectives 13 role of project risk management in project management p roject risk management is not an optional activity it is essential to successful project management it should be applied to all projects and hence be included in project plans and operational documents in this way it becomes an integral part of every aspect of managing the project in every phase and in every process group many of the project management processes address planning the project from concept to fi nal design and from procurement through daily management of execution and closeout these processes often assume an unrealistic degree of certainty about the project and therefore they need to include treatment of project risks project risk management addresses the uncertainty in project estimates and assumptions therefore it builds upon and extends other project management processes for instance project scheduling provides dates and critical paths based on activity durations and resource availability assumed to be known with certainty quantitative risk analysis explores the uncertainty in the estimated durations and may provide alternative dates and critical paths that are more realistic given the risks to the project project risk management is not a substitute for the other project management processes on the contrary project risk management requires that these project management processes eg scheduling budgeting and change management be performed at the level of the best practices available project risk management adds the perspective of project risk to the outputs of those other processes and adds to their value by taking risk into account for instance risk management provides the basis upon which to estimate the amount of cost and schedule contingency reserves that are needed to cover risk response actions to a required level of confi dence for meeting project objectives 2009 project management institute practice standard for project risk management 4 1 chapter 1 introduction there is a paradox about project risk that affects most projects in the early stages of a project the level of risk exposure is at its maximum but information on the project risks is at a minimum this situation does not mean that a project should not go forward because little is known at that time rather there may be different ways of approaching the project that have different risk implications the more this situation is recognized the more realistic the project plans and expectations of results will be a risk management approach is applicable throughout a projects life cycle the earlier in the project life cycle that the risks are recognized the more realistic the project plans and expectations of results will be risk management continues to add value as project planning progresses and more information becomes available about all aspects and components of the project and its environment such as stakeholders scope time and cost as well as the corresponding assumptions and constraints the balance between project fl exibility and knowledge about project risk needs to be reviewed regularly and optimized as the plans develop i t is true that as the project plan becomes set with fundamental decisions agreements and contracts in place the options for making substantial changes to capture opportunities or mitigate threats are reduced during project execution risk management processes monitor the changes the project undergoes for new risks that may emerge so that appropriate responses to them can be developed as well as check for existing risks that are no longer plausible project risk management plays a role in providing realistic expectations for the completion dates and cost of the project even if there are few options for changing the future f inally throughout the project and during project closure riskrelated lessons are reviewed in order to contribute to organizational learning and support continuous improvement of project risk management practice 14 good risk management practice p roject risk management is a valuable component of project management and it enhances the value of the other project management processes as with all of these processes project risk management should be conducted in a manner consistent with existing organizational practices and policies in addition like the other processes involved in project management project risk management should be conducted in a way that is appropriate to the project project risk management should recognize the business challenges as well as the multicultural environment associated with an increasingly global environment including many joint venture projects and customers suppliers and workforces spread around the globe changes in the project management plan that result from the project risk management process may require decisions at the appropriate level of management to reassign personnel establish or modify budgets make commitments to others outside the project interact with regulators and comply with the rules of accounting and law project risk management should be conducted in compliance with these internal and external requirements 2009 project management institute practice standard for project risk management 5 1 chapter 1 introduction project risk management should always be conducted on an ethical basis in keeping with the project management code of ethics or conduct honesty responsibility realism professionalism and fair dealing with others are among the characteristics of successful project risk management effective project risk management benefi ts from robust communication and consultation with stakeholders this enables agreement among stakeholders that project risk management in general and risk identifi cation analysis and response in particular should be carried out in a realistic and objective way and should not be subject to political or other unreasonable infl uences project risk management should be conducted on all projects the degree level of detail sophistication of tools and amount of time and resources applied to project risk management should be in proportion to the characteristics of the project under management and the value that they can add to the outcome thus a large project that provides value to an important customer would theoretically require more resources time and attention to project risk management than would a smaller shortterm internal project that can be conducted in the background with a fl exible deadline e ach of the project risk management processes should be scaled to be appropriate to the project under management during the plan risk management process and reviewed periodically to determine if the decisions made in that process remain appropriate 15 critical success factors for project risk management figure 12 critical success factors for project risk management 2009 project management institute practice standard for project risk management 6 1 chapter 1 introduction s pecifi c criteria for success of each project risk management process are listed in the chapters dealing with those processes the general criteria for success include recognize the value of risk management project risk management should be recognized as a valuable discipline that provides a positive potential return on investment for organizational management project stakeholders both internal and external project management and team members individual commitmentresponsibility project participants and stakeholders should all accept responsibility for undertaking riskrelated activities as required risk management is everybodys responsibility open and honest communication everyone should be involved in the project risk management process any actions or attitudes that hinder communication about project risk reduce the effectiveness of project risk management in terms of proactive approaches and effective decisionmaking organizational commitment organizational commitment can only be established if risk management is aligned with the organizations goals and values project risk management may require a higher level of managerial support than other project management disciplines because handling some of the risks will require approval of or responses from others at levels above the project manager risk effort scaled to project project risk management activities should be consistent with the value of the project to the organization and with its level of project risk its scale and other organizational constraints in particular the cost of project risk management should be appropriate to its potential value to the project and the organization integration with project management project risk management does not exist in a vacuum isolated from other project management processes successful project risk management requires the correct execution of the other project management processes these critical success factors for project risk management are illustrated in figure 12 16 conclusion t he principles of project risk management described in this practice standard should be appropriately applied based on the specifi cs of a project and the organizational environment project risk management provides benefi ts when it is implemented according to good practice principles and with organizational commitment to taking the decisions and performing actions in an open and unbiased manner 2009 project management institute practice standard for project risk management 7 2 chapter 2 principles and concepts 21 introduction t his chapter introduces the key ideas required to understand and apply project risk management to projects following the approach described in chapter 11 of the p mbok guide fourth edition these principles and concepts are generally consistent with other approaches to project risk management commonly used although the terminology may differ in some details the execution of the project risk management process is dealt with in subsequent chapters of this practice standard and so is not discussed here 22 defi nition of project risk the word risk is used in many ways in everyday language and in various specialist disciplines its use in the p mbok g uide fourth edition is consistent with other risk management standards and process descriptions the defi nition of project risk given in the pmbok guide fourth edition is as follows p roject risk is an uncertain event or condition that if it occurs has a positive or a negative effect on a projects objectives t his defi nition includes two key dimensions of risk uncertainty and effect on a projects objectives when assessing the importance of a project risk these two dimensions must both be considered the uncertainty dimension may be described using the term probability and the effect may be called impact though other descriptors are possible such as likelihood and consequence t he defi nition of risk includes both distinct events which are uncertain but can be clearly described and more general conditions which are less specifi c but also may give risk to uncertainty t he defi nition of project risk also encompasses uncertain events which could have a negative effect on a projects objectives as well as those which could have a positive effect these two types of risk are called respectively threats and opportunities it is important to address both threats and opportunities within a unifi ed project risk management process this allows for the gain of synergies and effi ciencies such as addressing both in the same analyses and coordinating the responses to both if they overlap or can reinforce each other 2009 project management institute practice standard for project risk management 9 2 chapter 2 principles and concepts r isks are uncertain future events or conditions which may or may not occur but which would matter if they did occur it is important to distinguish risks from riskrelated features such as cause and effect causes are events or circumstances which currently exist or are certain to exist in the future and which might give rise to risks effects are conditional future events or conditions which would directly affect one or more project objectives if the associated risk occurs the causeriskeffect chain can be used in a structured risk statement or risk description to ensure that each of these three elements is properly described see section 53 when a risk event occurs it ceases to become uncertain threats which occur may be called issues or problems opportunities which occur may be called benefi ts both issuesproblems and benefi ts entail project management actions that are outside the scope of the project risk management process 23 individual risks and overall project risk it is useful to consider project risk at two levels individual risks and overall project risk i ndividual risks are specifi c events or conditions that might affect project objectives an individual risk may positively or negatively affect one or more of the project objectives elements or tasks understanding individual risks can assist in determining how to apply effort and resources to enhance the chances of project success daytoday project risk management focuses on these individual risks in order to enhance the prospects of a successful project outcome o verall project risk represents the effect of uncertainty on the project as a whole overall project risk is more than the sum of individual risks on a project since it applies to the whole project rather than to individual elements or tasks it represents the exposure of stakeholders to the implications of variations in project outcome it is an important component of strategic decisionmaking program and portfolio management and project governance where investments are sanctioned or cancelled and priorities are set at these higher levels it is necessary to set realistic targets for the cost and duration of a project establish the contingency reserve levels required to protect the project stakeholders set appropriate project priorities and judge whether the risk of overall success is increasing or decreasing as implementation advances 24 stakeholder risk attitudes t he risk attitudes of the project stakeholders determine the extent to which an individual risk or overall project risk matters a wide range of factors infl uence risk attitude these include the scale of the project within the range of stakeholders overall activities the strength of public commitments made about the performance of the project and the stakeholders sensitivity to issues such as environmental impacts industrial relations and other factors stakeholder risk attitudes usually result in a desire for increased certainty in project outcomes and may express a preference for one project objective over another how risk is regarded is usually also strongly infl uenced by an organizations culture different organizations are more or less open and this often impacts the way risk management can be applied 2009 project management institute practice standard for project risk management 10 2 chapter 2 principles and concepts understanding stakeholders attitudes toward risk is an important component of risk management planning that precedes risk identifi cation and analysis in order to optimize both project success and stakeholder satisfaction with the projects results these attitudes should be identifi ed and managed proactively and deliberately throughout the project risk management process they may differ from one project to another for the same stakeholders and will usually differ from one group of stakeholders to another in fact a single stakeholder may adopt different risk attitudes at various stages in the same project i t is also important to understand the particular implications of stakeholder risk attitudes on projects where the team is international crossindustry or multiorganizational 25 iterative process it is the nature of projects that circumstances change as they are being planned and executed the amount of information available about risks will usually increase as time goes on some risks will occur while others will not new risks will arise or be discovered and the characteristics of those already identifi ed may change as a result the project risk management processes should be repeated and the corresponding plans progressively elaborated throughout the lifetime of the project t o ensure that project risk management remains effective the identifi cation and analysis of risks should be revisited periodically the progress on risk response actions should be monitored and the action plans adjusted accordingly if external circumstances change signifi cantly it may also be necessary to revisit the risk management planning process the development of an initial risk management plan and risk assessment is the start of the process not the end the frequency and depth of reviews and updates will depend on the nature of the project the volatility of the environment in which the project is being implemented and the timing of other project management reviews and updates 26 communication p roject risk management cannot take place in isolation success relies heavily on communication throughout the process r isk identifi cation and analysis depend on comprehensive input from stakeholders in a project to ensure that nothing signifi cant is overlooked and that risks are realistically assessed the credibility of the process and the commitment of those who should act to manage risks can be assured only if the way the process operates and the conclusions it produces are understood and seen as credible by all concerned this demands effective and honest communication from the project risk management process to the rest of the project team and other project stakeholders communication of the results of the project risk management process should be targeted to meet the specifi c needs of each stakeholder and should be refl ected within the overall project communications strategy with each stakeholders responsibility and role in risk management identifi ed and agreedupon 2009 project management institute practice standard for project risk management 11 2 chapter 2 principles and concepts 27 responsibility for project risk management it may be considered simplistic to say risk management is everyones responsibility as previously stated however it is important that management of project risk is not left to a few risk specialists project risk management should be included as an integral part of all other project processes since project risks can affect project objectives anyone with an interest in achieving those objectives should play a role in project risk management the specifi c roles depend on the project team members and other stakeholders place within the project and their relation to project objectives roles and responsibilities for project risk management should be clearly defi ned and communicated and individuals should be held responsible and accountable for results this includes allocating responsibility for specifi c activities within the risk process as well as for resulting actions required to implement agreedupon responses responsibility should also be allocated for ensuring that riskrelated lessons are captured for future use 28 project managers role for project risk management the project manager has particular responsibilities in relation to the project risk management process the project manager has overall responsibility for delivering a successful project which fully meets the defi ned objectives the project manager is accountable for the daytoday management of the project including effective risk management the role of the project manager may include cid129 encouraging senior management support for project risk management activities cid129 determining the acceptable levels of risk for the project in consultation with stakeholders cid129 developing and approving the risk management plan cid129 promoting the project risk management process for the project cid129 facilitating open and honest communication about risk within the project team and with management and other stakeholders cid129 participating in all aspects of the project risk management process cid129 approving risk responses and associated actions prior to implementation cid129 applying project contingency funds to deal with identifi ed risks that occur during the project cid129 overseeing risk management by subcontractors and suppliers cid129 r egularly reporting risk status to key stakeholders with recommendations for appropriate strategic decisions and actions to maintain acceptable risk exposure cid129 escalating identifi ed risks to senior management where appropriate such risks include any which are outside the authority or control of the project manager any which require input or action from outside the project and any for which the release of management reserve funds might be appropriate cid129 monitoring the effi ciency and effectiveness of the project risk management process cid129 auditing risk responses for their effectiveness and documenting lessons learned 2009 project management institute practice standard for project risk management 12 3 chapter 3 introduction to project risk management processes 31 project risk management and project management all projects are uncertain uncertainty is inevitable since projects are unique and temporary undertakings based on assumptions and constraints delivering project results to multiple stakeholders with different requirements project management can be seen as an attempt to control this uncertain environment through the use of structured and disciplined techniques such as estimating planning cost control task allocation earned value analysis monitoring and review meetings etc each of these elements of project management has a role in defi ning or controlling the uncertainty which is inherent in all projects p roject risk management provides an approach by which uncertainty can be understood assessed and managed within projects as such it forms an integral part of project management and effective project risk management is a critical success factor for project success f or project management to be fully effective however it is important that project risk management is not viewed as an optional process or performed as an additional overhead task since many elements of project management address inherent uncertainty the interface between structured project risk management and the other processes of project management needs to be clear the outputs of project risk management should be taken into account within many of the project management processes they can for example impact estimating resource requirements cost or duration assessing the impact of proposed scope changes planning or replanning the forward strategy of the project allocating resources to tasks and reporting progress to stakeholders n one of these actions can be performed properly without a clear view of the risk involved as determined during the project risk management process in other words project management process effectiveness is increased by using the information and results from project risk management i n addition effective project risk management requires input from other project management processes outputs such as the work breakdown structure wbs estimates the project schedule assumptions list etc are all important prerequisites for effective project risk management 2009 project management institute practice standard for project risk management 13 3 chapter 3 introduction to project risk management processes 32 project risk management processes the defi ned steps of project risk management describe a structured approach for understanding and managing risk on a project this chapter outlines the steps required for effective project risk management each step is described in more detail in subsequent chapters as previously defi ned project risk is an uncertain event or condition that if it occurs has a positive or negative effect on a projects objectives from this defi nition it is clear that risks only exist in relation to objectives it is therefore essential at the start of the project risk management process to clearly defi ne the objectives it is also clear that different projects are exposed to different levels of risk so each step in the project risk management process should be scalable to meet the varying degrees of risk scalable elements of the process include available resources methodology and processes used tools and techniques used supporting infrastructure review and update frequency and reporting requirements as a precondition for a successful project risk management implementation it is important to have a clear understanding of the risk thresholds that defi ne the key stakeholders views on acceptable levels of risk as well as a framework against which identifi ed risks can be assessed a s a result the project risk management process always starts with an initiation step this is required in order to ensure a common understanding and agreement of the team and other stakeholders on the approach and parameters that will be applied in managing risk in this project as well as the scope and objectives of the project risk management process itself project risk management activities resources and attention should be appropriate to the project since different projects warrant different levels of risk management application the main actions to provide the required tailoring are as follows defi ne those objectives against which risks will be identifi ed defi ne how the elements of the project risk management process will be scaled for this project and defi ne risk thresholds tolerances and the assessment framework t he outputs from this initial step should be documented communicated and then reviewed by the stakeholders to ensure a common understanding of the scope and objectives for the project risk management process the document should be formally approved at a senior level 2009 project management institute practice standard for project risk management 14 3 chapter 3 introduction to project risk management processes o nce the project risk management scope and objectives are agreed upon it is possible to start identifying risks being careful to distinguish genuine risks from nonrisks such as causes effects problems issues etc a variety of risk identifi cation techniques is available each with its own strengths and weaknesses one or more techniques should be selected as appropriate for meeting the needs of the specifi c project the aim is to expose and document all knowable risks recognizing that some risks will be inherently unknowable and others will emerge later in the project the emergent nature of risk requires the project risk management process to be iterative repeating the identify risks process in order to fi nd risks which were not evident earlier in the project input should be sought from a wide range of project stakeholders when identifying risks since each will have a different perspective on the risks facing the project historical records and project documents should also be reviewed to identify risks for this project all identifi ed risks are recorded ideally a risk owner is designated for each identifi ed risk it is the responsibility of the risk owner to manage the corresponding risk through all of the subsequent project risk management processes following risk identifi cation it is necessary to evaluate the importance of each risk in order to prioritize individual risks for further attention evaluate the level of overall project risk and determine appropriate responses risk evaluation can be performed using qualitative techniques to address individual risks using quantitative techniques to consider the overall effect of risk on the project outcome or using both in combination these two approaches require different types of data but where both qualitative and quantitative techniques are used an integrated approach should be adopted qualitative techniques are used to gain a better understanding of individual risks considering a range of characteristics such as probability of occurrence degree of impact on project objectives manageability timing of possible impacts relationships with other risks common causes or effects etc understanding and prioritizing risks is an essential prerequisite to managing them so qualitative techniques are used on most projects the outputs from qualitative assessments should be documented and communicated to key project stakeholders and form a basis for determining appropriate responses q uantitative techniques provide insights into the combined effect of identifi ed risks on the project outcome these techniques take into account probabilistic or projectwide effects such as correlation between risks interdependency and feedback loops thereby indicating the degree of overall risk faced by the project the result is an indication of the degree of overall risk faced by the project the results of quantitative analysis should be used to focus the development of appropriate responses particularly the calculation of required contingency reserve levels and must be documented and communicated to inform subsequent actions quantitative techniques may not be required for all projects to ensure effective management of risk 2009 project management institute practice standard for project risk management 15 3 chapter 3 introduction to project risk management processes o nce individual risks have been prioritized and the degree of overall project risk exposure is understood appropriate risk responses should be developed using an iterative process which continues until an optimal set of responses has been developed a range of possible response strategies exists for both threats and opportunities the risk owner should select a suitable strategy for each individual risk based on its characteristics and assessed priority ensuring that the strategy is achievable affordable cost effective and appropriate the use of a single strategy that addresses several related risks should be considered whenever possible the risk owner is responsible for defi ning actions to implement the chosen strategy these actions may be delegated to action owners as appropriate the risk owner should monitor actions to determine their effectiveness and also to identify any secondary risks which may arise because of the implementation of risk responses in addition to individual risk responses actions may be taken to respond to overall project risk all response strategies and actions should be documented and communicated to key project stakeholders and incorporated into the project plan i t is essential that agreedupon actions are implemented otherwise the risk exposure of the project remains unchanged it is also vital that the project risk management process be repeated at regular intervals throughout the life of the project this will enable the project team to reevaluate the status of previously identifi ed risks to identify emergent and secondary risks and to determine the effectiveness of the project risk management process the steps outlined previously form the project risk management process these are detailed in subsequent chapters as follows plan risk management chapter 4 defi nes the scope and objectives of the project risk management process and ensures that the risk process is fully integrated into wider project management identify risks chapter 5 identifi es as many knowable risks as practicable perform qualitative risk analysis chapter 6 evaluates key characteristics of individual risks enabling them to be prioritized for further action perform quantitative risk analysis chapter 7 evaluates the combined effect of risks on the overall project outcome plan risk responses chapter 8 determines appropriate response strategies and actions for each individual risk and for overall project risk and integrates them into a consolidated project management plan monitor and control risks chapter 9 implements agreedupon actions reviews changes in project risk exposure identifi es additional risk management actions as required and assesses the effectiveness of the project risk management process f igure 31 shows the fl ow of control and information between the various steps within the project risk management process 2009 project management institute practice standard for project risk management 16 3 chapter 3 introduction to project risk management processes figure 31 project risk management process flow diagram 2009 project management institute practice standard for project risk management 17 4 chapter 4 plan risk management 41 purpose and objectives of the plan risk management process t he objectives of the plan risk management process are to develop the overall risk management strategy for the project to decide how the risk management processes will be executed and to integrate project risk management with all other project management activities e ffective risk management requires creation of a risk management plan this plan describes how the risk management processes should be carried out and how they fi t in with the other project management processes on a broader level it describes the relationships among project risk management general project management and the management processes in the rest of the organization to provide the greatest benefi t initial risk management planning should be carried out early in the overall planning of the project and the corresponding risk management activities integrated into the overall project management plan the risk management plan may subsequently need to be adapted as the needs of the project and its stakeholders become clearer or change although the project risk management processes form an integral part of the overall project management plan a budget in terms of resources cost and time for the specifi c risk management activities should be established in order to better track control and as necessary defend the corresponding expenditures throughout the project the cost of treating the risks themselves should be included appropriately in the project budget while the risk management plan should describe how this part of the project budget is evaluated allocated and managed the risk management plan will defi ne the monitoring methods to ensure that the corresponding expenditures are tracked appropriately as well as the conditions under which the approved budget for risk management can be modifi ed in the same way that project management is a process of progressive elaboration risk management activities need to be repeated throughout the project the risk management plan should defi ne both the normal frequency for repeating the processes as well as specifi c or exceptional conditions under which the corresponding actions should be initiated the corresponding risk management activities should be integrated into the project management plan there are two categories of success criteria for risk management those for success of the project in general and those for success of project risk management 2009 project management institute practice standard for project risk management 19 4 chapter 4 plan risk management projectrelated criteria to assess the success of project risk management the stakeholders must agree on an acceptable level of results for the projectrelated criteria such as cost time and scope in order to ensure consistency and agreement among stakeholders the risk management plan should present these objectives with reference to the project defi nition documents to provide guidance in risk management particularly in prioritizing risk responses stakeholders should also prioritize each project objective processrelated criteria the measures for success in project risk management depend on a number of factors such as the inherent level of uncertainty of the project for example the project risk management process for a research project needs to address more unforeseen changes than for a project with a more predictable environment a research project risk management process may be considered a success even if it results in more variance from the baseline than would be allowable for a successful process in a more predictable project t he level of risk that is considered acceptable in a project depends on the risk attitudes of the relevant stakeholders the risk attitudes of both the organization and the stakeholders may be infl uenced by a number of factors all of which need to be identifi ed these include their inherent tolerance for uncertainty and the relative importance to them of achieving or missing specifi c project objectives the output of this analysis should then be taken into account for setting thresholds and providing weighting factors when applying the project risk management processes in the specifi c project guidelines and rules for escalating riskrelated information to management and other stakeholders should refl ect the risk attitudes and expectations of the corresponding stakeholders the project manager should maintain effective communication with the stakeholders as the project evolves in order to become aware of any changes in the stakeholders attitudes and adapt the risk management approach to take any new facts into account it is important that the participants share a common understanding of all terms used to describe the risks and that the critical values and thresholds that will serve as parameters for the tools should be defi ned in a manner consistent with the scope of the project and the attitudes of the stakeholders if qualitative analysis uses such terms as high impact or medium probability these should be defi ned objectively in the risk management plan similarly the risk management plan should specify any key numerical values required in quantitative analysis or for decisionmaking in risk response planning or risk monitoring and control r isk management planning should establish the type and level of risk detail to be addressed and provide a template of the risk register that will be used for recording riskrelated information the risk management plan should also indicate the intensity of effort and the frequency with which the various project risk management processes should be applied this depends on the characteristics of the project as well as on the specifi ed risk management objectives i n order for the project risk management processes to be carried out correctly and effectively the project team and other stakeholders need to know where and when they will be expected to participate their criteria for determining success their level of authority and what action to take relative to actions or decisions beyond this level the risk management plan specifi es the projects risk management roles and responsibilities and defi nes the corresponding expectations for both senior management and project personnel 2009 project management institute practice standard for project risk management 20 4 chapter 4 plan risk management r iskrelated communication occurs at two levels a within the project team and b between the project team and the other project stakeholders the principles for each of these categories of communication are defi ned in the risk management plan for the team the plan describes the frequency and scope of the various risk management meetings and reports required to carry out the corresponding project risk management processes as well as the structure and content of such meetings and reports for the other stakeholders the plan sets their expectations as to the structure content and frequency of routine documents to be received as well as the way in which information will be shared for escalation or exceptional events details of the information required by the project team from stakeholders should also be clearly defi ned 42 critical success factors for the plan risk management process t he principal criteria for a valid risk management plan are acceptance by the stakeholders alignment with the internal and external constraints on the project balance between cost or effort and benefi t and completeness with respect to the needs of the project risk management process critical success factors for the plan risk management process are detailed below 421 identify and address barriers to successful project risk management the time and effort required to carry out the plan risk management process will not be supported unless the stakeholders and especially management in the organization responsible for the project recognize and accept the benefi ts of managing risk and the added value of addressing this as a skill in its own right rather than as a passive or reactive component of general project management a clear defi nition of the project objectives and a highlevel view of the project environment and solution approach are required to provide a valid basis for risk management the project manager should therefore ensure that valid defi nition and planning information is available for the plan risk management activity a n organization inexperienced in risk management planning may need to develop its own approach and may expend an inappropriate amount of time and effort on this alternatively it may use a proprietary or preexisting approach which requires tailoring the availability of some or all of the following organizational process assets contributes to the chances of success of the plan risk management activities standard templates predefi ned risk categories and an established project management methodology incorporating risk management procedures that specify what risk information is required for decision making when it is required and a defi nition of concepts and terms roles responsibilities and authority levels access to relevant lessons learned at this stage will allow this experience to be taken into account from the start of the project the risk management plan will not deliver its value unless project risk management is carried out as an integral part of the project the corresponding activities should be built into the project work breakdown structure and included in the corresponding schedule budget and workassignment documents 2009 project management institute practice standard for project risk management 21 4 chapter 4 plan risk management 422 involve project stakeholders in project risk management the project manager needs to involve the project stakeholders in the plan risk management activities to build on their skills and experience as well as to ensure their understanding of and commitment to the full project risk management process the provision for risk management resources specifi ed within the risk management plan should be approved by management at a level adequate for carrying out the required project risk management processes in accordance with agreedupon objectives management should be involved in the analysis of the level of resourcing required for managing project risk and accept the risks that may arise from specifi c limitations placed on the provision of resources disagreements between stakeholders in the areas of risk tolerance and evaluation measures should be addressed and resolved 423 comply with the organizations objectives policies and practices the feasibility of risk management planning is dependent upon the features of the organization in which it is carried out the rules and guidelines defi ned in the risk management plan should be compatible with the culture of the organization its capabilities from the point of view of people and facilities and its values goals and objectives p roject management in general and risk management in particular contribute to the organizations effective governance the risk management plan should identify and take into account the relevant organizational procedures and any other enterprise environmental factors that apply such as strategic risk management or corporate governance processes 43 tools and techniques for the plan risk management process 431 planning sessions p lanning sessions are recommended in order to build a common understanding of the projects risk approach between project stakeholders and to gain agreement on the techniques to be used for managing risk e laboration of the risk management plan often serves to develop an effective means for the team to work together since a similar consultative team approach will be used in subsequent stages of the risk management process the participants should include the project manager selected project team members and other stakeholders members of the broader organization having responsibility for risk and other subject matter experts or facilitators as needed at this point the initial risk responsibilities methodology templates terms defi nitions time schedules and cost budgets for the other project risk management processes should be assigned and accepted the specifi cation for the tools that will be used in subsequent processes should include all parameters and other inputs required to ensure their applicability to the specifi c project these should be documented in the risk management plan which when formally approved is the principal deliverable of the plan risk management process 2009 project management institute practice standard for project risk management 22 4 chapter 4 plan risk management 432 templates in order to benefi t from experience and existing best practice risk management planning should take into account relevant existing templates for work products such as risk status reports risk breakdown structures or the risk register a decision should be made as to which templates are relevant to the project and these should then be adapted and included in the risk management plan 44 documenting the results of the plan risk management process t he results of risk management planning are documented in the risk management plan the plan serves to provide all project stakeholders with a common view of how the riskrelated activities of the project will be handled what has been agreed upon and a description of the stakeholders involvement and responsibilities in these activities an overview of the key areas of focus is given in figure 41 figure 41 key areas of focus for the plan risk management process depending upon the size and complexity of the project some or all of the following elements will be present in a risk management plan introduction project description risk management methodology risk management organization roles responsibilities and authority stakeholder risk tolerance criteria for success risk management tools and guidelines for use thresholds and corresponding defi nitions templates communications plan strategy and risk breakdown structure 2009 project management institute practice standard for project risk management 23 5 chapter 5 identify risks 51 purpose and objectives of the identify risks process a risk cannot be managed unless it is fi rst identifi ed consequently after risk management planning has been completed the fi rst process in the iterative project risk management process aims to identify all the knowable risks to project objectives i t is however impossible to identify all the risks at the outset of a project over time the level of project risk exposure changes as a result of the decisions and actions taken previously in the project internal change and of externally imposed change t he purpose of risk identifi cation is to identify risks to the maximum extent that is practicable the fact that some risks are unknowable or emergent requires the identify risk process to be iterative repeating the identify risks process to fi nd new risks which have become knowable since the previous iteration of the process w hen a risk is fi rst identifi ed potential responses may also be identifi ed at the same time these should be recorded during the identify risks process and considered for immediate action if such action is appropriate where such responses are not implemented immediately these should be considered during the plan risk responses process 52 critical success factors for the identify risks process the practices described in sections 521 through 5210 will maximize the value and effectiveness of the identify risks process and enhance the likelihood of identifying as many risks as practicable 521 early identifi cation r isk identifi cation should be performed as early as possible in the project lifecycle recognizing the paradox that uncertainty is high in the initial stages of a project so there is often less information on which to base the risk identifi cation early risk identifi cation enables key project decisions to take maximum account of risks inherent in the project and may result in changes to the project strategy it also maximizes the time available for development and implementation of risk responses which enhances effi ciency since responses taken early are often normally less costly than later ones 2009 project management institute practice standard for project risk management 25 5 chapter 5 identify risks 522 iterative identifi cation since not all risks can be identifi ed at any given point in the project it is essential that risk identifi cation is repeated throughout the project life cycle this should be done periodically at a frequency determined during the plan risk management process risk identifi cation might also be repeated at key milestones in the project or whenever there is signifi cant change to the project or its operating environment 523 emergent identifi cation in addition to invoking the identify risks process as defi ned in the project plan the project risk management process should permit risks to be identifi ed at any time not limited to formal risk identifi cation events or regular reviews 524 comprehensive identifi cation a broad range of sources of risk should be considered to ensure that as many uncertainties as possible that might affect objectives have been identifi ed 525 explicit identifi cation of opportunities the identify risks process should ensure opportunities are properly considered 526 multiple perspectives t he identify risks process should take input from a broad range of project stakeholders to ensure that all perspectives are represented and considered limiting risk identifi cation to the immediate project team is unlikely to expose all knowable risks 527 risks linked to project objectives e ach identifi ed project risk should relate to at least one project objective time cost quality scope etc noting that the pmbok g uide defi nes risk as an uncertain event or condition that if it occurs has a positive or a negative effect on a projects objectives consideration of each project objective during the identify risks process will assist in identifying risks noting that some risks may affect more than one objective 528 complete risk statement i dentifi ed risks should be clearly and unambiguously described so that they can be understood by those responsible for risk assessment and risk response planning single words or phrases such as resources or logistics are inadequate and do not properly communicate the nature of the risk more detailed risk descriptions are required which explicitly state the uncertainty and its causes and effects 2009 project management institute practice standard for project risk management 26 5 chapter 5 identify risks 529 ownership and level of detail r isks can be identifi ed at a number of levels of detail a generalized or highlevel description of risk can make it diffi cult to develop responses and assign ownership while describing risks in a lot of detail can create a great deal of work each risk should be described at a level of detail at which it can be assigned to a single risk owner with clear responsibility and accountability for its management trigger conditions should also be identifi ed where this is possible and appropriate 5210 objectivity all human activities are susceptible to bias especially when dealing with uncertainty both motivational biases where someone is trying to bias the result in one direction or another or cognitive biases where biases occur as people are using their best judgment and applying heuristics may occur this should be explicitly recognized and addressed during the identify risks process sources of bias should be exposed wherever possible and their effect on the risk process should be managed proactively the aim is to minimize subjectivity and allow open and honest identifi cation of as many risks as possible to the project 53 tools and techniques for the identify risks process a range of tools and techniques is available for risk identifi cation these fall into the following three categories as illustrated in figure 51 figure 51 three perspectives of risk identification 2009 project management institute practice standard for project risk management 27 5 chapter 5 identify risks 531 historical review historical reviews are based on what occurred in the past either on this project or other similar projects in the same organization or comparable projects in other organizations historical review approaches rely on careful selection of comparable situations which are genuinely similar to the current project and fi ltering of data to ensure that only relevant previous risks are considered in each case the risks identifi ed in the selected historical situation should be considered asking whether they or similar risks might arise in this project 532 current assessments c urrent assessments rely on detailed consideration of the current project analyzing its characteristics against given frameworks and models in order to expose areas of uncertainty unlike historical review approaches current assessment techniques do not rely on outside reference points but are based purely on examination of the project 533 creativity techniques a wide range of creativity techniques can be used for risk identifi cation which encourages project stakeholders to use their imagination to fi nd risks which might affect the project the outcomes or effectiveness of these techniques depend on the ability of participants to think creatively these techniques can be used either singly or in groups and employ varying degrees of structure these techniques depend on the ability of participants to think creatively and their success is enhanced by use of a skilled facilitator e ach category of risk identifi cation technique has strengths and weaknesses and no single technique can be expected to reveal all knowable risks consequently the identify risks process for a particular project should use a combination of techniques perhaps selecting one from each category for example a project may choose to use a risk identifi cation checklist historical review together with assumptions analysis current assessment and brainstorming creativity use of a risk breakdown structure which organizes the categories of potential risks on the project a prompt list or a set of generic list categories may assist in ensuring that as many sources of risk as practicable have been addressed while recognizing that no such tools are complete nor can they replace original thinking 2009 project management institute practice standard for project risk management 28 5 chapter 5 identify risks whichever risk identifi cation techniques are used it is important that identifi ed risks are unambiguously described in order to ensure that the project risk process is focused on the actual risks and not distracted or diluted by nonrisks use of structured risk descriptions can ensure clarity risk metalanguage offers a useful way of distinguishing a risk from its causes and effects describing each risk using threepart statements in the form as a result of cause risk may occur which would lead to effect the relationship between cause risk and effect is shown in figure 52 figure 52 cause risk and effect 54 documenting the results of the identify risks process t he results from the identify risks process should be recorded in order to capture all relevant information currently available for each identifi ed risk the main output from the identify risks process is the risk register this includes a properly structured risk description and the nominated risk owner for each risk and may also include information on the causes and effects of the risk trigger conditions and preliminary responses 2009 project management institute practice standard for project risk management 29 6 chapter 6 perform qualitative risk analysis 61 purpose and objectives of the perform qualitative risk analysis process t he perform qualitative risk analysis process assesses and evaluates characteristics of individually identifi ed project risks and prioritizes risks based on agreedupon characteristics assessing individual risks using qualitative risk analysis evaluates the probability that each risk will occur and the effect of each individual risk on the project objectives as such it does not directly address the overall risk to project objectives that results from the combined effect of all risks and their potential interactions with each other this can however be achieved through use of quantitative risk analysis techniques see chapter 7 one step in the analysis is to categorize risks according to their sources or causes if several risks arise from a common source sometimes called a root cause risk responses may be more effective when they focus on addressing this root cause i dentifying common effects from groups of risks allows identifi cation of the areas of greatest risk exposure eg to the project completion date the budget or a particular deliverables scope facilitating risk response focus in these areas the methods of qualitative risk analysis are applied to the list of risks created or updated by the identify risks process to provide project management with the characteristics of the risks that have the most infl uence positive or negative on achieving the projects objectives risks that are assessed as high priority to either threaten or to enhance the achievement of project objectives will be an important focus in the plan risk responses process they may be further analyzed such as in the analysis of the overall project risk that is discussed in perform quantitative risk analysis process 62 critical success factors for the perform qualitative risk analysis process several factors that lead to successful qualitative risk analysis are described in sections 621 through 624 and summarized in figure 61 agreement of the project stakeholders is a fundamental criterion and a common theme the agreedupon approach is the foundation of process credibility then agreedupon defi nitions enable highquality information to be collected finally with these conditions in place the process can be executed reliably which contributes to the credibility of its outputs 2009 project management institute practice standard for project risk management 31 6 chapter 6 perform qualitative risk analysis figure 6 1 building risk analysis credibility 621 use agreedupon approach t he process is based on an agreedupon approach to this assessment that is applied across all of the identifi ed risks in any project by the nature of project risk all risks may be assessed according to probability of occurrence and impact on individual objectives should the risk occur other factors may be considered in determining the importance of a risk as follows urgency proximity risks requiring near term responses may be considered more urgent to address indicators of urgency can include the lead time necessary to execute a risk response and the clarity of symptoms and warning signs also known as detectability that may trigger the response manageability some risks are not manageable and it would be a waste of resources to attempt to address them the project team may examine these and decide to go forward perhaps establishing a contingency reserve stop or rescope the project because these risks pose an unmanageable threat or an opportunity that should not be missed with high probability and consequences inform the customer of the risks and ask for a decision from their point of view i mpact external to the project a risk may increase in importance if it affects the enterprise beyond the project 622 use agreedupon defi nitions of risk terms t he risk assessment should be based on agreedupon defi nitions of important terms and those defi nitions should be used consistently when assessing each risk the use of defi nitions for example of levels of probability and of impact on objectives assists the providers of the information in giving realistic assessments for each risk and facilitates the communication of the results to management and other stakeholders 2009 project management institute practice standard for project risk management 32 6 chapter 6 perform qualitative risk analysis 623 collect highquality information about risks c ollection of highquality information about risks is required often this information is not available in any historic database and should be gathered by interviews workshops and other means using expert judgment data gathered from individuals may be subject to reporting or intentional bias when this occurs the bias should be identifi ed and remedied where possible or a different unbiased source of information should be found and used 624 perform iterative qualitative risk analysis t he success of qualitative risk analysis is enhanced if the process is used periodically throughout the project it is impossible to know in advance all the risks that may occur in a project therefore the identify risks and perform qualitative analysis processes should be repeated periodically for individual risks the frequency of this effort will be planned in the plan risk management process but may also depend on events within the project itself 63 tools and techniques for the perform qualitative risk analysis process t he tools and techniques used for assessing individual risks will identify the risks that are important to the projects success this process is illustrated in figure 62 figure 62 the perform qualitative risk analysis process 2009 project management institute practice standard for project risk management 33 6 chapter 6 perform qualitative risk analysis 631 select risk characteristics that defi ne risks importance q ualitative risk analysis tools provide ways to distinguish those risks that are important for response or further analysis from those that are less important the criteria that make a risk of interest to management are agreed upon in advance and implemented in the tools used output from qualitative risk analysis tools includes a listing of risks in priority order or in priority groups eg high moderate and low t he tools for qualitative risk analysis allow the organization or project stakeholders to specify those levels or combinations of risk characteristics that make a particular risk of interest to management most tools assess a risks importance from a combination of probability of occurrence and degree of impact on objectives 632 collect and analyze data a ssessment of individual risks is based on information collected about them therefore data collection and evaluation tools including interviews workshops and references to databases of prior projects require management support and attention it is important to protect against bias in data gathering which is important when relying on expert judgment for the information 633 prioritize risks by probability and impact on specifi c objectives s ome tools permit distinguishing a risks priority in terms of the affected objective this capability provides a list of risks that are important for any specifi c objective of interest to management this is useful since it is common for risks to have uneven impacts on various project objectives 634 prioritize risks by probability and impact on overall project there are reasons for constructing a measure of a specifi c risks importance to the entire project as contrasted with its importance to specifi c objectives a common reason is for ease of communication with management and other stakeholders when a single risk prioritization index is needed the organization should be explicit about how that index is created usually the index refl ects the organizations preference among objectives the technique for creating the overall risk priority measure should be documented in the plan risk management process 2009 project management institute practice standard for project risk management 34 6 chapter 6 perform qualitative risk analysis 635 categorize risk causes categorizing risks appropriately may lead to improved analysis of the probability and magnitude of project risk and to effective responses understanding the relationships between risks may provide a better understanding of the possibility and magnitude of project risk than if risks are only considered as separate and independent events identifying common root causes of a group of risks for instance may reveal both the magnitude of the risk event for the group as a whole along with effective strategies that might address several risks simultaneously alternatively some risks may be linked with others in a causal chain and understanding the chain of risks may lead to a better understanding of the implication of risk for the project identifying risks that can occur at the same time or using the same resources for recovery might provide a realistic picture of problems of risk mitigation using scarce resources combining the results of the perform qualitative risk analysis process with the risk breakdown structure see identify risks chapter 5 can show clusters of priority risks arising from specifi c sources a combination of the risk analysis information with the work breakdown structure wbs can show which areas of the project exhibit the most risk assessing the highpriority risks impact on one objective such as the schedule may indicate which activities to address to reduce that objectives uncertainty all of these approaches can contribute to the realism and usefulness of the qualitative risk analysis 636 document the results of the perform qualitative risk analysis process t he perform qualitative risk analysis process adds structure to the list of undifferentiated risks see identify risks chapter 5 into categories of priority priorities are usually based on the risks probability of occurring and its potential impact on specifi c project objectives or on the whole project each identifi ed risk is assigned a priority perhaps by objective or for the entire project this information is usually stored in the risk register which is easy to use and update with new information the risk register list of prioritized risks is posted to the project participants who are responsible for further analysis or action to improve the project plan risks that are judged to have high priority are segregated for further analysis and response planning and are generally monitored frequently risks of low priority to the project may be placed on a watch list and are reviewed less often for changes in their status 2009 project management institute practice standard for project risk management 35 7 chapter 7 perform quantitative risk analysis 71 purpose and objectives of the perform quantitative risk analysis process the perform quantitative risk analysis process provides a numerical estimate of the overall effect of risk on the objectives of the project based on current plans and information when considering risks simultaneously results from this type of analysis can be used to evaluate the likelihood of success in achieving project objectives and to estimate contingency reserves usually for time and cost that are appropriate to both the risks and the risk tolerance of project stakeholders i t is generally accepted that analyzing uncertainty in the project using quantitative techniques such as monte carlo simulation may provide more realism in the estimate of the overall project cost or schedule than a nonprobabilistic approach which assumes that the activity durations or lineitem cost estimates are deterministic however it should be recognized that quantitative risk analysis is not always required or appropriate for all projects for example qualitative risk analysis may provide enough information for development of effective risk responses especially for smaller projects therefore during the plan risk management process the benefi ts of quantitative risk analysis should be weighed against the effort required to ensure that the additional insights and value justify the additional effort p artial risk analyses such as qualitative risk analysis aim at prioritizing individual risks viewed one at a time and therefore cannot produce measures of overall project risk when all risks are considered simultaneously calculating estimates of overall project risk is the focus of the perform quantitative risk analysis process s pecifi c project risks are usually best understood and quantifi ed at a detailed level such as the lineitem cost or schedule activity level by contrast project objectives such as achievement of the projects budget or the schedule are specifi ed at a higher level often at the level of the total project an overall risk analysis such as one that uses quantitative techniques estimates the implication of all quantifi ed risks on project objectives the implementation of overall risk analysis using quantitative methods requires complete and accurate representation of the project objectives built up from individual project elements examples of these representations include the project schedule or cost estimate identifying risks on individual project elements such as schedule activities or lineitem costs at a level of detail that lends itself to specifi c assessment of individual risks including generic risks that have a broader effect than individual project elements applying a quantitative method such as monte carlo simulation or decision tree analysis that incorporates multiple risks simultaneously in determining overall impact on the overall project objective 2009 project management institute practice standard for project risk management 37 7 chapter 7 perform quantitative risk analysis r esults of the quantitative analysis will be compared to the project plan baseline or current to give management an estimate of the overall project risk and will answer important questions such as what is the probability of meeting the projects objectives how much contingency reserve eg reserves or buffers of time resources and cost is needed to provide the organization with the level of certainty it requires based upon its risk tolerance w hat are those parts of the project such as lineitem costs or schedule activities which contribute the most risk when all risks are considered simultaneously which individual risks contribute the most to overall project risk estimating overall project risk using quantitative methods helps distinguish those projects where quantifi ed risks threaten objectives beyond the tolerance of the stakeholders from those for which the objectives are within acceptable tolerances even when risk is considered the former may be targeted for vigorous risk responses aimed at protecting those objectives most important to the stakeholders a highlevel comparison of quantitative and qualitative risk analysis processes is presented in figure 71 figure 71 comparison of qualitative and quantitative approaches 72 critical success factors for the perform quantitative risk analysis process success in achieving the objectives of quantitative risk analysis depends explicitly on at least the factors described in sections 721 through 726 2009 project management institute practice standard for project risk management 38 7 chapter 7 perform quantitative risk analysis 721 prior risk identifi cation and qualitative risk analysis t he perform quantitative risk analysis process occurs after the identify risks and perform qualitative risk analysis processes have been completed reference to a prioritized list of identified risks ensures that the perform quantitative risk analysis process will consider all significant risks when analyzing their effects quantitatively 722 appropriate project model a n appropriate model of the project should be used as the basis for quantitative risk analysis project models most frequently used in quantitative risk analysis include the project schedule for time lineitem cost estimates for cost decision tree for decisions in the face of uncertainty and other totalproject models quantitative risk analysis is especially sensitive to the completeness and correctness of the model of the project that is used 723 commitment to collecting highquality risk data o ften highquality data about risks are not available in any historic database and should be gathered by interviews workshops and other means using expert judgment of those present collection of risk data requires resources and time as well as management support 724 unbiased data s uccess in gathering risk analysis data requires the ability to recognize when biases occur and combating that bias or developing other unbiased sources of the data bias in risk data can occur for many reasons but two common sources of bias are cognitive bias and motivational bias 725 overall project risk derived from individual risks the perform quantitative risk analysis process is based upon a methodology that correctly derives the overall project risk from the individual risks in risk analysis of cost and schedule for example an appropriate method is monte carlo simulation a decision tree is an appropriate method for making decisions when future events are not certain using the probability and impact of all risks and combining their effect to derive an overall project measure such as value or cost in each of these methods the risks are specifi ed at the level of the detailed tasks or lineitem costs and incorporated into the model of the project to calculate effects on objectives such as schedule or cost for the entire project by combining those risks 2009 project management institute practice standard for project risk management 39 7 chapter 7 perform quantitative risk analysis 726 interrelationships between risks in quantitative risk analysis attention should be given to the possibility that the individual risks in the project model are related to each other for example several risks may have a common root cause and therefore are likely to occur together this possibility is sometimes addressed by correlating the risks that are related ensuring that they generally occur together during the analysis another common way to represent the risks which occur together is by using the risk register listing of the risk or root cause and attaching it to several project elements such as schedule activities or cost elements when a particular risk occurs the affected elements will all experience the effect of that risk together 73 tools and techniques for the perform quantitative risk analysis process t ools and techniques used appropriately for quantitative risk analysis have several characteristics as follows 731 comprehensive risk representation risk models permit representation of many if not all of the risks that have impact on an objective simultaneously they also permit the representation of both opportunities and threats to the projects objectives 732 risk impact calculation q uantitative models facilitate the correct calculation of the effect of many risks which are typically identifi ed and quantifi ed at a level of detail below the total project on the project objectives which are typically described at the level of the total project 733 quantitative method appropriate to analyzing uncertainty probability models use a quantitative method that addresses uncertainty specifi cally the methods should be able to handle the way uncertainty is represented predominantly as probability of an events occurring or as probability distributions for a range of outcomes a good example of this is the use of monte carlo simulation tools that permit the combination of probability distributions of lineitem costs or schedule activity durations many of which are uncertain 734 data gathering tools d ata gathering tools used in this process include assessment of historical data and workshops interviews or questionnaires to gather quantifi ed informationfor example on the probability of a risk occurring a probability distribution of its potential impacts on cost or time or relationships such as correlation between risks 2009 project management institute practice standard for project risk management 40 7 chapter 7 perform quantitative risk analysis 735 effective presentation of quantitative analysis results r esults from the quantitative tools are generally not available in standard deterministic project management methods such as project scheduling or cost estimating examples of these are the probability distribution of project completion dates or total costs and the expected value of a project decision these results when all risks are considered simultaneously include the following probability of achieving a project objective such as fi nishing on time or within budget a mount of contingency reserve in cost time or resources needed to provide a required level of confi dence i dentity or location within the project model of the most important risks an example of this is a sensitivity analysis in a cost risk analysis or a criticality analysis in a schedule risk analysis the elements of a quantitative risk analysis are illustrated in figure 72 figure 72 structure of a quantitative risk analysis 2009 project management institute practice standard for project risk management 41 7 chapter 7 perform quantitative risk analysis 736 iterative quantitative risk analysis the success of the perform quantitative risk analysis process is enhanced if the process is used periodically throughout the project it is impossible to know in advance all of the risks that may occur in a project often quantitative risk analysis should be repeated as the project proceeds the frequency of this effort will be determined during the plan risk management process but will also depend on events within the project itself see monitor and control risks chapter 9 737 information for response planning o verall project contingency reserve in time and cost should be refl ected in the projects schedule and budget quantitative risk analysis provides information that may be used to modify the project plan if the overall risk to time and cost indicates that an adjustment in scope is needed the scope changes are agreed upon and documented and a new quantitative risk analysis is carried out to refl ect the new aspects of the project 74 documenting the results of the perform quantitative risk analysis process the contingency reserves calculated in quantitative project cost and schedule risk analysis are incorporated respectively into the cost estimate and the schedule to establish a prudent target and a realistic expectation for the project contingency reserves may also be established to provide for the capture of opportunities that are judged to be priorities for the project if the contingency reserve required exceeds the time or resources available changes in the project scope and plan may result a lso the results of the analysis may provide more or less urgency to risk response see plan risk responses chapter 8 depending on the probability of achieving the plans objectives or the amount of contingency reserve required to provide the necessary level of confi dence the results of a quantitative risk analysis are recorded and passed on to the person andor group responsible for project management within the organization for any further actions required to make full use of these results 2009 project management institute practice standard for project risk management 42 8 chapter 8 plan risk responses t he plan risk responses process determines effective response actions that are appropriate to the priority of the individual risks and to the overall project risk it takes into account the stakeholders risk attitudes and the conventions specifi ed in the risk management plan in addition to any constraints and assumptions that were determined when the risks were identifi ed and analyzed 81 purpose and objectives of the plan risk responses process t he objective of the plan risk responses process is to determine the set of actions which most enhance the chances of project success while complying with applicable organizational and project constraints once risks have been identifi ed analyzed and prioritized plans should be developed for addressing every risk the project team considers to be suffi ciently important either because of the threat it poses to the project objectives or the opportunity it offers the planning entails agreeing upon the actions to be taken and the potential changes to budget schedule resources and scope which these actions might cause contingent risk response actions need to be executed at the optimum time for this reason the response specifi cation for each such risk should include a description of any corresponding trigger conditions t he responsibility for monitoring the project conditions and implementing the corresponding actions should be clearly assigned every risk should have been allocated to a risk owner as part of the identify risks process and each of the corresponding risk responses should now be assigned to a specifi c risk action owner the risk owner is responsible for ensuring that the risk response is effective and for planning additional risk responses if required whereas the risk action owner is responsible for ensuring that the agreedupon risk responses are carried out as planned in a timely manner the role of the risk owner and that of the risk action owner may be assigned to a single person r esponses when implemented can have potential effects on the project objectives and as such can generate additional risks these are known as secondary risks and have to be analyzed and planned for in the same way as those risks which were initially identifi ed i t is never feasible or even desirable to eliminate all threats from a project similarly there is also a limit to the extent to which opportunities can be proactively managed there may be residual risks that will remain after the responses have been implemented these residual risks should be clearly identifi ed analyzed documented and communicated to all relevant stakeholders 2009 project management institute practice standard for project risk management 43 8 chapter 8 plan risk responses a ll the approved unconditional actions arising from risk response planning should be integrated into the project management plan in order to ensure that they are carried out as part of normal project implementation the corresponding organizational and project management rules should also be invoked including the following cid129 project change management and confi guration control cid129 project planning budgeting and scheduling cid129 resource management and cid129 project communication planning 82 critical success factors for the plan risk responses process a range of factors are important for the success of the plan risk responses process these are described in sections 821 through 828 and shown in figure 81 figure 81 critical success factors for risk response planning 8 21 communicate communication with the various stakeholders should be maintained in an open and appropriate manner the resulting plans are disseminated and approval obtained in order to ensure full acceptance by all stakeholders i n addition if organizational causes of risks such as culture attitudes or disagreements concerning objectives are present they should be addressed openly this may require involving high levels of the organizations management and other stakeholders 2009 project management institute practice standard for project risk management 44 8 chapter 8 plan risk responses 822 clearly defi ne riskrelated roles and responsibilities the risk response success will be dependent upon the full support and involvement of the project team and other stakeholders the key roles for project risk management are those of risk owner and risk action owner a single risk owner should be assigned to every identifi ed risk and each agreedupon risk response should have a single risk action owner the people with the corresponding responsibilities should be aware of what is expected of them and the other project stakeholders should understand and accept the needs and authority of these roles management may take ownership of risks with political organizational causes in addition senior management should approve and track associated riskrelated contingency reserves 823 specify timing of risk responses agreedupon responses should be integrated into the project management plan and will therefore be scheduled and assigned for execution the responses that depend on uncertain conditions should also be monitored so as to be performed if the conditions warrant them 824 provide resources budget and schedule for responses e ach response should be planned in detail in accordance with the methodology of the project and integrated into the project management plan this entails estimating the resources costs and duration updating the budget and schedule obtaining approval from management and obtaining commitment from the risk owners and risk action owners managements role at this stage is vital for supporting the project manager in developing risk responses and authorizing the corresponding resources 825 address the interaction of risks and responses r esponses may be developed to address risks related either by cause and effect or by common root cause categorization of risks for example by using tools such as the risk breakdown structure affi nity diagram or other categorizing tools may help identify and address this situation there is also a need during the plan risk responses process to consider the risks aggregated during the perform quantitative risk analysis process eg ten small related risks combined may pose a big risk to the project and then to develop generic responses where possible another interaction effect that may occur is when one risk if it occurs may affect the probability or impact of other risks deciding on the response strategy may require a compromise since some proposed responses may be mutually exclusive or counterproductive for example mitigating a threat to time could cost money thereby increasing pressure on the budget risk response planning also needs to take a holistic view of all proposed responses and make sure they are coherent 2009 project management institute practice standard for project risk management 45 8 chapter 8 plan risk responses the challenge therefore in planning responses to risks is the need to control the potential effects of the strategy developed for treating the original risk if this is overlooked the total level of threat in a project can actually increase or the potential for opportunities can be compromised 826 ensure appropriate timely effective and agreedupon responses i n general responses should be appropriate timely costeffective feasible achievable agreedupon assigned and accepted any proposed risk response plan needs to be assessed against the following criteria cid129 consistency with organizational values project objectives and stakeholder expectations cid129 technical feasibility cid129 ability of the project team or risk action owners outside the project to carry out the corresponding actions and cid129 balance between overall impact of the response on the project objectives and the improvement in the risk profi le of the project 827 address both threats and opportunities risk response planning should combine responses that address the threats as well as those that provide for opportunities into a single integrated plan if either threats or opportunities are not fully addressed the combined set of response strategies will be incomplete and may even be invalid 828 develop strategies before tactical responses risk response planning should be carried out in an openminded manner rather than adopting the fi rst response that seems to be feasible the responses should be planned at a general strategic level and the strategy validated and agreed upon prior to developing the detailed tactical approach once the responses have been planned at a strategic level they should be expanded into actions at the tactical level and integrated into the project management plan eg schedule budget and resource assignments this activity may generate additional secondary risks which will need to be addressed at this time 83 risk response strategies t he project manager should develop risk response strategies for individual risks sets of risks and project level risks an overview of the steps in arriving at a complete set of responses is given in figure 82 t he affected stakeholders should be involved in determining the strategies once the strategies have been selected they need to be agreed upon by the entity that approves those strategies there are four strategies which address individual risks for threats and opportunities as described in sections 831 through 834 see also fig 82 2009 project management institute practice standard for project risk management 46 8 chapter 8 plan risk responses 831 avoid a threat or exploit an opportunity t his strategy involves taking the actions required to address a threat or an opportunity in order to ensure either that the threat cannot occur or can have no effect on the project or that the opportunity will occur and the project will be able to take advantage of it 832 transfer a threat or share an opportunity this strategy entails transference to a third party that is better positioned to address a particular threat or opportunity 833 mitigate a threat or enhance an opportunity m itigation and enhancement are the most widely applicable and widely used response strategies here the approach is to identify actions that will decrease the probability andor the impact of a threat and increase the probability andor the impact of an opportunity 834 accept a threat or an opportunity this strategy applies when the other strategies are not considered applicable or feasible acceptance entails taking no action unless the risk actually occurs in which case contingency or fallback plans may be developed ahead of time to be implemented if the risk presents itself 835 applying risk response strategies to overall project risk in addition to responding to individual risks the four risk response strategies can be applied to address overall project risk as follows cid129 cancel the project as a last resort if the overall level of risk remains unacceptable cid129 set up a business structure in which the customer and the supplier share the risk cid129 replan the project or change the scope and boundaries of the project for example by modifying the project priority resource allocations delivery calendar etc cid129 pursue the project despite a risk exposure that exceeds the desired level 84 tools and techniques for the plan risk responses process there are four categories of tools and techniques as follows cid129 creativity tools to identify potential responses cid129 decisionsupport tools for determining the optimal potential response cid129 strategy implementation techniques designed to turn a strategy into action and cid129 tools to transfer control to the monitor and control risks process 2009 project management institute practice standard for project risk management 47 8 chapter 8 plan risk responses t hese categories of tools can be used respectively to identify potential responses select the most appropriate response translate strategy into planning and assign the corresponding actions the steps involved in planning risk responses are shown in figure 82 841 response identifi cation risk response planning builds on the available information about the potential risks and aims to determine the optimal set of responses for this reason it should involve subject matter experts and employ creativity techniques in order to explore all of the options project planning and execution techniques are then required to evaluate the potential effects of the various options on the projects objectives 842 response selection once the set of potential responses for the risks being addressed is established decisionsupport techniques may need to be applied to select the best possible subset from these responses the selection process should take into account the cost of the responses the impact on the project objectives uncertainty of outcomes and the possible secondary and residual risks the identify risks perform quantitative risk analysis and plan risk responses processes may then need to be applied to the resultant project management plan and the residual and secondary risks that it would entail this iterative approach continues until all of the individual risks are deemed acceptable and the overall risk is within a predefi ned threshold 843 action planning project planning tools are used to turn the chosen strategies into concrete actions and to integrate these into existing plans the corresponding actions may be unconditional ie integrated into the project management plan or contingent on a trigger condition and predefi ned as a contingency response strategy 844 ownership and responsibility assignment t he project manager needs to use resource assignment processes to ensure the availability of an owner for each risk and for each response action so that each associated risk is managed and each corresponding risk response is carried out in a timely and effective manner to enable risk monitoring to identify the imminence or actual occurrence of the corresponding event every contingency response strategy should include a set of trigger conditions the responsibility for monitoring these conditions should be clearly assigned in the plan risk responses process and managed in the monitor and control risks process 2009 project management institute practice standard for project risk management 48 8 chapter 8 plan risk responses the strategic defi nition of risk responses should include measurable criteria for success of the response risk action owners should monitor their assigned risks take agreedupon actions as required and provide the risk owners with relevant information on status or changes to the risk characteristics risk owners should assess the effectiveness of any actions decide whether additional actions are required and keep the project manager informed of the situation figure 82 the steps involved in planning risk responses 2009 project management institute practice standard for project risk management 49 8 chapter 8 plan risk responses 85 documenting the results of the plan risk responses process r isk response planning is based on the information placed in the risk register during execution of the identify risks and perform analysis processes the corresponding risk response information is often referred to as the risk response plan although it may in fact be an integral part of the risk register 851 add risk responses to the risk register t he responserelated information for each risk is recorded in the risk register and updated regularly any interested stakeholder should be able to rapidly access all the information required to verify their responsibilities and manage the risk in accordance with the risk response plan the set of residual risks and their priorities are clearly identifi ed and recorded 852 add corresponding risk responses to the project management plan w hile developing the detailed set of risk responses the projectrelated implications are evaluated for inclusion in a modifi ed project management plan these include costs resource assignments scheduling details and changes to project documentation until these changes are formally approved along with the additional risks that they may carry risk response planning cannot be considered complete 853 review and document predicted exposure o nce the risk responses have been defi ned and integrated into the project management plan the individual and overall residual risks related to this plan are evaluated in order to determine whether additional response planning is required as shown in figure 82 this evaluation should provide an estimate of both the expected postresponse situation and the potential improvement of the risk exposure assuming that the proposed responses are effective the evaluation should be documented 2009 project management institute practice standard for project risk management 50 9 chapter 9 monitor and control risks the effectiveness of project risk management depends upon the way the approved plans are carried out these plans should be executed correctly reviewed and updated regularly if this is carried out correctly the invested effort will be rewarded and future projects will benefi t from this projects experience 91 purpose and objectives of the monitor and control risks process t he primary objectives of risk monitoring and controlling are to track identifi ed risks monitor residual risks identify new risks ensure that risk response plans are executed at the appropriate time and evaluate their effectiveness throughout the project life cycle i n addition to tracking and managing the risk response actions the effectiveness of all of the project risk management processes should be reviewed to provide improvements to the management of the current project as well as future ones f or each risk or set of risks for which a contingent response has been defi ned the corresponding set of trigger conditions should have been specifi ed it is the responsibility of the action owner to ensure that these conditions are effectively monitored and that the corresponding actions are carried out as defi ned in a timely manner once the plan risk responses process is complete all of the approved unconditional response actions should have been included and defi ned in the current project management plan the fi rst action of risk monitoring and controlling is to check whether this is the case and take any appropriate action if necessary such as invoking the change management process with respect to any missing actions this will then ensure that the agreedupon actions are carried out within the normal project execution framework the risk owners and risk action owners need to be briefed on any changes that may affect their responsibilities effective communication needs to be maintained between them and the project manager so that the designated stakeholders accept accountability for controlling the potential outcomes of specifi c risks apply their best efforts to track the associated trigger conditions and carry out the agreedupon responses in a timely manner i n addition to the response actions and trigger conditions a mechanism for measuring the effectiveness of the response is provided by the plan risk responses process the risk action owner should keep the risk owner aware of the status of the response actions so that the risk owner can decide when the risk has been effectively dealt with or whether additional actions need to be planned and implemented 2009 project management institute practice standard for project risk management 51 9 chapter 9 monitor and control risks as the project progresses additional information becomes available and the project environment may change as some risks occur whether foreseen or unforeseen and others become or cease to be relevant the planning should therefore be kept current and the project manager should ensure that periodic risk reassessment including risk identifi cation analysis and response planning is repeated at reasonable intervals or in response to project eventswithout generating excessive administrative overhead typical reasons for risk reassessment are occurrence of a major or unexpected risk need to analyze a complex change request phase end review project replanning or major plan elaboration and periodic review to ensure that the information remains current i n the event of major organizational changes risk management planning may need to be revisited prior to reassessing the risks in addition to the regular status reviews periodic audits should be performed to determine strengths and weaknesses in handling risks within the project this should entail identifying any barriers to effectiveness or keys to success in risk management recognition of which could lead to improvements in risk management of the current or future projects at the end of the project an integrated analysis of the risk management process should be carried out with a focus on longterm process improvements this analysis consolidates the fi ndings of the periodic audits to identify lessons that would be applicable in general to a large proportion of the organizations projects in the future such as appropriate levels of resources adequate time for the analysis use of tools level of detail etc at project closure the project manager should ensure that a description has been given of the closure of every risk in the risk register for example a did not occur b occurred and contingency plan invoked or c occurred and impact to the project scope ie time cost and quality t he output of the audit of the risk management process should be consolidated with specifi c information with respect to the projects experience of risks and any generally applicable guidelines for the organization should be highlighted and potential actions proposed for applying them this can lead to an update to the corresponding organizational process assets an overview of the steps involved in the monitor and control risks process is given in figure 91 2009 project management institute practice standard for project risk management 52 9 chapter 9 monitor and control risks figure 91 schematic representation of the monitor and control risks process 92 critical success factors for the monitor and control risks process c ritical success factors relate to maintaining risk awareness throughout the project and include the characteristics and capabilities detailed in sections 921 through 923 921 integrate risk monitoring and control with project monitoring and control from the start the project management plan should include the actions required to monitor and control project risk this should be set up early in the project planning cycle and then adjusted in view of the risk response planning decisions adding for example the actions associated with monitoring specifi c conditions or metrics once risk response planning has been carried out the project schedule should include all of the agreedupon responserelated actions so that they can be carried out as a normal part of project execution and tracked accordingly 2009 project management institute practice standard for project risk management 53 9 chapter 9 monitor and control risks 922 continuously monitor risk trigger conditions r isk response planning will have defi ned a set of actions to be carried out as part of the project schedule as well as actions whose execution is dependent on a predefi ned trigger condition checking for specifi cally defi ned risks that may trigger conditional responses is the responsibility of the risk action owner in close collaboration with the risk owner under the overall authority of the project manager 923 maintain risk awareness risk management reports should be a regular item on every status meeting agenda to ensure that all team members remain aware of the importance of risk management and to ensure that it is fully integrated into all of the project management decisions the projects seniorlevel sponsor should require regular reports on the risks and the planned responses to ensure that stakeholders are aware of the importance of keeping a focus on risk sponsor feedback also motivates the project team by demonstrating seniorlevel interest in project risk management s takeholders perception of the effectiveness of risk management is conditioned in part by the way in which risks are handled as they occur and by the number or characteristics of such events it is therefore crucial whenever a risk occurs that information about the event as well as the progress and effectiveness of the responses be communicated at regular intervals and in an honest manner adapted to the needs of each stakeholder this should be supported by a wellexecuted communications plan 93 tools and techniques for the monitor and control risks process in addition to standard project management monitoring and control capabilities risk monitoring and controlling requires a focus on the tools which will support its key success factors for tracking overall risk as well as individual risks 931 managing contingency reserves reserves may have been allocated separately to cover timerelated and costrelated risks techniques are required that allow the project manager to assess at any point in the project whether these provide the required level of confi dence in the success of the project tools for managing time buffers should be closely integrated into the projects scheduling techniques whereas those for managing cost should be compatible with the fi nancial practices tools are required to identify trends and forecast future outcomes to determine whether the reserves will remain suffi cient tools are also required for tracking progress and spending in a consolidated manner 2009 project management institute practice standard for project risk management 54 9 chapter 9 monitor and control risks 932 tracking trigger conditions t rigger conditions and the corresponding metrics are defi ned during the plan risk responses process tools are required to evaluate and track these conditions against the project baseline or specifi ed thresholds based on actual status they can be chosen to provide information on risks related to the deliverables such as performance as well as on projectrelated features such as time and cost 933 tracking overall risk tools are required in order to determine as the project progresses whether the responses are having the expected effect on the projects overall level of risk 934 tracking compliance i n order to monitor the quality of the execution of the riskrelated plans and processes a set of quality metrics such as degree of variation from the baseline should be tracked and recorded these metrics will normally have been defi ned in the risk management plan 94 documenting the results of the monitor and control risks process t he fi nal control action of risk monitoring and controlling is to record actual data for future use this includes all of the relevant information relating to risk management from start to fi nish of the project the defi nition of what this information must include as well as the storage mechanism should have been previously specifi ed in the risk management plan the goal is to ensure that the signifi cant risk management information is recorded to provide concrete data to the lessons learned process for inclusion in a lessons learned document report or other communication vehicle typical information includes the following for each identifi ed risk or type of risk whether it occurred and if so when and how often all relevant data should be recorded impact effectiveness of detection and of response and any unplanned additional actions that were carried out effectiveness of avoidance or exploitation actions effectiveness of transfer and sharing actions unexpected or undocumented risks which occurred and data about them effectiveness of risk mitigation and enhancement actions occurrence of accepted threats or opportunities c onsolidated information should be provided on the level of effort expended costs and benefi ts to the project of risk management activities should also be provided t his information will need to be archived and indexed in a manner that will facilitate retrieval for easy review during the project at closure and for future projects when the need arises 2009 project management institute practice standard for project risk management 55 a appendix a guidelines for a pmi practice standard a1 introduction a pmi practice standard is characterized as follows cid129 e ach practice standard provides guidelines on the mechanics eg nuts and bolts basics fundamentals stepbystep usage guide how it operates how to do it of some signifi cant process input tool technique or output that is relevant to a project manager cid129 a practice standard does not necessarily mirror the lifecycle phases of many projects however an individual practice standard may be applicable to the completion of one or more phases within a project cid129 a practice standard does not necessarily mirror the knowledge areas within a guide to the project management body of knowledge pmbok guide fourth edition although an individual practice standard will provide suffi cient detail and background for one or more of the inputs tools and techniques andor outputs therefore practice standards are not required to use the name of any knowledge area cid129 e ach practice standard should include information on what the signifi cant process is and does why it is signifi cant how to perform it when it should be performed and if necessary for further clarifi cation who should perform it cid129 each practice standard should include information that is accepted and applicable for most projects most of the time within the project management community processes that are generally restricted or applicable to one industry country or companion profession ie an application area may be included as an appendix for informational purposes rather than as part of the practice standard with strong support and evidence an application areaspecifi c process may be considered as an extension practice standard in the same manner as extensions to the pmbok guide fourth edition are considered cid129 each practice standard will benefi t from the inclusion of examples and templates it is best when an example or template includes a discussion of its strengths and weaknesses a background description may be necessary to put this discussion in the appropriate context the examples should be aligned with the relevant information in the standard or its appendix and placed in proximity to that information cid129 all practice standards shall be written in the same general style and format cid129 e ach practice standard project will be aligned with or reference other practice standards as needed cid129 each practice standard will be consistent with the p mbok guide fourth edition cid129 each practice standard is intended to be more prescriptive than the pmbok guide fourth edition 2009 project management institute practice standard for project risk management 57 b appendix b evolution of pmis practice standard for project risk management b1 preproject i n early 2005 pmi began exploration for developing the fi rst practice standard for project risk management focus would be placed on single project risk management for a single project rather than including programs or portfolios of projects with close coupling to the project risk management section of a guide to the project management body of knowledge pmbok guide third edition by april 20 2006 the pmi standards members advisory group mag approved the following fi nal charter for the standard with cynthia a berg pmp as the project manager and dr david hulett as the deputy project manager the charter included the following characteristics for the standard p rovides information on project risk management that includes information that is clear complete relevant and generally recognized as good practice on most projects most of the time i s consistent with the pmbok guide third edition expanding but not contradicting the concepts and techniques related to project risk management and keeps within the limits and practices of project risk management as described within chapter 11 of the p mbok guide third edition has been reviewed and updated by the practice standard for project risk management project team i s written for project management practitioners and other stakeholders of the project management profession describes the processes that are unique to project risk management includes in an appendix examples and templates of specifi c project risk management processes tools andor techniques addressed in the practice standard with discussions of their strengths and weaknesses including background descriptions that put the relative strengths and weaknesses into context uses the pmbok g uide third edition glossary as the starting point of its glossary and does not contain contradictions uses a glossary term in the text without defi nition or additional explanation is aligned with and does not contradict other pmi standards follows the pmi style guide is written in north american english translatable to pmi offi cial languages and is sensitive to cultural issues 2009 project management institute practice standard for project risk management 59 b appendix b c an be approved as a pmi standard which means that in addition to the content being acceptable the process for selecting team members and soliciting and responding to comments on the product must be open and inclusive b2 preliminary work in recognition that risk management is not practiced well on many projects the project team set out to identify practices that are viewed as best practices as those are understood and applied in most successfully managed projects most of the time t he project core team was initially formed in the fall of 2005 and consisted of dr david hillson pmp kik piney and kris persun b3 scope changes during the time the project was chartered the p mbok g uide fourth edition was commissioned as a result the charter of the practice standard for project risk management was expanded to be consistent and noncontradictory with that standard b4 exposure and consensus the standard was submitted as an exposure draft in the winter of 2007 and exposed on 23 march 2008 there were 849 comments the teams comment acceptance rate comments accepted outright and accepted with modifi cations was 57 the pmi standards manager submitted the resultant fi nal draft with the concurrence of the pmi standards program mag to the pmi standards program consensus body for offi cial ballot on 27 march 2009 twentyeight members of the pmi standards program consensus body agreed to participate in the ballot of the practice standard for project risk management those not participating included the pm and deputy pm for this standard because their participation was considered a confl ict of interest the balloting period was closed on 25 april 2009 with 23 ballots returned consensus body voting results were as follows 22 affi rmative and 1 affi rmative with comment the affi rmative with comment pertained to future revisions of the standard and possible improvements to the comment adjudication process 2009 project management institute practice standard for project risk management 60 c appendix c contributors and reviewers of the practice standard for project risk management this appendix lists alphabetically within groupings those individuals who have contributed to the development and production of the p ractice standard for project risk management no simple list or even multiple lists can adequately convey all the contributions of those who have volunteered to develop the p ractice standard for project risk management t he project management institute is grateful to all of these individuals for their support and acknowledges their contributions to the project management profession c1 practice standard for project risk management project core team t he following individuals served as members were contributors of text or concepts and served as leaders within the project core team pct cynthia ann berg phd pmp project manager david t hulett phd deputy project manager dr david hillson frsa firm kristine persun ma pmp crispin kik piney bsc pmp kristin l vitello standards project specialist nan wolfslayer astd standards compliance specialist c2 signifi cant contributors i n addition to the members of the project core team and the subteam leaders the following individuals provided signifi cant input or concepts jeannette horne 2009 project management institute practice standard for project risk management 61 c appendix c c3 practice standard for project risk management team members in addition to those listed above the following individuals participated on the p ractice standard for project risk management project team ahmad khairiri abdul ghani pe mba archie addo pmp phd priumvada agarwal pmp upinder aggarwal pmp asif m ahmad pmp amr nabil ahmed pmp msc jose correia alberto meng citp salvador alvarez pmp chukwudi anakudo pmp ananthalakshmi anbuselvan jagathnarayanan angyan fie ce rodrigo ariza pedro carlos auler michael avery sai swaminathan baba subramanyan be pmp teddy alton barnes gail ellen bartz david benfell paul s bennett douglas a berry pmp mamoun besaiso ce timothy birus dave m bond kiron bondale blaine w boxwell mba pmp carlos eduardo m f braga pmp valerie claire brasse pmp joan browne bsc pmp adrian busch pmp mba john j byrne dba pmp c s rajan pmp eduardo cadena franco caron william g chadick dm pmp souray chakraborty harshavardhan chakravarti bs shanthi chandrasekar noman zafar chaudry pe pmp vijay chauhan mba pmp subrahmanyam chinta vn pmp carolyn chomik joan f church glenda clark lorri cline mba pmp john d corless phd anthony r corridore pmp coughlin philip nancy a cygan ms pmp marco aurelio danelon pmp karel de bakker ma pmp thijs de jong alfredo del cano peter b de zouza mello sps pmp cheryl l dennis raveesh dewan pmp mba ricardo jose do rego barros pmp john david driessnack matt dubois jason eddinger pmp maliha elahi msc pmp norman epstein pmp mba joel erickson rodrigo fernandes espirito santo giovanni fanduiz genevieve farago pmp mario fiallo carranco leslie fiedler eduardo fleischer 2009 project management institute practice standard for project risk management 62 c appendix c kirby fortenberry pmp lynn francis michelle l franklin pmp tracy fritz andrew fry cma pmp kamlesh gandhi pmp pqs nelio gaspar msc pmp tina gilrein pmp mpm silvio hernan giraldo pmp cbcp vikram godboley vivek goel pmp francisco gomez serge goncharov pmp pgmp ronald rgoodwin pmp priyesh gopalakrishnan robert grant steve grunewald denise m guerin sanjay gupta pmp cristine gusmao phd heidi ann hahn phd pmp laurie hall robert w harding pmp balasubramaniam hari gopal fca pmp chandrashekar hassan henry hattenrath david a haugh pmp john hendricks ms pmp arnold a hill pmp rosemarie a hilt mba pmp george hopman phd pe sean hugo john humphrey walter hussey pmp george jackelen ramona jackson dhanojkumar jadhav ayo jemiri ms pmp stephen michael johns kenneth e johnson mba pmp valeri jonas ba honours oxon roy joslin krishna kallapur pmp rita kaul mariya kehoe rameshchandra b ketharaju amir ahmed kheir behrad kiafar konstantinos kirytopoulos phd pmp ilkka koskinen msc pmp alejandro kowiendl rv krishna mba capm jeyakumar krishamoorthy lars kruse polisetty veera subrahmanya kumar cissp cisa sasi kumar pmp vijaya kurada elise labre david larson wei lee pmp henry lie guilherme pereira lima pmp bernard lindekens renato lourenco da silva mba pmp vasantha r manda pmp cissp edmond matevosian pe pmp rivalino matias jr phd msc pena torres nestor mauricio pmp jme maxwell mba pmp alvis mcginty traci l mcintosh pmp ramesh menon concepcion merino philip mileham 2009 project management institute practice standard for project risk management 63 c appendix c waqar ahmed mirza shipra mitra siddique mohammed guillermo molina leon sergio monaco mcts elizabeth mejia montanez flavio montenegro pmp mohammad moradi linda l morgan msis pmp rick a morris mpm pmp tania morris mpm pmp saradhi motamarri mtech pmp mark a munster pmp cisa ronan j murphy ceng mba carlo muzzarelli linda nedney pmp rob nelson pmp vaman g nene ann nguyen pmp naema nunnery jillian oconnell mba pmp daryl k ono armin oppitz pmp daniel pacholski pmp abhimanyu parasher mba pmp david m patrick scott patton mridul paul chris payne pmp sameer k penakalapati me pmp alexandre perali sharon d perezsuarez lavinia petcu capm bruce petro pmp krista lynn pizzurro roberto pons pmp carl pro julie r purcell pmp mcse sridhar r pydah ms pmp vijaya raman pmp stephen f randolph pmba pmp jennifer read pmp cmc caroline robison pmp fabiano rollim pmp pgmp edward rowe don ruchkall joseph sabatini fawzia salahuddin mcs pmp salem mahaboob saliha sherriff mba pmp sivakumar sanyasi rudolf schenker marcio schmidt pmp bill schneider michael j scott pmp ravi shanker mba pmp viresh c shah mba pmp jeff shore evandro silva maria isabel silva sumano mba pmp michael d simants vivek sivakumar capm kathy j slater pmp shaun smith linda e solorzano bs pmp mauro sotille pmp mandayam sriram meng pmp tournis stamatis phd pmp fred stein roeland stellingwerff jim stewart pmp prasanna v sugavanam pmp ramakrishnan sundararaman matthias svane msc pmp amin tabatabayi mba pmp 2009 project management institute practice standard for project risk management 64 c appendix c venerando tangco pmp csm suresh kumar tata pmp acs patel tejesh pmp sarma tekumalla pmp mba jacqueline teo michelle tessier gangesh thakur cpim pmp vadivelu thanicachalam ing biagio tramontana pmp subhash b tuladhar pmp ruth h vandegrift sri pavan vardan vemu christoph verschuere ir pmp cism marianne viegas yiannis vithynos pmp msc steve waddell paul waits jr pmp cpm kuanhsun wang pmp nancy watanabe james wattnem lisa l winchester pmp karen l woodruff rn cfnp pmp james yang pmp mba luay m zakaria pmp xiaojun zhou c4 final exposure draft reviewers and contributors i n addition to team members the following individuals provided recommendations for improving the exposure draft of the practice standard for project risk management marcos abreu billa s dahaby ms issi jose r alcala g pmp gwendolyn darby mohd alkuwari anirban das mtech pmp ondiappan arivazhagan ari pmp pmirmp terrell g dorn pe randall ash pmp peggy drew mba pmp imad babbili norberto figuerola pmp ernest baker pmp robert a dudley pmp pmisp jerry ball pmp scott d freauf pmp ipmad eng dimah m barakat pmp pmirmp mark gabel msce pe suvransu basu be oliver d gildersleeve jr pmp mcts susanne bode kurt j harris pmp david j boschma pmp be jame healy sergio a calvo abarca pmp walter hekala cqa pmp marlene carnevali shirley hinton pmp bruce c chadbourne pmp pgmp felicia elizabeth hong pmp mba steve charters mapm msc manuel huerta tomio chiba pmp kristian hurt patricia cohen christoph werner jacobi wendra collet mpm ashok jain pmp itil 2009 project management institute practice standard for project risk management 65 c appendix c syed asad jawed cce dirk pons ramesh d kandadai member rsig carl l pritchard pmp pmirmp kenneth p katz pmp javier pumar pmp rameshchandra ketharaju polisetty veera subrahmanya kumar pmp pmirmp gene g kuki pmp chandrasekar ramakrishnan pmp csqa abhilash t kuzhikat pmp itil ivan d ramirez r pmp peter lierni alexander revin pmp christopher e maddox pmp pedro c ribeiro mba pmp anthony mampilly pmp cop bruce p robison srinivas mandgi pmp sap hr sadegh roozbehi ammar w mango pgmp pmp tarun kumar roy larry marks balaji selvaraju andrew mcglade pmp hilary shreter mba pmp patrick k morrow pmp fay simcock msc pmp rajesh musaliyath rebecca spohn pmp cqe eric m myers pmp pranay srivastava pmp csm mustapha nafaa mpm pmp joyce statz phd pmp patrick ofarrell pmp mba massimo torre phd pmp lambert i ofoegbu pmp pmirmp fredrick g trussell pmp kazuhiko okubo pmp pe frederick trussell karthikeyan ovuraj kevin r wegryn pmp cpm nancy perosio pmp william e wencel pmp rafael pina quintal alexey d zimin pme c5 pmi standards member advisory group mag the following individuals served as members of the pmi standards member advisory group mag during development of the p ractice standard for project risk management julia m bednar pmp chris cartwright mpm pmp douglas clark terry cookedavies phd fcmi carol holliday ma pmp deborah obray cim hons asbjrn rolstadas phd ing david w ross pmp pgmp paul e shaltry pmp david violette mpm pmp john zlockie mba pmp 2009 project management institute practice standard for project risk management 66 c appendix c c6 staff contributors special mention is due to the following employees of pmi steven l fahrenkrog pmp vp regional development amanda freitick standards program administrator ruth anne guerrero mba pmp former standards manager donn greenberg manager publications roberta storer product editor barbara walsh capm publications planner 2009 project management institute practice standard for project risk management 67 d appendix d tools techniques and templates for project risk management many tools and techniques have been developed and are in widespread use to support the project risk management processes the most commonly used of these are listed in the following tables along with their strengths weaknesses and critical success factors where a technique can be used in more than one project risk management process it is described in detail in the section associated with the main process that it supports and referred to as necessary for other processes to which it can be of use examples and templates shown after each table provide illustrations of the most common and good practice uses of these tools and techniques this information is not intended to explain the tools and techniques but to list them with certain important characteristics those who are interested in learning more are encouraged to seek other sources such as handbooks textbooks or courses in project risk management d1 techniques examples and templates for risk management planning chapter 4 p lan risk management defi nes the approach to be followed for managing the risks throughout the lifespan of the corresponding project d11 techniques an example of an approach is given in table d1 table d1 example of plan risk management approach csfs for effective technique strengths weaknesses application planning meetings and involvement of core depends on prior risk management analysis team members experience of plan templates participants prior stakeholder analysis existing organizational guidelines for risk management 2009 project management institute practice standard for project risk management 69 d appendix d d111 the risk management plan purpose and typical content d epending on the size and complexity of the project some or all of the following elements will be present in a risk management plan introduction project description project objectives external dependencies stakeholder analysis risk management scope and objectives variance thresholds prioritization of project objectives thresholds weights and other parameters definition of criteria for unacceptable threats and unmissable opportunities impact scales probability scales pxi matrices weighting of project objectives prioritization and selection criteria degree of confidence required for overall risk eg 80t h percentile from quantitative risk analysis risk management methodology relationship with the organizational environment risk management activities link to the project management methodology relationship with other project management processes risk taxonomyrisk breakdown structure either generic or projectspecific format of a fully defined risk statement description metalanguage key deliverables risk management organization roles responsibilities and levels of authority for risk management rules of escalation budgeting for risk management activities added to the project budget adapted to the complexity and sensitivity of the project scheduling of risk management activities in the project schedule ie when certain actions or reviews need to be carried out frequency life cycle related etc 2009 project management institute practice standard for project risk management 70 d appendix d reporting governancerelated rules of reporting and disclosure use of tools tool name description usage structure of the risk database requirements in terms of system resources communications planning documents usage rules for distribution frequency audience etc document templates risk register risk status reports d112 templates relevant to risk management planning t he risk management plan should provide a number of templates for use by the other processes these may include formal structure for a risk statement an example is given below means of categorizing risks for example a risk breakdown structure an example is given in the identify risks section of this appendix defi nitions by project objective of probability and impact scales an example is given in the perform qualitative risk analysis section of this appendix risk prioritization and selection guidelines t hese guidelines may be used in perform qualitative risk analysis and in perform quantitative risk analysis as well as in plan risk response planning an example is given below status report templates typical agenda for status meetings d113 risk statement metalanguage i n order for all risks to be clearly defi ned a standard structure for the way in which the risk is described should be specifi ed and applied a typical such statement is because of one or more causes risk might occur which would lead to one or more effects 2009 project management institute practice standard for project risk management 71 d appendix d d114 risk prioritization and selection guidelines t he selection and prioritization of risks must be linked to the project objectives the risk management plan will defi ne the relative importance to be assigned to these objectives eg reliability takes precedence over time etc this may be in the form of numerical weights that can be applied to create a single weighted sum over all objectives for each risk any other features that may affect the urgency of dealing with a risk should also be specifi ed eg one linked to a resource that will soon disappear should be given greater urgency d2 techniques examples and templates for identify risks chapter 5 i dentify risks is carried out in order to develop a comprehensive list of all knowable uncertainties that could have an effect on the projects objectives table d2 identify risks csfs for effective technique strengths weaknesses application assumptions simple structured implicithidden requires a constraints analysis approach assumptions or comprehensive list can be based on constraints are often of assumptions assumptions missed constraints constraints already listed in project charter generates project specifi c risks brainstorming allows all participants requires attendance of attendance of to speak their mind key stakeholders at a representative group of and contribute to the workshop therefore can stakeholders discussion be diffi cult to arrange commitment to honesty can involve all key and expensive preparation stakeholders prone to groupthink and good facilitation creative generation of other group dynamics use of structure ideas may produce biased eg categories or rbs results if dominated by a strong person often management often not well facilitated generates nonrisks and duplicates requires fi ltering cause and effect visual representation diagram can quickly effective selection of ishikawa diagrams of project promotes become overcomplex critical impacts eg structured thinking by use of sensitivity analysis 2009 project management institute practice standard for project risk management 72 d appendix d table d2 identify risks continued csfs for effective technique strengths weaknesses application check lists captures previous check list can grow to regular maintenance is experience become unwieldy required presents detailed list risks not on the list will use of structure can of risks be missed assist eg rbs often only includes threats misses opportunities delphi technique captures input from limited to technical risks effective facilitation technical experts dependent on actual careful selection of removes sources of expertise of experts experts bias may take longer time than clear defi nition of scope available due to iterations of the experts inputs document review exposes detailed limited to risks understanding of projectspecifi c risks contained in project relevance of prior requires no specialist documentation experience tools fmeafault tree structured approach focuses on threats detailed description analysis well understood by not so useful for of the area being see chapter 7 engineers opportunities assessed produces an estimate requires expert tools not statistically accurate of overall reliability generally available to data on fault using quantitative tools those except experts probabilities for many good tool support events force field analysis creates deep timeconsuming and prioritized objectives understanding of complex technique factors that affect usually only applied to a project objectives single objective so does not provide wholeproject view industry knowledge captures previous limited to what has access to relevant base experience previously happened information allows benchmarking excludes projectspecifi c against external risks organisations continued 2009 project management institute practice standard for project risk management 73 d appendix d table d2 identify risks continued csfs for effective technique strengths weaknesses application influence diagrams exposes key risk drivers requires disciplined identify key areas to can generate counter thinking address intuitive insights not not always easy to available through other determine appropriate techniques structure interviews addresses risks in time consuming good interviewing and detail raises nonrisks questioning skills generates concerns issues worries environment of trust engagement of etc so requires fi ltering openness confi dentiality stakeholders preparation open relationship between interviewer and interviewee nominal group encourages and allows can lead to frustration in good briefi ng of all technique all participants to dominant members who participants in the contribute feel it is moving slowly technique allows for different strict facilitation levels of competence in common language to a large extent auto documenting provides ideal base for affi nity diagramming grouping by risk categories for use in the risk breakdown structure and root cause analysis postproject reviews leverages previous limited to those risks that well structured project lessons learned experience have occurred previously lessons learned historical information prevents making the information is frequently database see chapter 6 same mistakes or incomplete details participation of previous missing the same of past risks may project team members opportunities twice not include details of ideally including the enhances the successful resolution project manager organizational process ineffective strategies are assets rarely documented prompt lists ensures coverage of topics can be too high choice of list relevant all types of risk level to the project and its stimulates creativity environment 2009 project management institute practice standard for project risk management 74 d appendix d table d2 identify risks continued csfs for effective technique strengths weaknesses application questionnaire encourages broad success depends on the clear and unambiguous thinking to identify quality of the questions questions risks limited to the topics detailed briefi ng of covered by the questions respondents can be a simple reformatting of a checklist risk breakdown offers a framework for none requires a structure rbs other risk identifi cation comprehensive rbs techniques such as often tailored to the brainstorming project ensures coverage of all types of risk tests for blind spots or omissions rootcause analysis allows identifi cation of most risk management ability to identify if a see chapter 6 additional dependent techniques are organized risk is an outcome of risks by individual risk this a more fundamental allows the organization organization is not cause to identify risks conducive to identifying willingness by that may be related the root causes management to because of their can oversimplify and accept and address common root causes hide existence of other the root cause rather basis for development potential causes than adopting partial of preemptive and there may be no valid workarounds comprehensive strategy available for responses addressing the root can serve to reduce cause once it has been apparent complexity identifi ed swot analysis ensures equal focus focuses on internally good facilitation on both threats and generated risks arising strict adherence to opportunities from organizational the technique to avoid offers a structured strengths and confusing the four approach to weaknesses excludes swot perspectives identify threats and external risks ie between strengths opportunities tends to produce high and opportunities or focus on internal level generic risks not between weaknesses organizational projectspecifi c and threats strengths and weaknesses and external opportunities and threats continued 2009 project management institute practice standard for project risk management 75 d appendix d table d2 identify risks continued csfs for effective technique strengths weaknesses application system dynamics exposes unexpected requires specialized understanding of see chapter 715 interrelations between software and expertise to feedback project elements build models competence in applying feedback and feed focuses on impacts but tools and understanding forward loops diffi cult to include the their output can generate counter concept of probability quality of the system intuitive insights not model available through other accuracy of input techniques data collected for the produces overall specifi c project impacts of all included events and risks wbs review ensures all elements excludes external risks good wbs of the project scope or those not specifi cally are considered related to wbs elements provides for risks related to different levels of detail from highlevel to those related to individual work packages d21 techniques examples of techniques are given in d211 through d2115 d211 assumptions and constraints analysis this technique requires three steps 1 list assumptions and constraints for the project 2 test assumptions and constraints by asking two questions a could the assumptionconstraint be false b if it were false would one or more project objectives be affected positively or negatively 3 where both questions are answered yes generate a risk for example in the form assumption constraint may prove false leading to effect on objectives the results can be documented in table form as shown in figure d1 2009 project management institute practice standard for project risk management 76 d appendix d figure d1 example of a constraint analysis with fields for description and analysis results d212 brainstorming brainstorming is commonly used in a facilitated risk identifi cation workshop to identify risks the standard rules of brainstorming are often modifi ed when the technique is applied to risk identifi cation for example it is common to structure the risk identifi cation brainstorm using risk categories or a risk breakdown structure some evaluation of proposed risks is often included in a risk identifi cation brainstorm to remove nonrisks it is important to ensure active participation of relevant stakeholders in a risk identifi cation brainstorm and for the facilitator to manage group dynamics carefully no templates or examples are presented in this appendix d213 cause and effect ishikawa diagrams t his technique presents in diagrammatic form the causes which contribute to a given outcome each main cause can be split further into subcauses to use this technique for risk identifi cation the outcome should be stated as an effect on a project objective ie the impact of a risk the diagram then identifi es risks as those uncertain events which could result in occurrence of the impact care needs to be taken when using this technique for risk identifi cation to distinguish between risks uncertain causes of the impact and issues certain causes of the impact an example cause and effect ishikawa diagram is shown below the risk effect to be analyzed is staff leaving the project the main causes are environment ambition career prospects satisfaction remuneration figure d2 example of a cause and effect or ishikawa diagram for staff leaving 2009 project management institute practice standard for project risk management 77 d appendix d d214 checklists c hecklists are compiled to capture previous project experience and allow it to be used for subsequent similar projects it is possible to structure the risk identifi cation checklist around a risk breakdown structure as shown in the partial example below it is useful to present the checklist as a set of risks each of which is considered in turn to determine whether it might be relevant to the project under consideration risk identifi cation checklists should include both threats and opportunities figure d3 example fragment of a checklist with typical structure of category subcategory specific risks and effect d215 delphi technique the delphi technique uses a facilitated anonymous polling of subject matter experts to identify risks in their area of expertise the facilitator gathers the experts initial responses and circulates them without attribution to the group who may revise their contributions based on those of others the process often generates a consensus of the experts in a few iterations no templates or examples are presented d216 document review risks can be identifi ed through careful review of project documentation including the project charter statement of work contract terms and conditions subcontracts technical specifi cations regulatory requirements legal stipulations etc where relevant formal structured methods of document review can be used such as the fagan inspection process or a more informal approach may be adopted no templates or examples are presented d217 fmeafault tree analysis failure modes and effects analysis fmea or fault tree analysis is the analysis of a model structured to identify the various elements that can cause system failure by themselves or in combination with others 2009 project management institute practice standard for project risk management 78 d appendix d based on the logic of the system fault tree analysis is typically used in engineering contexts it can be adapted for use to identify risks by analyzing how risk impacts might arise another result is the probability of failure or of reliability mean time between failure etc of the overall system indicating the level of quality of the system or product if the level of reliability is not acceptable the fault tree can indicate where the system can be made more reliabletherefore it is useful in the design and engineering phase of the project an example is shown below figure d4 fault tree analysis of the possible causes of a crash at the main road junction this will be changed to be more projectoriented d218 force field analysis force field analysis is typically used in the change management context it can be adapted for risk identifi cation by identifying driving forces forces for change and restraining forces forces against change which currently affect achievement of a project objective risks can then be identifi ed as uncertain events or conditions which would lead to a change in the strength of one or more of the identifi ed forces an example force fi eld diagram is shown below 2009 project management institute practice standard for project risk management 79 d appendix d figure d5 example of a force field analysis and the balance of forces for and against change d219 industry knowledge base an industry knowledge base is a special case of a checklist see above and is used similarly no templates or examples are presented d2110 infl uence diagrams an infl uence diagram is a diagrammatic representation of a project situation showing the main entities decision points uncertainties and outcomes and indicating the relationships infl uences between them the infl uence diagram can identify risks when combined with sensitivity analysis or monte carlo simulation to reveal sources of risk within the project an example is shown below 2009 project management institute practice standard for project risk management 80 d appendix d figure d6 example of an influence diagram in a bidding situation d2111 interviews r isk identifi cation interviews should include all main stakeholders and be conducted by an independent skilled interviewer using a structured agenda in an atmosphere of confi dentiality honesty and mutual trust a risk breakdown structure checklist or prompt list can be used as a framework for risk interviews no templates or examples are presented d2112 nominal group technique t he nominal group technique is an adaptation of brainstorming where participants share and discuss all issues before evaluation with each participant participating equally in evaluation no templates or examples are presented d2113 postproject reviewslessons learnedhistorical information i nformation relevant to risks for a current project can be obtained by reviewing databases of risks which occurred in previous similar situations such databases might arise from postproject reviews or lessons learned exercises they may also exist as repositories of historical information either within an organization or industry body no templates or examples are presented 2009 project management institute practice standard for project risk management 81 d appendix d d2114 prompt lists a prompt list is a set of risk categories which can be used to stimulate risk identifi cation the prompt list may be presented as a risk breakdown structure see below or as a set of headings a number of standard prompt lists have been developed for use in risk identifi cation and some of these are presented below these can then be used as a framework for other risk identifi cation techniques such as brainstorming see d212 or risk interviews see d2111 1 the pestle prompt list political economic social technological legal environmental 2 the tecop prompt list technical environmental commercial operational political 3 the spectrum prompt list sociocultural political economic competitive technology regulatorylegal uncertaintyrisk market d2115 questionnaire a risk identifi cation questionnaire can be presented as a special form of checklist see d214 where possible risks are shown in question format for example is the clients requirement clearly defi ned rather 2009 project management institute practice standard for project risk management 82 d appendix d than as risk statements the client may change the requirement after project start alternatively a risk identifi cation questionnaire can be used to present the headings from a prompt list see d2114 asking questions such as are there any uncertainties arising from the use of technology on this project no templates or examples are presented d2116 risk breakdown structure rbs t he risk breakdown structure rbs is a hierarchical framework of potential sources of risk to a project an organization may develop a generic rbs for use across all its projects or a project may use a projectspecifi c rbs a partial example rbs is shown below figure d7 example of a generic risk breakdown structure 2009 project management institute practice standard for project risk management 83 d appendix d d2117 rootcause analysis a root cause analysis seeks to identify basic causes of risks that may be visible symptoms of more fundamental forces it may also identify common sources of several risks leading to broadreaching risk response strategies similarly care needs to be taken when using this technique for risk identifi cation to distinguish between risks uncertain causes of the impact and issues certain causes of the impact in the diagram shown below the risks that were initially identifi ed included rework extra cost schedule slips low team morale customer mistrust and repeated audits an examination of the identifi ed risks lead to a common root cause that later phases of the project were typically started before the earlier ones were suffi ciently mature this organization repeatedly ignored the proper phase entry prerequisites hastening later project stages in order to speed up the project figure d8 example of a root cause analysis d2118 swot analysis swot analysis identifi es four characteristics of a given situation strengths weaknesses opportunities and threats the technique is commonly used in strategic decision making it can be adapted for risk identifi cation by changing the interpretation of the four perspectives such that strengths and weaknesses relate to the characteristics of the organization conducting the project and opportunities and threats identify the project risks the technique is particularly useful for identifying internallygenerated risks arising from within the organization for example opportunities might be found by leveraging organizational strengths or threats might arise as a result of organizational weaknesses as illustrated below 2009 project management institute practice standard for project risk management 84 d appendix d figure d9 example of a swot analysis structure d2119 system dynamics system dynamics sd is a particular application of infl uence diagrams see above and can be used to identify risks within a project situation the sd model represents entities and information fl ows within a project and analysis of the model can reveal feedback and feedforward loops which lead to uncertainty or instability in addition the results of an sd analysis can show the impact of risk events on overall project results such as the cost or schedule results to be expected analyses of changes in the model or assumptions can indicate the systems sensitivity to specifi c events some of which may be risks a simple example of an sd diagram is shown in figure d11 figure d10 example of a simple system dynamics model with feedback loops 2009 project management institute practice standard for project risk management 85 d appendix d d2120 wbs review t he work breakdown structure wbs for a project can form a framework for a number of other risk identifi cation techniques such as brainstorming risk interviews checklists or prompt lists no templates or examples are presented d3 techniques examples and templates for perform qualitative risk analysis chapter 6 perform qualitative risk analysis prioritizes for further analysis or handling the undifferentiated list of risks that have been identifi ed in the identify risks process organizations tend to apply resources to those designated as high risk based on their priority often indicated by the risks probability and impact characteristics d31 techniques for perform qualtitative risk analysis example of approaches are given in table d3 and d311 through d313 table d3 techniques for perform qualitative risk analysis csfs for effective technique strengths weaknesses application root cause analysis see chapter 5 estimating techniques addresses both diffi cult to calibrate if agreed defi nitions applied to probability key dimensions of there is no historical of probability and and impacts a risk namely its database of similar impacts which degree of uncertainty events refl ect stakeholders expressed as terms for probability risk tolerances and probability and its eg probable thresholds effect on project almost certain and values used in objectives expressed for impact eg the defi nitions as impact insignifi cant major represent the same are ambiguous and level of impact subjective across objectives impacts can as perceived by be uncertain or the organizations represented by a management or range of values that project stakeholders cannot be put into a consistent use of specifi c impact level these defi nitions such as moderate across all identifi ed impact on time risks 2009 project management institute practice standard for project risk management 86 d appendix d table d3 techniques for perform qualitative risk analysis continued csfs for effective technique strengths weaknesses application access to smes who have experience with the type of risk postproject reviews lessons learned historical information see chapter 5 probability and impact allows the organization does not explicitly pi matrix requires matrix pi matrix to prioritize the handle other factors that the input project risks for such as urgency or data are clear and further analysis eg manageability that unambiguous in quantitative or risk may partly determine assigning levels of response a risks ranking probability and impact refl ects the the range of e ffective estimation of organizations level of uncertainty in the impact and likelihood risk tolerance assessment of a as outlined previously risks probability or organizations should impact may overlap a be careful to assess boundary the combinations of probability and impact that qualify a risk as low moderate or high risk so that the method used refl ects the organizations risk attitude defi nitions used to designate the levels of impact l m h for each objective should represent the same level of impact as perceived by the organizations management or project stakeholders as refl ecting the organizations utility function continued 2009 project management institute practice standard for project risk management 87 d appendix d table d3 techniques for perform qualitative risk analysis continued csfs for effective technique strengths weaknesses application analytic hierarchy assists in developing organizational expert facilitator in process a relative weighting decisions are often the process for project objectives made by committees agreement by that refl ects the and individuals may management that it organizations not agree on relative is useful to develop priorities for time priority among a consistent set of cost scope and objectives priorities among quality for the project diffi cult to gather the objectives assists the creation information about use of proper method of an overall project pairwise comparison or available ahp priority list of risks of the objectives software created from the from highlevel risks priority with management respect to individual objectives rootcause analysis see chapter 5 d311 estimating techniques applied to probability and impact the probability of a risk occurring can be specifi ed in several different ways one common way is to assign levels of risk probability by ranges of probability one benefi t of this approach is that the subject matter experts only need to assess a risks probability within a range rather than as a specifi c value an example assuming that a 55 probability and impact matrix is desired is shown in figure d11 where the probability ranges are more tightly defi ned at low levels of probability examples of impact level defi nitions are very projectspecifi c the values used to specify the level of impact from very low to very high if a 55 matrix is being used should be h igher impact for threats or opportunities as they move from very low to very high for a specifi c objective l evels are defi ned by the organization as causing the same amount of pain or gain to the project for each level across objectives i f a risks possible impact is uncertain and could be assigned to more than one level of impact eg from moderate to high the analyst may choose to assign the risk to the impact level that represents the expected or average impact alternatively the risk may be fl agged for extra analysis in order to reduce the range of uncertainty to fi t within a single range a n example of impact level defi nitions is shown in figure d11 these defi nitions should be tailored or scaled by stakeholders to the specifi c project the defi nitions appropriately tailored to the project can be used for opportunities and threats 2009 project management institute practice standard for project risk management 88 d appendix d figure d11 example of definitions for levels of probability and impact on four specific objectives used to evaluate individual risks n oteopportunities are to be treated as representing a positive saving in time or cost or increased functionality for threats each impact scale is interpreted negatively ie time delays increased cost or reduced functionality d 312 probability and impact matrix organizations typically assess a risks priority on an objective from the combination of probability of occurrence and impact on that project objective using defi nitions such as those shown in figure d11 risks are then placed on a probability and impact pi matrix such as one shown below this matrix includes both threats and opportunities figure d12 example of probabilityimpact matrix used to sort risks threats and opportunities into high risk h moderate risk m and low risk l classes 2009 project management institute practice standard for project risk management 89 d appendix d d313 analytic hierarchy process ahp a hp is a method to calibrate preferences for achieving the different objectives of a project do they prefer to achieve time more than cost is quality more important than scope what is the relative weighting of the projects objectives in terms of their priority to the stakeholders or to management the results are weights summing to 100 that refl ect the relative priority of each objective this prioritization can be important in determining how tradeoffs affecting different objectives eg should we reduce scope to fi nish on time will be decided it can also be used to create an overall project risk priority list from risks that have been assessed on their implications for individual objectives specialized software implementing ahp is available a spreadsheet implementation is shown below figure d13 example of analytic hierarchy process computations to determine the relative weighting of four project objectives 2009 project management institute practice standard for project risk management 90 d appendix d d4 techniques examples and templates for perform quantitative risk analysis chapter 7 p erform quantitative risk analysis seeks to determine the overall risk to project objectives when all risks potentially operate simultaneously on the project it provides answers to several questions h ow likely is the project to complete on the schedule date or earlier how likely is the project actual cost to be the budgeted cost or less how reliable will the product be that the project produces what is the best decision to make in the face of uncertain results h ow much contingency in time and cost is needed to provide the organization with its desired degree of confi dence in the results how should the design of the product or system be changed most economically to increase its reliability what are the individual risks that seem to be the most important in determining the overall project risk d41 techniques for perform quantitative risk analysis examples of techniques for perform quantitative risk analysis are found shown in table d4 and details are given in d411 through d415 csfs for effective technique strengths weaknesses application decision tree analysis causes the it is sometimes careful structuring of organization to diffi cult to create the the decision tree all structure the costs decision structure alternative decisions and benefi ts of probabilities of that are materially decisions when occurrences can be different should be the results are diffi cult to quantify considered decision determined in part by in the absence of trees should be uncertainty and risk historical data specifi ed completely solution of the the best decision may access to highquality decision tree helps change with relatively data about probability select the decision plausible changes in cost and reward for that provides the the input data meaning the decisions and highest expected that the answer may events specifi ed using monetary value or not be stable historical information expected utility to the or judgment of the organization may organization experts not make decisions based on a linear use of a utility expected monetary function that has value basis but rather been validated with on a nonlinear utility the organizations function utility functions decision makers are diffi cult to specify continued 2009 project management institute practice standard for project risk management 91 d appendix d csfs for effective technique strengths weaknesses application the organization may availability and not make decisions understanding of the based on a linear specialized software expected monetary needed to structure value basis but rather and solve the on a nonlinear decision tree utility function utility functions are diffi cult to specify decision tree analysis of complicated situations requires specialized though available software there may be some resistance to using technical approaches to decisionmaking expected monetary value emv allows the user assessment of identifi cation of all emv to calculate the probability of risky possible events that weighted average events occurring and need to be included in expected value of an of their impact can be the emv calculation event that includes diffi cult to make access to historical uncertain outcomes emv provides only data or expert it is wellsuited to the expected value opinions on the decision tree analysis of uncertain events values of probability emv incorporates risk decisions and impact that both the probability often require more are needed for the and impact of the information than emv calculation of emv uncertain events can provide understanding of the emv is a simple emv is sometimes difference between calculation that used in situations emv and the output does not require where monte carlo of simulation tools specialized software simulation would be such as monte carlo more appropriate and analysis provide additional information about risk fmeafault tree analysis see chapter 5 2009 project management institute practice standard for project risk management 92 d appendix d csfs for effective technique strengths weaknesses application monte carlo simulation used primarily for schedules are creation of a good project schedule and not simple and project model typical cost risk analysis in often cannot be models include the strategic decisions used in simulation cost estimate and the allows all specifi ed without significant schedule risks to vary debugging by an use summarylevel simultaneously expert scheduler models such as calculates the quality of the project schedules and quantitative estimates input data depends cost estimates of overall project risk heavily on the expert access to high refl ects the reality judgment and the quality data on risks that several risks may effort and expertise of including the risks occur together on the the risk analyst impact on project project simulation is elements uncertain provides answers sometimes resisted activity durations to questions such by management as and uncertain as 1 how likely is being unnecessary cost elements the the base plan to be or too sophisticated credibility depends on successful 2 how compared to the quality of the data much contingency traditional project collected in time and cost do management tools use of correct we need to achieve monte carlo simulation tools our desired level of simulation requires confi dence specialized software 3 which activities which must be are important in acquired and learned determining the causing a barrier to overall project risk its use will produce unrealistic results unless input data include both threats and opportunities postproject reviews lessons learned historical information see chapter 5 system dynamics see chapter 5 2009 project management institute practice standard for project risk management 93 d appendix d d411 decision tree analysis decision tree analysis is usually performed using specialized but widely available software the software allows the user to specify the structure of the decision with decision nodes chance nodes costs benefi ts and probabilities the user can also evaluate the different decisions using linear utility functions based on expected monetary value or on nonlinear utility functions of various shapes an example is shown below where the negative numbers represent outfl ows or investments eg cots the percentages represent probabilities of the event occurring eg major problems the positive numbers represent rewards or values eg after fix the problem true indicates the decision option taken from the square decision node whereas false indicates the decision option not taken figure d14 example of a decision tree for choosing between an experimental technology vs commercial off the shelf cots technology source precision tree from palisade corporation d412 expected monetary value expected monetary value emv is a simple calculation of a value such as weighted average or expected cost or benefi t when the outcomes are uncertain all reasonable alternative outcomes are identifi ed their probabilities of occurring summing to 100 and their values are estimated the emv calculation is made for the entire event by weighting the individual possible outcomes by their probabilities of occurring as shown in figure d15 d413 monte carlo simulation monte carlo simulation is a detailed computerintensive simulation approach to determining the value and probability of possible outcomes of a project objective such as a project schedule eg the completion date or cost estimate eg the total cost it computes the schedule or cost estimate many times using inputs drawn at 2009 project management institute practice standard for project risk management 94 d appendix d figure d15 example of an expected monetary value calculation when there are three uncertain product demand scenarios random from ranges specifi ed with probability distribution functions for schedule activity durations or cost line items the solutions using these different input values are used to build a histogram of possible project outcomes and their relative probability and cumulative probability from which to compute desired contingency reserves of time or cost additional results include the relative importance of each input in determining the overall project cost and schedule examples of the output of schedule and cost risk results are shown in figures d16 and d17 d414 monte carlo analysis of finish dates in quantitative schedule risk analysis figure d16 example histogram from monte carlo simulation of a project schedule source pertmaster v 80 primavera pertmaster 2009 project management institute practice standard for project risk management 95 d appendix d d415 monte carlo analysis of project cost at completion in quantitative cost risk analysis figure d17 example histogram from monte carlo simulation of a project cost estimate source crystal ball v 738 from oracle hyperion decisioneering d5 techniques examples and templates for plan risk responses chapter 8 p lan risk responses develops the set of actions required to take into account the projects risks and their characteristics and integrates them into the corresponding project management plan the resultant plan should satisfy the risk appetites and attitudes of the key stakeholders d51 techniques for plan risk response techniques for plan risk responses are given in table d5 and sections d511 through d515 technique strengths weaknesses csfs for effective application brainstorming see chapter 5 check lists see chapter 5 contingency planning ensures that actions can give a false feeling the trigger conditions are available to address of confi dence as must be clearly signifi cant events if the risk had been defi ned and tracked before their occurrence avoided 2009 project management institute practice standard for project risk management 96 d appendix d csfs for effective technique strengths weaknesses application allows rapid and the plans need to be focussed response validated periodically improves image of willingness of the professionalism of organization to the way in which the execute the plan and project is managed provide the budget and resources when the trigger condition occurs contingency reserve provides a rationale makes the reserve policy for reserve estimation for reserves visible and therefore management agreed basis for constructive liable to be reduced with sponsor and discussion with arbitrarily senior management sponsor critical chain project along with many other feeding buffers can requires a fully management ccpm approaches insists deal with predictable resourced project on resolving resource common cause schedule availability issues variation but may be understanding of when developing the inadequate to cater and acceptance schedule for special causes by management addresses schedule indicative start and project team risk by the addition and end dates can members that the of feeding buffers disturb conventional activity dates are to absorb statistical management indicative rather than variations on the expectations defi nitive promises durations of noncritical and may cause being generally set path activities to reduce problems for to provide a 50 their contribution to setting intermediate confi dence level schedule risk milestones equitable sharing partly mitigates assumption that base of the buffers by fi nancial risk by estimates represent all team members controlling the amount 50 confi dence concerned of work in process levels this weakness buffer penetration is not followed in all thresholds can be used variants of this class as trigger condition of tool for specifi c response not all project actions schedules are fully special software is resourced available for creating and managing the buffers continued 2009 project management institute practice standard for project risk management 97 d appendix d csfs for effective technique strengths weaknesses application decision tree analysis allows calculation see chapter 7 of the expected monetary values of various response options as well as the value of the outcomes in the worst case and the best case delphi technique involves selected see chapter 5 experts in the process expected monetary provides an estimate value emv of the potential benefi t of a risk see chapter 7 response force field analysis the diagram can see chapter 5 suggest where best to apply the responses industry knowledge base some risks have see chapter 5 standard responses interviews experienced see chapter 5 practitioners can provide both new ideas and act as devils advocate for potential responses nominal group useful as a creativity technique technique for generating novel see chapter 5 responses multicriterion selection provide a means can give counter needs an agreed set techniques of selecting the intuitive results of weighted project responses that best success criteria supports the full set of project objectives postproject reviews leverages previous lessons learned experience historical information see chapter 5 2009 project management institute practice standard for project risk management 98 d appendix d csfs for effective technique strengths weaknesses application prompt lists stimulates creativity see chapter 5 quantitative risk provides a means can be too involved prior effective analysis of evaluating the or complex for the qualitative analysis potential effect benefi t envisaged see chapter 7 of the response plans on the overall project risk rootcause analysis allows the see chapter 5 organization to identify and to address the fundamental causes of risks for effi cient and effective responses responding at the level of the root cause may effectively address multiple risks can provide a means of identifying symptoms for use as trigger conditions for contingent responses scenario analysis provides view of the adds to the list of all participants need potential effect of assumptions a good understanding the relevant risk and can be time of the project plans the corresponding consuming response strategy forces the participants to analyze the effect of any strategy helps to identify secondary risks 2009 project management institute practice standard for project risk management 99 d appendix d d511 contingency planning for specifi c normally highimpact risks the risk owner may choose to assemble a team to develop a response as if the risk had genuinely happened the corresponding plan with the supporting information should then be documented and approved at project management or sponsor level this approval must include authorization to deploy the corresponding resources if the predefi ned trigger conditions arise no templates or examples are presented d512 contingency reserve estimation a ll of the conditional response plans as well any of the residual risks will if they occur have an effect on the schedule andor budget andor performance objectives of the project an amount time and cost needs to be set aside to allow for these eventualities this amount is made up of two components those to cover specifi c approved conditional responses eg contingency plans and those to address unspecifi ed or passively accepted risks quantitative methods see chapter 7 can be used to determine the amounts that should be set aside eg decision trees for conditional responses simulation for the set of unspecifi ed risks these reserves are tracked and managed in monitor and control risks chapter 9 no templates or examples are presented d513 multicriteria selection techniques t his is an adaptation of the perform qualitative risk analysis process chapter 6 based on selection criteria the example below shows the use of a spreadsheet to calculate the weighted scores of two options based on a predefi ned set of prioritized criteria points is the product of weight by rating figure d18 example of comparing options by their ratings along four prioritized criteria d514 scenario analysis scenario analysis for risk response planning involves defi ning several plausible alternative scenarios eg no change and all goes to plan disaster occurs utopia etc the different scenarios may require different risk responses that can be described and evaluated for their cost and effectiveness if the organization can choose between scenarios the alternatives including the responses can be compared if the scenarios are out of the control of the organization the scenario analysis can lead to effective and necessary contingency planning 2009 project management institute practice standard for project risk management 100 d appendix d no template is offered for this technique d515 critical chain project management a simple critical chain network is shown in figure d19 figure d19 simple critical chain network d6 techniques examples and templates for monitor and control risks chapter 9 m onitor and control risks provides the assurance that risk responses are being applied verifi es whether they are effective and as necessary initiates corrective actions d61 techniques for monitor and control risks process techniques for monitor and control risks are given in table d6 and d611 through d616 table d6 monitor and control risks example csfs for effective technique strengths weaknesses application critical chain project use of buffer management ccpm penetration to trigger actions such as see chapter 8 adjusting the relative priority of tasks continued 2009 project management institute practice standard for project risk management 101 d appendix d csfs for effective technique strengths weaknesses application reserve analysis provides a means of could lead to prior detailed reserve tracking spend and unwarranted focus on planning releasing contingency cost dimension accurate sizing of amounts as risks attention to overall the contingency expire can be applied measure of reserve reserve of time or to schedule reserves depletion may hide cost relative to the in the same way detailed risks risk to overall project gives early warning of completion date and need to communicate budget with sponsor risk audits provide a formal can be disruptive to wellspecifi ed risk assessment of the the project and taken management plan compliance with the as too judgemental to sensitivity to the approach specifi ed in the project team burden it places on the risk management the project team plan risk reassessment forces a review of takes time and effort wellmaintained the project risks project and risk when it becomes documentation necessary so that the scheme risk register remains uptodate status meetings provide a means of can seem good meeting verifying information unnecessary to some preparation and about the status participants discipline of risks active occurred retired and maintaining team understanding trend analysis provides an indication requires regular reporting and of the effectiveness of understanding of analysis of the critical earlier responses signifi cant vs non values can provide trigger signifi cant variation conditions for responses 2009 project management institute practice standard for project risk management 102 d appendix d csfs for effective technique strengths weaknesses application variance analysis allows comparison does not show realistic prior between forecast and relationship with defi nitions of actual risk impacts earlier data thresholds for can provide trigger the values can be signifi cant variance conditions for taken out of context responses provides data for earned value analysis which can be compared to quantitative risk analysis results d611 reserve analysis an analytical technique to determine the essential features and relationships of components in the project management plan to establish a reserve for the schedule duration budget estimated cost or funds for a project tracking the state of the reserve through project execution will provide summary information as to the evolution of the status of the corresponding risks this information can be useful when reporting up the organization to those responsible for several projects in addition once a corresponding risk occurs or ceases to be current ie when it can no longer impact the project the corresponding reserve needs to be reviewed in order to assess whether it still provides the agreed level of confidence time buffers can be used in two different ways to provide for accepted schedule risks as described above or as a schedulingrelated technique in critical chain project management ccpm in contrast with the contingency reserve for identified risks the buffers in ccpm provide a shared mechanism for accommodating the natural variability of activity durations over a sequence or chain of activities tracking the rate at which each such buffer is used during project execution provides valuable information at a given point in time as to the level of schedule risk along that chain and is used in ccpm for adapting the priority or management focus for additional analysis and as necessary triggering further risk management activities no templates or examples are presented 2009 project management institute practice standard for project risk management 103 d appendix d d612 risk audits risk audits are carried out in order to evaluate are the risk management rules being carried out as specifi ed are the risk management rules adequate for controlling the project no templates or examples are presented d613 risk reassessment the objective of risk reassessment is to ensure that the full risk management cycle is repeated as required to ensure effective control see figure d20 figure d20 the risk reassessment process d614 status meetings risks can and should be on the agenda at all project reviews typically the agenda items should cover the following top priority risks at present are there any changes risks or trigger conditions that have occurred what is the status of the actions 2009 project management institute practice standard for project risk management 104 d appendix d risks responded to in the last period effectiveness of actions taken are there any additional actions required risks closed in the last period impact on the plans lessons to be added to the organizational process assets d615 trend analysis the evolution of the variance values over time should be analyzed in order to evaluate how the risk profi le is changing whether previous actions are having the expected effect and whether additional actions are required the earned value formulae of the to complete performance index can be used to assess changes with respect to time and cost no templates or examples are presented d616 variance analysis the formulae in earned value analysis cv sv cpi spi can be used to set thresholds for action and to indicate when the risk process may be ineffective earned value management systems evms use variance from plan as the basis of forecasts or extrapolations to the cost at completion projections made using evms have been shown by experience to be reliable early in the project eg 20 into the execution no templates or examples are presented 2009 project management institute practice standard for project risk management 105 1 1 introduction roject management institute pmi practice standard guide use tool technique process identifi ed guide project management body knowledge pmbok uide fourth edition pmi standard practice standard targeted audience participate management project includes project manager project personnel contract personnel supervisor project stakeholder pmi practice standard describes process activity input output specifi knowledge area provides information signifi cant process tool technique doe signifi cant performed executed necessary clarifi cation perform process practice standard doe prescribe process implemented leaving subject forum handbook manual course includes following section 11 purpose practice standard project risk management 12 project risk management defi nition 13 role project risk management project management 14 good risk management practice 15 critical success factor project risk management project management institute practice standard project risk management 1 1 1 introduction 11 purpose practice standard project risk management purpose practice standard project risk management provide standard project management practitioner stakeholder defi ne aspect project risk management recognized good practice project time provide standard globally applicable consistently applied practice standard ha descriptive purpose rather one used training educational purpose practice standard project risk management cover risk management applied single project like mbok guide fourth edition practice standard doe cover risk program portfolio project hapter 11 mbok guide fourth edition basis ractice standard project risk management practice standard consistent emphasizing concept principle relating project risk management aligned pmi practice standard figure 11 compare purpose practice standard mbok uide fourth edition textbook handbook course figure 11 hierarchy pmi project risk management resource project management institute practice standard project risk management 2 1 1 introduction practice standard organized three main section 1 ntroductory material including framework purpose principle context introduction project risk management process defi ned pmbok guide fourth edition 2 principle underlying six project risk management process mbok uide fourth edition six process follows plan risk management identify risk perform qualitative risk analysis perform quantitative risk analysis plan risk response monitor control risk ach six process described address following four topic purpose objective process critical success factor process tool technique process documenting result process 3 glossary term used practice standard practice standard emphasizes principle fundamental effective comprehensive successful project risk management principle stated general level several reason 1 rinciples expected agreed upon valid future tool technique constantly evolving principle stability persistence 2 different project organization situation require different approach project risk management particular risk management discipline contains series process apply large small project risk management effective practice tailored project congruent organizational culture process asset different way conducting risk management comply principle project risk management presented practice standard 3 principle applicable project carried global context refl ecting business organizational arrangement participant example joint venture commercial national company government nongovernment organization crosscultural environment often found project team principle described herein used check organization process practitioner establish process specifi particular situation project organization compare principle thus validating good project risk management practice project management institute practice standard project risk management 3 1 1 introduction 12 project risk management defi nition defi nition project risk management defi ned mbok guide fourth edition basis practice standard project risk management includes process concerned conducting risk management planning identifi cation analysis response monitoring control project pmbok guide fourth edition also state objective project risk management increase probability impact positive event decrease probability impact negative event project pmbok uide fourth edition project risk uncertain event condition occurs ha positive negative effect project objective project objective include scope schedule cost quality project risk management aim identify prioritize risk advance occurrence provide actionoriented information project manager orientation requires consideration event occur therefore described term likelihood probability occurrence addition dimension impact objective 13 role project risk management project management roject risk management optional activity essential successful project management applied project hence included project plan operational document way becomes integral part every aspect managing project every phase every process group project management process address planning project concept fi nal design procurement daily management execution closeout process often assume unrealistic degree certainty project therefore need include treatment project risk project risk management address uncertainty project estimate assumption therefore build upon extends project management process instance project scheduling provides date critical path based activity duration resource availability assumed known certainty quantitative risk analysis explores uncertainty estimated duration provide alternative date critical path realistic given risk project project risk management substitute project management process contrary project risk management requires project management process eg scheduling budgeting change management performed level best practice available project risk management add perspective project risk output process add value taking risk account instance risk management provides basis upon estimate amount cost schedule contingency reserve needed cover risk response action required level confi dence meeting project objective project management institute practice standard project risk management 4 1 1 introduction paradox project risk affect project early stage project level risk exposure maximum information project risk minimum situation doe mean project go forward little known time rather different way approaching project different risk implication situation recognized realistic project plan expectation result risk management approach applicable throughout project life cycle earlier project life cycle risk recognized realistic project plan expectation result risk management continues add value project planning progress information becomes available aspect component project environment stakeholder scope time cost well corresponding assumption constraint balance project fl exibility knowledge project risk need reviewed regularly optimized plan develop true project plan becomes set fundamental decision agreement contract place option making substantial change capture opportunity mitigate threat reduced project execution risk management process monitor change project undergoes new risk emerge appropriate response developed well check existing risk longer plausible project risk management play role providing realistic expectation completion date cost project even option changing future inally throughout project project closure riskrelated lesson reviewed order contribute organizational learning support continuous improvement project risk management practice 14 good risk management practice roject risk management valuable component project management enhances value project management process process project risk management conducted manner consistent existing organizational practice policy addition like process involved project management project risk management conducted way appropriate project project risk management recognize business challenge well multicultural environment associated increasingly global environment including joint venture project customer supplier workforce spread around globe change project management plan result project risk management process require decision appropriate level management reassign personnel establish modify budget make commitment others outside project interact regulator comply rule accounting law project risk management conducted compliance internal external requirement project management institute practice standard project risk management 5 1 1 introduction project risk management always conducted ethical basis keeping project management code ethic conduct honesty responsibility realism professionalism fair dealing others among characteristic successful project risk management effective project risk management benefi robust communication consultation stakeholder enables agreement among stakeholder project risk management general risk identifi cation analysis response particular carried realistic objective way subject political unreasonable infl uences project risk management conducted project degree level detail sophistication tool amount time resource applied project risk management proportion characteristic project management value add outcome thus large project provides value important customer would theoretically require resource time attention project risk management would smaller shortterm internal project conducted background fl exible deadline ach project risk management process scaled appropriate project management plan risk management process reviewed periodically determine decision made process remain appropriate 15 critical success factor project risk management figure 12 critical success factor project risk management project management institute practice standard project risk management 6 1 1 introduction pecifi criterion success project risk management process listed dealing process general criterion success include recognize value risk management project risk management recognized valuable discipline provides positive potential return investment organizational management project stakeholder internal external project management team member individual commitmentresponsibility project participant stakeholder accept responsibility undertaking riskrelated activity required risk management everybodys responsibility open honest communication everyone involved project risk management process action attitude hinder communication project risk reduce effectiveness project risk management term proactive approach effective decisionmaking organizational commitment organizational commitment established risk management aligned organization goal value project risk management require higher level managerial support project management discipline handling risk require approval response others level project manager risk effort scaled project project risk management activity consistent value project organization level project risk scale organizational constraint particular cost project risk management appropriate potential value project organization integration project management project risk management doe exist vacuum isolated project management process successful project risk management requires correct execution project management process critical success factor project risk management illustrated figure 12 16 conclusion principle project risk management described practice standard appropriately applied based specifi project organizational environment project risk management provides benefi implemented according good practice principle organizational commitment taking decision performing action open unbiased manner project management institute practice standard project risk management 7 2 2 principle concept 21 introduction introduces key idea required understand apply project risk management project following approach described 11 mbok guide fourth edition principle concept generally consistent approach project risk management commonly used although terminology differ detail execution project risk management process dealt subsequent practice standard discussed 22 defi nition project risk word risk used way everyday language various specialist discipline use mbok uide fourth edition consistent risk management standard process description defi nition project risk given pmbok guide fourth edition follows roject risk uncertain event condition occurs ha positive negative effect project objective defi nition includes two key dimension risk uncertainty effect project objective assessing importance project risk two dimension must considered uncertainty dimension described using term probability effect called impact though descriptor possible likelihood consequence defi nition risk includes distinct event uncertain clearly described general condition le specifi also give risk uncertainty defi nition project risk also encompasses uncertain event could negative effect project objective well could positive effect two type risk called respectively threat opportunity important address threat opportunity within unifi ed project risk management process allows gain synergy effi ciencies addressing analysis coordinating response overlap reinforce project management institute practice standard project risk management 9 2 2 principle concept isks uncertain future event condition occur would matter occur important distinguish risk riskrelated feature cause effect cause event circumstance currently exist certain exist future might give rise risk effect conditional future event condition would directly affect one project objective associated risk occurs causeriskeffect chain used structured risk statement risk description ensure three element properly described see section 53 risk event occurs cease become uncertain threat occur called issue problem opportunity occur called benefi issuesproblems benefi entail project management action outside scope project risk management process 23 individual risk overall project risk useful consider project risk two level individual risk overall project risk ndividual risk specifi event condition might affect project objective individual risk positively negatively affect one project objective element task understanding individual risk assist determining apply effort resource enhance chance project success daytoday project risk management focus individual risk order enhance prospect successful project outcome verall project risk represents effect uncertainty project whole overall project risk sum individual risk project since applies whole project rather individual element task represents exposure stakeholder implication variation project outcome important component strategic decisionmaking program portfolio management project governance investment sanctioned cancelled priority set higher level necessary set realistic target cost duration project establish contingency reserve level required protect project stakeholder set appropriate project priority judge whether risk overall success increasing decreasing implementation advance 24 stakeholder risk attitude risk attitude project stakeholder determine extent individual risk overall project risk matter wide range factor infl uence risk attitude include scale project within range stakeholder overall activity strength public commitment made performance project stakeholder sensitivity issue environmental impact industrial relation factor stakeholder risk attitude usually result desire increased certainty project outcome express preference one project objective another risk regarded usually also strongly infl uenced organization culture different organization le open often impact way risk management applied project management institute practice standard project risk management 10 2 2 principle concept understanding stakeholder attitude toward risk important component risk management planning precedes risk identifi cation analysis order optimize project success stakeholder satisfaction project result attitude identifi ed managed proactively deliberately throughout project risk management process differ one project another stakeholder usually differ one group stakeholder another fact single stakeholder adopt different risk attitude various stage project also important understand particular implication stakeholder risk attitude project team international crossindustry multiorganizational 25 iterative process nature project circumstance change planned executed amount information available risk usually increase time go risk occur others new risk arise discovered characteristic already identifi ed change result project risk management process repeated corresponding plan progressively elaborated throughout lifetime project ensure project risk management remains effective identifi cation analysis risk revisited periodically progress risk response action monitored action plan adjusted accordingly external circumstance change signifi cantly also necessary revisit risk management planning process development initial risk management plan risk assessment start process end frequency depth review update depend nature project volatility environment project implemented timing project management review update 26 communication roject risk management take place isolation success relies heavily communication throughout process isk identifi cation analysis depend comprehensive input stakeholder project ensure nothing signifi cant overlooked risk realistically assessed credibility process commitment act manage risk assured way process operates conclusion produce understood seen credible concerned demand effective honest communication project risk management process rest project team project stakeholder communication result project risk management process targeted meet specifi need stakeholder refl ected within overall project communication strategy stakeholder responsibility role risk management identifi ed agreedupon project management institute practice standard project risk management 11 2 2 principle concept 27 responsibility project risk management considered simplistic say risk management everyones responsibility previously stated however important management project risk left risk specialist project risk management included integral part project process since project risk affect project objective anyone interest achieving objective play role project risk management specifi role depend project team member stakeholder place within project relation project objective role responsibility project risk management clearly defi ned communicated individual held responsible accountable result includes allocating responsibility specifi activity within risk process well resulting action required implement agreedupon response responsibility also allocated ensuring riskrelated lesson captured future use 28 project manager role project risk management project manager ha particular responsibility relation project risk management process project manager ha overall responsibility delivering successful project fully meet defi ned objective project manager accountable daytoday management project including effective risk management role project manager include cid129 encouraging senior management support project risk management activity cid129 determining acceptable level risk project consultation stakeholder cid129 developing approving risk management plan cid129 promoting project risk management process project cid129 facilitating open honest communication risk within project team management stakeholder cid129 participating aspect project risk management process cid129 approving risk response associated action prior implementation cid129 applying project contingency fund deal identifi ed risk occur project cid129 overseeing risk management subcontractor supplier cid129 egularly reporting risk status key stakeholder recommendation appropriate strategic decision action maintain acceptable risk exposure cid129 escalating identifi ed risk senior management appropriate risk include outside authority control project manager require input action outside project release management reserve fund might appropriate cid129 monitoring effi ciency effectiveness project risk management process cid129 auditing risk response effectiveness documenting lesson learned project management institute practice standard project risk management 12 3 3 introduction project risk management process 31 project risk management project management project uncertain uncertainty inevitable since project unique temporary undertaking based assumption constraint delivering project result multiple stakeholder different requirement project management seen attempt control uncertain environment use structured disciplined technique estimating planning cost control task allocation earned value analysis monitoring review meeting etc element project management ha role defi ning controlling uncertainty inherent project roject risk management provides approach uncertainty understood assessed managed within project form integral part project management effective project risk management critical success factor project success project management fully effective however important project risk management viewed optional process performed additional overhead task since element project management address inherent uncertainty interface structured project risk management process project management need clear output project risk management taken account within project management process example impact estimating resource requirement cost duration assessing impact proposed scope change planning replanning forward strategy project allocating resource task reporting progress stakeholder one action performed properly without clear view risk involved determined project risk management process word project management process effectiveness increased using information result project risk management addition effective project risk management requires input project management process output work breakdown structure wb estimate project schedule assumption list etc important prerequisite effective project risk management project management institute practice standard project risk management 13 3 3 introduction project risk management process 32 project risk management process defi ned step project risk management describe structured approach understanding managing risk project outline step required effective project risk management step described detail subsequent previously defi ned project risk uncertain event condition occurs ha positive negative effect project objective defi nition clear risk exist relation objective therefore essential start project risk management process clearly defi ne objective also clear different project exposed different level risk step project risk management process scalable meet varying degree risk scalable element process include available resource methodology process used tool technique used supporting infrastructure review update frequency reporting requirement precondition successful project risk management implementation important clear understanding risk threshold defi ne key stakeholder view acceptable level risk well framework identifi ed risk assessed result project risk management process always start initiation step required order ensure common understanding agreement team stakeholder approach parameter applied managing risk project well scope objective project risk management process project risk management activity resource attention appropriate project since different project warrant different level risk management application main action provide required tailoring follows defi ne objective risk identifi ed defi ne element project risk management process scaled project defi ne risk threshold tolerance assessment framework output initial step documented communicated reviewed stakeholder ensure common understanding scope objective project risk management process document formally approved senior level project management institute practice standard project risk management 14 3 3 introduction project risk management process nce project risk management scope objective agreed upon possible start identifying risk careful distinguish genuine risk nonrisks cause effect problem issue etc variety risk identifi cation technique available strength weakness one technique selected appropriate meeting need specifi project aim expose document knowable risk recognizing risk inherently unknowable others emerge later project emergent nature risk requires project risk management process iterative repeating identify risk process order fi nd risk evident earlier project input sought wide range project stakeholder identifying risk since different perspective risk facing project historical record project document also reviewed identify risk project identifi ed risk recorded ideally risk owner designated identifi ed risk responsibility risk owner manage corresponding risk subsequent project risk management process following risk identifi cation necessary evaluate importance risk order prioritize individual risk attention evaluate level overall project risk determine appropriate response risk evaluation performed using qualitative technique address individual risk using quantitative technique consider overall effect risk project outcome using combination two approach require different type data qualitative quantitative technique used integrated approach adopted qualitative technique used gain better understanding individual risk considering range characteristic probability occurrence degree impact project objective manageability timing possible impact relationship risk common cause effect etc understanding prioritizing risk essential prerequisite managing qualitative technique used project output qualitative assessment documented communicated key project stakeholder form basis determining appropriate response uantitative technique provide insight combined effect identifi ed risk project outcome technique take account probabilistic projectwide effect correlation risk interdependency feedback loop thereby indicating degree overall risk faced project result indication degree overall risk faced project result quantitative analysis used focus development appropriate response particularly calculation required contingency reserve level must documented communicated inform subsequent action quantitative technique required project ensure effective management risk project management institute practice standard project risk management 15 3 3 introduction project risk management process nce individual risk prioritized degree overall project risk exposure understood appropriate risk response developed using iterative process continues optimal set response ha developed range possible response strategy exists threat opportunity risk owner select suitable strategy individual risk based characteristic assessed priority ensuring strategy achievable affordable cost effective appropriate use single strategy address several related risk considered whenever possible risk owner responsible defi ning action implement chosen strategy action delegated action owner appropriate risk owner monitor action determine effectiveness also identify secondary risk arise implementation risk response addition individual risk response action taken respond overall project risk response strategy action documented communicated key project stakeholder incorporated project plan essential agreedupon action implemented otherwise risk exposure project remains unchanged also vital project risk management process repeated regular interval throughout life project enable project team reevaluate status previously identifi ed risk identify emergent secondary risk determine effectiveness project risk management process step outlined previously form project risk management process detailed subsequent follows plan risk management 4 defi ne scope objective project risk management process ensures risk process fully integrated wider project management identify risk 5 identifi knowable risk practicable perform qualitative risk analysis 6 evaluates key characteristic individual risk enabling prioritized action perform quantitative risk analysis 7 evaluates combined effect risk overall project outcome plan risk response 8 determines appropriate response strategy action individual risk overall project risk integrates consolidated project management plan monitor control risk 9 implement agreedupon action review change project risk exposure identifi additional risk management action required ass effectiveness project risk management process igure 31 show fl ow control information various step within project risk management process project management institute practice standard project risk management 16 3 3 introduction project risk management process figure 31 project risk management process flow diagram project management institute practice standard project risk management 17 4 4 plan risk management 41 purpose objective plan risk management process objective plan risk management process develop overall risk management strategy project decide risk management process executed integrate project risk management project management activity ffective risk management requires creation risk management plan plan describes risk management process carried fi project management process broader level describes relationship among project risk management general project management management process rest organization provide greatest benefi initial risk management planning carried early overall planning project corresponding risk management activity integrated overall project management plan risk management plan subsequently need adapted need project stakeholder become clearer change although project risk management process form integral part overall project management plan budget term resource cost time specifi risk management activity established order better track control necessary defend corresponding expenditure throughout project cost treating risk included appropriately project budget risk management plan describe part project budget evaluated allocated managed risk management plan defi ne monitoring method ensure corresponding expenditure tracked appropriately well condition approved budget risk management modifi ed way project management process progressive elaboration risk management activity need repeated throughout project risk management plan defi ne normal frequency repeating process well specifi exceptional condition corresponding action initiated corresponding risk management activity integrated project management plan two category success criterion risk management success project general success project risk management project management institute practice standard project risk management 19 4 4 plan risk management projectrelated criterion ass success project risk management stakeholder must agree acceptable level result projectrelated criterion cost time scope order ensure consistency agreement among stakeholder risk management plan present objective reference project defi nition document provide guidance risk management particularly prioritizing risk response stakeholder also prioritize project objective processrelated criterion measure success project risk management depend number factor inherent level uncertainty project example project risk management process research project need address unforeseen change project predictable environment research project risk management process considered success even result variance baseline would allowable successful process predictable project level risk considered acceptable project depends risk attitude relevant stakeholder risk attitude organization stakeholder infl uenced number factor need identifi ed include inherent tolerance uncertainty relative importance achieving missing specifi project objective output analysis taken account setting threshold providing weighting factor applying project risk management process specifi project guideline rule escalating riskrelated information management stakeholder refl ect risk attitude expectation corresponding stakeholder project manager maintain effective communication stakeholder project evolves order become aware change stakeholder attitude adapt risk management approach take new fact account important participant share common understanding term used describe risk critical value threshold serve parameter tool defi ned manner consistent scope project attitude stakeholder qualitative analysis us term high impact medium probability defi ned objectively risk management plan similarly risk management plan specify key numerical value required quantitative analysis decisionmaking risk response planning risk monitoring control isk management planning establish type level risk detail addressed provide template risk register used recording riskrelated information risk management plan also indicate intensity effort frequency various project risk management process applied depends characteristic project well specifi ed risk management objective order project risk management process carried correctly effectively project team stakeholder need know expected participate criterion determining success level authority action take relative action decision beyond level risk management plan specifi project risk management role responsibility defi ne corresponding expectation senior management project personnel project management institute practice standard project risk management 20 4 4 plan risk management iskrelated communication occurs two level within project team project team project stakeholder principle category communication defi ned risk management plan team plan describes frequency scope various risk management meeting report required carry corresponding project risk management process well structure content meeting report stakeholder plan set expectation structure content frequency routine document received well way information shared escalation exceptional event detail information required project team stakeholder also clearly defi ned 42 critical success factor plan risk management process principal criterion valid risk management plan acceptance stakeholder alignment internal external constraint project balance cost effort benefi completeness respect need project risk management process critical success factor plan risk management process detailed 421 identify address barrier successful project risk management time effort required carry plan risk management process supported unless stakeholder especially management organization responsible project recognize accept benefi managing risk added value addressing skill right rather passive reactive component general project management clear defi nition project objective highlevel view project environment solution approach required provide valid basis risk management project manager therefore ensure valid defi nition planning information available plan risk management activity organization inexperienced risk management planning need develop approach expend inappropriate amount time effort alternatively use proprietary preexisting approach requires tailoring availability following organizational process asset contributes chance success plan risk management activity standard template predefi ned risk category established project management methodology incorporating risk management procedure specify risk information required decision making required defi nition concept term role responsibility authority level access relevant lesson learned stage allow experience taken account start project risk management plan deliver value unless project risk management carried integral part project corresponding activity built project work breakdown structure included corresponding schedule budget workassignment document project management institute practice standard project risk management 21 4 4 plan risk management 422 involve project stakeholder project risk management project manager need involve project stakeholder plan risk management activity build skill experience well ensure understanding commitment full project risk management process provision risk management resource specifi ed within risk management plan approved management level adequate carrying required project risk management process accordance agreedupon objective management involved analysis level resourcing required managing project risk accept risk arise specifi limitation placed provision resource disagreement stakeholder area risk tolerance evaluation measure addressed resolved 423 comply organization objective policy practice feasibility risk management planning dependent upon feature organization carried rule guideline defi ned risk management plan compatible culture organization capability point view people facility value goal objective roject management general risk management particular contribute organization effective governance risk management plan identify take account relevant organizational procedure enterprise environmental factor apply strategic risk management corporate governance process 43 tool technique plan risk management process 431 planning session lanning session recommended order build common understanding project risk approach project stakeholder gain agreement technique used managing risk laboration risk management plan often serf develop effective mean team work together since similar consultative team approach used subsequent stage risk management process participant include project manager selected project team member stakeholder member broader organization responsibility risk subject matter expert facilitator needed point initial risk responsibility methodology template term defi nitions time schedule cost budget project risk management process assigned accepted specifi cation tool used subsequent process include parameter input required ensure applicability specifi project documented risk management plan formally approved principal deliverable plan risk management process project management institute practice standard project risk management 22 4 4 plan risk management 432 template order benefi experience existing best practice risk management planning take account relevant existing template work product risk status report risk breakdown structure risk register decision made template relevant project adapted included risk management plan 44 documenting result plan risk management process result risk management planning documented risk management plan plan serf provide project stakeholder common view riskrelated activity project handled ha agreed upon description stakeholder involvement responsibility activity overview key area focus given figure 41 figure 41 key area focus plan risk management process depending upon size complexity project following element present risk management plan introduction project description risk management methodology risk management organization role responsibility authority stakeholder risk tolerance criterion success risk management tool guideline use threshold corresponding defi nitions template communication plan strategy risk breakdown structure project management institute practice standard project risk management 23 5 5 identify risk 51 purpose objective identify risk process risk managed unless fi rst identifi ed consequently risk management planning ha completed fi rst process iterative project risk management process aim identify knowable risk project objective however impossible identify risk outset project time level project risk exposure change result decision action taken previously project internal change externally imposed change purpose risk identifi cation identify risk maximum extent practicable fact risk unknowable emergent requires identify risk process iterative repeating identify risk process fi nd new risk become knowable since previous iteration process hen risk fi rst identifi ed potential response also identifi ed time recorded identify risk process considered immediate action action appropriate response implemented immediately considered plan risk response process 52 critical success factor identify risk process practice described section 521 5210 maximize value effectiveness identify risk process enhance likelihood identifying risk practicable 521 early identifi cation isk identifi cation performed early possible project lifecycle recognizing paradox uncertainty high initial stage project often le information base risk identifi cation early risk identifi cation enables key project decision take maximum account risk inherent project result change project strategy also maximizes time available development implementation risk response enhances effi ciency since response taken early often normally le costly later one project management institute practice standard project risk management 25 5 5 identify risk 522 iterative identifi cation since risk identifi ed given point project essential risk identifi cation repeated throughout project life cycle done periodically frequency determined plan risk management process risk identifi cation might also repeated key milestone project whenever signifi cant change project operating environment 523 emergent identifi cation addition invoking identify risk process defi ned project plan project risk management process permit risk identifi ed time limited formal risk identifi cation event regular review 524 comprehensive identifi cation broad range source risk considered ensure uncertainty possible might affect objective identifi ed 525 explicit identifi cation opportunity identify risk process ensure opportunity properly considered 526 multiple perspective identify risk process take input broad range project stakeholder ensure perspective represented considered limiting risk identifi cation immediate project team unlikely expose knowable risk 527 risk linked project objective ach identifi ed project risk relate least one project objective time cost quality scope etc noting pmbok uide defi ne risk uncertain event condition occurs ha positive negative effect project objective consideration project objective identify risk process assist identifying risk noting risk affect one objective 528 complete risk statement dentifi ed risk clearly unambiguously described understood responsible risk assessment risk response planning single word phrase resource logistics inadequate properly communicate nature risk detailed risk description required explicitly state uncertainty cause effect project management institute practice standard project risk management 26 5 5 identify risk 529 ownership level detail isks identifi ed number level detail generalized highlevel description risk make diffi cult develop response assign ownership describing risk lot detail create great deal work risk described level detail assigned single risk owner clear responsibility accountability management trigger condition also identifi ed possible appropriate 5210 objectivity human activity susceptible bias especially dealing uncertainty motivational bias someone trying bias result one direction another cognitive bias bias occur people using best judgment applying heuristic occur explicitly recognized addressed identify risk process source bias exposed wherever possible effect risk process managed proactively aim minimize subjectivity allow open honest identifi cation risk possible project 53 tool technique identify risk process range tool technique available risk identifi cation fall following three category illustrated figure 51 figure 51 three perspective risk identification project management institute practice standard project risk management 27 5 5 identify risk 531 historical review historical review based occurred past either project similar project organization comparable project organization historical review approach rely careful selection comparable situation genuinely similar current project fi ltering data ensure relevant previous risk considered case risk identifi ed selected historical situation considered asking whether similar risk might arise project 532 current assessment urrent assessment rely detailed consideration current project analyzing characteristic given framework model order expose area uncertainty unlike historical review approach current assessment technique rely outside reference point based purely examination project 533 creativity technique wide range creativity technique used risk identifi cation encourages project stakeholder use imagination fi nd risk might affect project outcome effectiveness technique depend ability participant think creatively technique used either singly group employ varying degree structure technique depend ability participant think creatively success enhanced use skilled facilitator ach category risk identifi cation technique ha strength weakness single technique expected reveal knowable risk consequently identify risk process particular project use combination technique perhaps selecting one category example project choose use risk identifi cation checklist historical review together assumption analysis current assessment brainstorming creativity use risk breakdown structure organizes category potential risk project prompt list set generic list category assist ensuring source risk practicable addressed recognizing tool complete replace original thinking project management institute practice standard project risk management 28 5 5 identify risk whichever risk identifi cation technique used important identifi ed risk unambiguously described order ensure project risk process focused actual risk distracted diluted nonrisks use structured risk description ensure clarity risk metalanguage offer useful way distinguishing risk cause effect describing risk using threepart statement form result cause risk occur would lead effect relationship cause risk effect shown figure 52 figure 52 cause risk effect 54 documenting result identify risk process result identify risk process recorded order capture relevant information currently available identifi ed risk main output identify risk process risk register includes properly structured risk description nominated risk owner risk also include information cause effect risk trigger condition preliminary response project management institute practice standard project risk management 29 6 6 perform qualitative risk analysis 61 purpose objective perform qualitative risk analysis process perform qualitative risk analysis process ass evaluates characteristic individually identifi ed project risk prioritizes risk based agreedupon characteristic assessing individual risk using qualitative risk analysis evaluates probability risk occur effect individual risk project objective doe directly address overall risk project objective result combined effect risk potential interaction however achieved use quantitative risk analysis technique see 7 one step analysis categorize risk according source cause several risk arise common source sometimes called root cause risk response effective focus addressing root cause dentifying common effect group risk allows identifi cation area greatest risk exposure eg project completion date budget particular deliverable scope facilitating risk response focus area method qualitative risk analysis applied list risk created updated identify risk process provide project management characteristic risk infl uence positive negative achieving project objective risk assessed high priority either threaten enhance achievement project objective important focus plan risk response process analyzed analysis overall project risk discussed perform quantitative risk analysis process 62 critical success factor perform qualitative risk analysis process several factor lead successful qualitative risk analysis described section 621 624 summarized figure 61 agreement project stakeholder fundamental criterion common theme agreedupon approach foundation process credibility agreedupon defi nitions enable highquality information collected finally condition place process executed reliably contributes credibility output project management institute practice standard project risk management 31 6 6 perform qualitative risk analysis figure 6 1 building risk analysis credibility 621 use agreedupon approach process based agreedupon approach assessment applied across identifi ed risk project nature project risk risk assessed according probability occurrence impact individual objective risk occur factor considered determining importance risk follows urgency proximity risk requiring near term response considered urgent address indicator urgency include lead time necessary execute risk response clarity symptom warning sign also known detectability trigger response manageability risk manageable would waste resource attempt address project team examine decide go forward perhaps establishing contingency reserve stop rescope project risk pose unmanageable threat opportunity missed high probability consequence inform customer risk ask decision point view mpact external project risk increase importance affect enterprise beyond project 622 use agreedupon defi nitions risk term risk assessment based agreedupon defi nitions important term defi nitions used consistently assessing risk use defi nitions example level probability impact objective assist provider information giving realistic assessment risk facilitates communication result management stakeholder project management institute practice standard project risk management 32 6 6 perform qualitative risk analysis 623 collect highquality information risk ollection highquality information risk required often information available historic database gathered interview workshop mean using expert judgment data gathered individual subject reporting intentional bias occurs bias identifi ed remedied possible different unbiased source information found used 624 perform iterative qualitative risk analysis success qualitative risk analysis enhanced process used periodically throughout project impossible know advance risk occur project therefore identify risk perform qualitative analysis process repeated periodically individual risk frequency effort planned plan risk management process also depend event within project 63 tool technique perform qualitative risk analysis process tool technique used assessing individual risk identify risk important project success process illustrated figure 62 figure 62 perform qualitative risk analysis process project management institute practice standard project risk management 33 6 6 perform qualitative risk analysis 631 select risk characteristic defi ne risk importance ualitative risk analysis tool provide way distinguish risk important response analysis le important criterion make risk interest management agreed upon advance implemented tool used output qualitative risk analysis tool includes listing risk priority order priority group eg high moderate low tool qualitative risk analysis allow organization project stakeholder specify level combination risk characteristic make particular risk interest management tool ass risk importance combination probability occurrence degree impact objective 632 collect analyze data ssessment individual risk based information collected therefore data collection evaluation tool including interview workshop reference database prior project require management support attention important protect bias data gathering important relying expert judgment information 633 prioritize risk probability impact specifi objective ome tool permit distinguishing risk priority term affected objective capability provides list risk important specifi objective interest management useful since common risk uneven impact various project objective 634 prioritize risk probability impact overall project reason constructing measure specifi risk importance entire project contrasted importance specifi objective common reason ease communication management stakeholder single risk prioritization index needed organization explicit index created usually index refl ect organization preference among objective technique creating overall risk priority measure documented plan risk management process project management institute practice standard project risk management 34 6 6 perform qualitative risk analysis 635 categorize risk cause categorizing risk appropriately lead improved analysis probability magnitude project risk effective response understanding relationship risk provide better understanding possibility magnitude project risk risk considered separate independent event identifying common root cause group risk instance reveal magnitude risk event group whole along effective strategy might address several risk simultaneously alternatively risk linked others causal chain understanding chain risk lead better understanding implication risk project identifying risk occur time using resource recovery might provide realistic picture problem risk mitigation using scarce resource combining result perform qualitative risk analysis process risk breakdown structure see identify risk 5 show cluster priority risk arising specifi source combination risk analysis information work breakdown structure wb show area project exhibit risk assessing highpriority risk impact one objective schedule indicate activity address reduce objective uncertainty approach contribute realism usefulness qualitative risk analysis 636 document result perform qualitative risk analysis process perform qualitative risk analysis process add structure list undifferentiated risk see identify risk 5 category priority priority usually based risk probability occurring potential impact specifi project objective whole project identifi ed risk assigned priority perhaps objective entire project information usually stored risk register easy use update new information risk register list prioritized risk posted project participant responsible analysis action improve project plan risk judged high priority segregated analysis response planning generally monitored frequently risk low priority project placed watch list reviewed le often change status project management institute practice standard project risk management 35 7 7 perform quantitative risk analysis 71 purpose objective perform quantitative risk analysis process perform quantitative risk analysis process provides numerical estimate overall effect risk objective project based current plan information considering risk simultaneously result type analysis used evaluate likelihood success achieving project objective estimate contingency reserve usually time cost appropriate risk risk tolerance project stakeholder generally accepted analyzing uncertainty project using quantitative technique monte carlo simulation provide realism estimate overall project cost schedule nonprobabilistic approach assumes activity duration lineitem cost estimate deterministic however recognized quantitative risk analysis always required appropriate project example qualitative risk analysis provide enough information development effective risk response especially smaller project therefore plan risk management process benefi quantitative risk analysis weighed effort required ensure additional insight value justify additional effort artial risk analysis qualitative risk analysis aim prioritizing individual risk viewed one time therefore produce measure overall project risk risk considered simultaneously calculating estimate overall project risk focus perform quantitative risk analysis process pecifi project risk usually best understood quantifi ed detailed level lineitem cost schedule activity level contrast project objective achievement project budget schedule specifi ed higher level often level total project overall risk analysis one us quantitative technique estimate implication quantifi ed risk project objective implementation overall risk analysis using quantitative method requires complete accurate representation project objective built individual project element example representation include project schedule cost estimate identifying risk individual project element schedule activity lineitem cost level detail lends specifi assessment individual risk including generic risk broader effect individual project element applying quantitative method monte carlo simulation decision tree analysis incorporates multiple risk simultaneously determining overall impact overall project objective project management institute practice standard project risk management 37 7 7 perform quantitative risk analysis esults quantitative analysis compared project plan baseline current give management estimate overall project risk answer important question probability meeting project objective much contingency reserve eg reserve buffer time resource cost needed provide organization level certainty requires based upon risk tolerance hat part project lineitem cost schedule activity contribute risk risk considered simultaneously individual risk contribute overall project risk estimating overall project risk using quantitative method help distinguish project quantifi ed risk threaten objective beyond tolerance stakeholder objective within acceptable tolerance even risk considered former targeted vigorous risk response aimed protecting objective important stakeholder highlevel comparison quantitative qualitative risk analysis process presented figure 71 figure 71 comparison qualitative quantitative approach 72 critical success factor perform quantitative risk analysis process success achieving objective quantitative risk analysis depends explicitly least factor described section 721 726 project management institute practice standard project risk management 38 7 7 perform quantitative risk analysis 721 prior risk identifi cation qualitative risk analysis perform quantitative risk analysis process occurs identify risk perform qualitative risk analysis process completed reference prioritized list identified risk ensures perform quantitative risk analysis process consider significant risk analyzing effect quantitatively 722 appropriate project model appropriate model project used basis quantitative risk analysis project model frequently used quantitative risk analysis include project schedule time lineitem cost estimate cost decision tree decision face uncertainty totalproject model quantitative risk analysis especially sensitive completeness correctness model project used 723 commitment collecting highquality risk data ften highquality data risk available historic database gathered interview workshop mean using expert judgment present collection risk data requires resource time well management support 724 unbiased data uccess gathering risk analysis data requires ability recognize bias occur combating bias developing unbiased source data bias risk data occur reason two common source bias cognitive bias motivational bias 725 overall project risk derived individual risk perform quantitative risk analysis process based upon methodology correctly derives overall project risk individual risk risk analysis cost schedule example appropriate method monte carlo simulation decision tree appropriate method making decision future event certain using probability impact risk combining effect derive overall project measure value cost method risk specifi ed level detailed task lineitem cost incorporated model project calculate effect objective schedule cost entire project combining risk project management institute practice standard project risk management 39 7 7 perform quantitative risk analysis 726 interrelationship risk quantitative risk analysis attention given possibility individual risk project model related example several risk common root cause therefore likely occur together possibility sometimes addressed correlating risk related ensuring generally occur together analysis another common way represent risk occur together using risk register listing risk root cause attaching several project element schedule activity cost element particular risk occurs affected element experience effect risk together 73 tool technique perform quantitative risk analysis process ools technique used appropriately quantitative risk analysis several characteristic follows 731 comprehensive risk representation risk model permit representation risk impact objective simultaneously also permit representation opportunity threat project objective 732 risk impact calculation uantitative model facilitate correct calculation effect risk typically identifi ed quantifi ed level detail total project project objective typically described level total project 733 quantitative method appropriate analyzing uncertainty probability model use quantitative method address uncertainty specifi cally method able handle way uncertainty represented predominantly probability event occurring probability distribution range outcome good example use monte carlo simulation tool permit combination probability distribution lineitem cost schedule activity duration uncertain 734 data gathering tool ata gathering tool used process include assessment historical data workshop interview questionnaire gather quantifi ed informationfor example probability risk occurring probability distribution potential impact cost time relationship correlation risk project management institute practice standard project risk management 40 7 7 perform quantitative risk analysis 735 effective presentation quantitative analysis result esults quantitative tool generally available standard deterministic project management method project scheduling cost estimating example probability distribution project completion date total cost expected value project decision result risk considered simultaneously include following probability achieving project objective fi nishing time within budget mount contingency reserve cost time resource needed provide required level confi dence dentity location within project model important risk example sensitivity analysis cost risk analysis criticality analysis schedule risk analysis element quantitative risk analysis illustrated figure 72 figure 72 structure quantitative risk analysis project management institute practice standard project risk management 41 7 7 perform quantitative risk analysis 736 iterative quantitative risk analysis success perform quantitative risk analysis process enhanced process used periodically throughout project impossible know advance risk occur project often quantitative risk analysis repeated project proceeds frequency effort determined plan risk management process also depend event within project see monitor control risk 9 737 information response planning verall project contingency reserve time cost refl ected project schedule budget quantitative risk analysis provides information used modify project plan overall risk time cost indicates adjustment scope needed scope change agreed upon documented new quantitative risk analysis carried refl ect new aspect project 74 documenting result perform quantitative risk analysis process contingency reserve calculated quantitative project cost schedule risk analysis incorporated respectively cost estimate schedule establish prudent target realistic expectation project contingency reserve also established provide capture opportunity judged priority project contingency reserve required exceeds time resource available change project scope plan result lso result analysis provide le urgency risk response see plan risk response 8 depending probability achieving plan objective amount contingency reserve required provide necessary level confi dence result quantitative risk analysis recorded passed person andor group responsible project management within organization action required make full use result project management institute practice standard project risk management 42 8 8 plan risk response plan risk response process determines effective response action appropriate priority individual risk overall project risk take account stakeholder risk attitude convention specifi ed risk management plan addition constraint assumption determined risk identifi ed analyzed 81 purpose objective plan risk response process objective plan risk response process determine set action enhance chance project success complying applicable organizational project constraint risk identifi ed analyzed prioritized plan developed addressing every risk project team considers suffi ciently important either threat pose project objective opportunity offer planning entail agreeing upon action taken potential change budget schedule resource scope action might cause contingent risk response action need executed optimum time reason response specifi cation risk include description corresponding trigger condition responsibility monitoring project condition implementing corresponding action clearly assigned every risk allocated risk owner part identify risk process corresponding risk response assigned specifi risk action owner risk owner responsible ensuring risk response effective planning additional risk response required whereas risk action owner responsible ensuring agreedupon risk response carried planned timely manner role risk owner risk action owner assigned single person esponses implemented potential effect project objective generate additional risk known secondary risk analyzed planned way risk initially identifi ed never feasible even desirable eliminate threat project similarly also limit extent opportunity proactively managed residual risk remain response implemented residual risk clearly identifi ed analyzed documented communicated relevant stakeholder project management institute practice standard project risk management 43 8 8 plan risk response approved unconditional action arising risk response planning integrated project management plan order ensure carried part normal project implementation corresponding organizational project management rule also invoked including following cid129 project change management confi guration control cid129 project planning budgeting scheduling cid129 resource management cid129 project communication planning 82 critical success factor plan risk response process range factor important success plan risk response process described section 821 828 shown figure 81 figure 81 critical success factor risk response planning 8 21 communicate communication various stakeholder maintained open appropriate manner resulting plan disseminated approval obtained order ensure full acceptance stakeholder addition organizational cause risk culture attitude disagreement concerning objective present addressed openly require involving high level organization management stakeholder project management institute practice standard project risk management 44 8 8 plan risk response 822 clearly defi ne riskrelated role responsibility risk response success dependent upon full support involvement project team stakeholder key role project risk management risk owner risk action owner single risk owner assigned every identifi ed risk agreedupon risk response single risk action owner people corresponding responsibility aware expected project stakeholder understand accept need authority role management take ownership risk political organizational cause addition senior management approve track associated riskrelated contingency reserve 823 specify timing risk response agreedupon response integrated project management plan therefore scheduled assigned execution response depend uncertain condition also monitored performed condition warrant 824 provide resource budget schedule response ach response planned detail accordance methodology project integrated project management plan entail estimating resource cost duration updating budget schedule obtaining approval management obtaining commitment risk owner risk action owner management role stage vital supporting project manager developing risk response authorizing corresponding resource 825 address interaction risk response esponses developed address risk related either cause effect common root cause categorization risk example using tool risk breakdown structure affi nity diagram categorizing tool help identify address situation also need plan risk response process consider risk aggregated perform quantitative risk analysis process eg ten small related risk combined pose big risk project develop generic response possible another interaction effect occur one risk occurs affect probability impact risk deciding response strategy require compromise since proposed response mutually exclusive counterproductive example mitigating threat time could cost money thereby increasing pressure budget risk response planning also need take holistic view proposed response make sure coherent project management institute practice standard project risk management 45 8 8 plan risk response challenge therefore planning response risk need control potential effect strategy developed treating original risk overlooked total level threat project actually increase potential opportunity compromised 826 ensure appropriate timely effective agreedupon response general response appropriate timely costeffective feasible achievable agreedupon assigned accepted proposed risk response plan need assessed following criterion cid129 consistency organizational value project objective stakeholder expectation cid129 technical feasibility cid129 ability project team risk action owner outside project carry corresponding action cid129 balance overall impact response project objective improvement risk profi le project 827 address threat opportunity risk response planning combine response address threat well provide opportunity single integrated plan either threat opportunity fully addressed combined set response strategy incomplete even invalid 828 develop strategy tactical response risk response planning carried openminded manner rather adopting fi rst response seems feasible response planned general strategic level strategy validated agreed upon prior developing detailed tactical approach response planned strategic level expanded action tactical level integrated project management plan eg schedule budget resource assignment activity generate additional secondary risk need addressed time 83 risk response strategy project manager develop risk response strategy individual risk set risk project level risk overview step arriving complete set response given figure 82 affected stakeholder involved determining strategy strategy selected need agreed upon entity approves strategy four strategy address individual risk threat opportunity described section 831 834 see also fig 82 project management institute practice standard project risk management 46 8 8 plan risk response 831 avoid threat exploit opportunity strategy involves taking action required address threat opportunity order ensure either threat occur effect project opportunity occur project able take advantage 832 transfer threat share opportunity strategy entail transference third party better positioned address particular threat opportunity 833 mitigate threat enhance opportunity itigation enhancement widely applicable widely used response strategy approach identify action decrease probability andor impact threat increase probability andor impact opportunity 834 accept threat opportunity strategy applies strategy considered applicable feasible acceptance entail taking action unless risk actually occurs case contingency fallback plan developed ahead time implemented risk present 835 applying risk response strategy overall project risk addition responding individual risk four risk response strategy applied address overall project risk follows cid129 cancel project last resort overall level risk remains unacceptable cid129 set business structure customer supplier share risk cid129 replan project change scope boundary project example modifying project priority resource allocation delivery calendar etc cid129 pursue project despite risk exposure exceeds desired level 84 tool technique plan risk response process four category tool technique follows cid129 creativity tool identify potential response cid129 decisionsupport tool determining optimal potential response cid129 strategy implementation technique designed turn strategy action cid129 tool transfer control monitor control risk process project management institute practice standard project risk management 47 8 8 plan risk response hese category tool used respectively identify potential response select appropriate response translate strategy planning assign corresponding action step involved planning risk response shown figure 82 841 response identifi cation risk response planning build available information potential risk aim determine optimal set response reason involve subject matter expert employ creativity technique order explore option project planning execution technique required evaluate potential effect various option project objective 842 response selection set potential response risk addressed established decisionsupport technique need applied select best possible subset response selection process take account cost response impact project objective uncertainty outcome possible secondary residual risk identify risk perform quantitative risk analysis plan risk response process need applied resultant project management plan residual secondary risk would entail iterative approach continues individual risk deemed acceptable overall risk within predefi ned threshold 843 action planning project planning tool used turn chosen strategy concrete action integrate existing plan corresponding action unconditional ie integrated project management plan contingent trigger condition predefi ned contingency response strategy 844 ownership responsibility assignment project manager need use resource assignment process ensure availability owner risk response action associated risk managed corresponding risk response carried timely effective manner enable risk monitoring identify imminence actual occurrence corresponding event every contingency response strategy include set trigger condition responsibility monitoring condition clearly assigned plan risk response process managed monitor control risk process project management institute practice standard project risk management 48 8 8 plan risk response strategic defi nition risk response include measurable criterion success response risk action owner monitor assigned risk take agreedupon action required provide risk owner relevant information status change risk characteristic risk owner ass effectiveness action decide whether additional action required keep project manager informed situation figure 82 step involved planning risk response project management institute practice standard project risk management 49 8 8 plan risk response 85 documenting result plan risk response process isk response planning based information placed risk register execution identify risk perform analysis process corresponding risk response information often referred risk response plan although fact integral part risk register 851 add risk response risk register responserelated information risk recorded risk register updated regularly interested stakeholder able rapidly access information required verify responsibility manage risk accordance risk response plan set residual risk priority clearly identifi ed recorded 852 add corresponding risk response project management plan hile developing detailed set risk response projectrelated implication evaluated inclusion modifi ed project management plan include cost resource assignment scheduling detail change project documentation change formally approved along additional risk carry risk response planning considered complete 853 review document predicted exposure nce risk response defi ned integrated project management plan individual overall residual risk related plan evaluated order determine whether additional response planning required shown figure 82 evaluation provide estimate expected postresponse situation potential improvement risk exposure assuming proposed response effective evaluation documented project management institute practice standard project risk management 50 9 9 monitor control risk effectiveness project risk management depends upon way approved plan carried plan executed correctly reviewed updated regularly carried correctly invested effort rewarded future project benefi project experience 91 purpose objective monitor control risk process primary objective risk monitoring controlling track identifi ed risk monitor residual risk identify new risk ensure risk response plan executed appropriate time evaluate effectiveness throughout project life cycle addition tracking managing risk response action effectiveness project risk management process reviewed provide improvement management current project well future one risk set risk contingent response ha defi ned corresponding set trigger condition specifi ed responsibility action owner ensure condition effectively monitored corresponding action carried defi ned timely manner plan risk response process complete approved unconditional response action included defi ned current project management plan fi rst action risk monitoring controlling check whether case take appropriate action necessary invoking change management process respect missing action ensure agreedupon action carried within normal project execution framework risk owner risk action owner need briefed change affect responsibility effective communication need maintained project manager designated stakeholder accept accountability controlling potential outcome specifi risk apply best effort track associated trigger condition carry agreedupon response timely manner addition response action trigger condition mechanism measuring effectiveness response provided plan risk response process risk action owner keep risk owner aware status response action risk owner decide risk ha effectively dealt whether additional action need planned implemented project management institute practice standard project risk management 51 9 9 monitor control risk project progress additional information becomes available project environment change risk occur whether foreseen unforeseen others become cease relevant planning therefore kept current project manager ensure periodic risk reassessment including risk identifi cation analysis response planning repeated reasonable interval response project eventswithout generating excessive administrative overhead typical reason risk reassessment occurrence major unexpected risk need analyze complex change request phase end review project replanning major plan elaboration periodic review ensure information remains current event major organizational change risk management planning need revisited prior reassessing risk addition regular status review periodic audit performed determine strength weakness handling risk within project entail identifying barrier effectiveness key success risk management recognition could lead improvement risk management current future project end project integrated analysis risk management process carried focus longterm process improvement analysis consolidates fi ndings periodic audit identify lesson would applicable general large proportion organization project future appropriate level resource adequate time analysis use tool level detail etc project closure project manager ensure description ha given closure every risk risk register example occur occurred contingency plan invoked occurred impact project scope ie time cost quality output audit risk management process consolidated specifi information respect project experience risk generally applicable guideline organization highlighted potential action proposed applying lead update corresponding organizational process asset overview step involved monitor control risk process given figure 91 project management institute practice standard project risk management 52 9 9 monitor control risk figure 91 schematic representation monitor control risk process 92 critical success factor monitor control risk process ritical success factor relate maintaining risk awareness throughout project include characteristic capability detailed section 921 923 921 integrate risk monitoring control project monitoring control start project management plan include action required monitor control project risk set early project planning cycle adjusted view risk response planning decision adding example action associated monitoring specifi condition metric risk response planning ha carried project schedule include agreedupon responserelated action carried normal part project execution tracked accordingly project management institute practice standard project risk management 53 9 9 monitor control risk 922 continuously monitor risk trigger condition isk response planning defi ned set action carried part project schedule well action whose execution dependent predefi ned trigger condition checking specifi cally defi ned risk trigger conditional response responsibility risk action owner close collaboration risk owner overall authority project manager 923 maintain risk awareness risk management report regular item every status meeting agenda ensure team member remain aware importance risk management ensure fully integrated project management decision project seniorlevel sponsor require regular report risk planned response ensure stakeholder aware importance keeping focus risk sponsor feedback also motivates project team demonstrating seniorlevel interest project risk management takeholders perception effectiveness risk management conditioned part way risk handled occur number characteristic event therefore crucial whenever risk occurs information event well progress effectiveness response communicated regular interval honest manner adapted need stakeholder supported wellexecuted communication plan 93 tool technique monitor control risk process addition standard project management monitoring control capability risk monitoring controlling requires focus tool support key success factor tracking overall risk well individual risk 931 managing contingency reserve reserve allocated separately cover timerelated costrelated risk technique required allow project manager ass point project whether provide required level confi dence success project tool managing time buffer closely integrated project scheduling technique whereas managing cost compatible fi nancial practice tool required identify trend forecast future outcome determine whether reserve remain suffi cient tool also required tracking progress spending consolidated manner project management institute practice standard project risk management 54 9 9 monitor control risk 932 tracking trigger condition rigger condition corresponding metric defi ned plan risk response process tool required evaluate track condition project baseline specifi ed threshold based actual status chosen provide information risk related deliverable performance well projectrelated feature time cost 933 tracking overall risk tool required order determine project progress whether response expected effect project overall level risk 934 tracking compliance order monitor quality execution riskrelated plan process set quality metric degree variation baseline tracked recorded metric normally defi ned risk management plan 94 documenting result monitor control risk process fi nal control action risk monitoring controlling record actual data future use includes relevant information relating risk management start fi nish project defi nition information must include well storage mechanism previously specifi ed risk management plan goal ensure signifi cant risk management information recorded provide concrete data lesson learned process inclusion lesson learned document report communication vehicle typical information includes following identifi ed risk type risk whether occurred often relevant data recorded impact effectiveness detection response unplanned additional action carried effectiveness avoidance exploitation action effectiveness transfer sharing action unexpected undocumented risk occurred data effectiveness risk mitigation enhancement action occurrence accepted threat opportunity onsolidated information provided level effort expended cost benefi project risk management activity also provided information need archived indexed manner facilitate retrieval easy review project closure future project need arises project management institute practice standard project risk management 55 guideline pmi practice standard a1 introduction pmi practice standard characterized follows cid129 ach practice standard provides guideline mechanic eg nut bolt basic fundamental stepbystep usage guide operates signifi cant process input tool technique output relevant project manager cid129 practice standard doe necessarily mirror lifecycle phase project however individual practice standard applicable completion one phase within project cid129 practice standard doe necessarily mirror knowledge area within guide project management body knowledge pmbok guide fourth edition although individual practice standard provide suffi cient detail background one input tool technique andor output therefore practice standard required use name knowledge area cid129 ach practice standard include information signifi cant process doe signifi cant perform performed necessary clarifi cation perform cid129 practice standard include information accepted applicable project time within project management community process generally restricted applicable one industry country companion profession ie application area included informational purpose rather part practice standard strong support evidence application areaspecifi process considered extension practice standard manner extension pmbok guide fourth edition considered cid129 practice standard benefi inclusion example template best example template includes discussion strength weakness background description necessary put discussion appropriate context example aligned relevant information standard placed proximity information cid129 practice standard shall written general style format cid129 ach practice standard project aligned reference practice standard needed cid129 practice standard consistent mbok guide fourth edition cid129 practice standard intended prescriptive pmbok guide fourth edition project management institute practice standard project risk management 57 evolution pmis practice standard project risk management b1 preproject early 2005 pmi began exploration developing fi rst practice standard project risk management focus would placed single project risk management single project rather including program portfolio project close coupling project risk management section guide project management body knowledge pmbok guide third edition april 20 2006 pmi standard member advisory group mag approved following fi nal charter standard cynthia berg pmp project manager dr david hulett deputy project manager charter included following characteristic standard rovides information project risk management includes information clear complete relevant generally recognized good practice project time consistent pmbok guide third edition expanding contradicting concept technique related project risk management keep within limit practice project risk management described within 11 mbok guide third edition ha reviewed updated practice standard project risk management project team written project management practitioner stakeholder project management profession describes process unique project risk management includes example template specifi project risk management process tool andor technique addressed practice standard discussion strength weakness including background description put relative strength weakness context us pmbok uide third edition glossary starting point glossary doe contain contradiction us glossary term text without defi nition additional explanation aligned doe contradict pmi standard follows pmi style guide written north american english translatable pmi offi cial language sensitive cultural issue project management institute practice standard project risk management 59 approved pmi standard mean addition content acceptable process selecting team member soliciting responding comment product must open inclusive b2 preliminary work recognition risk management practiced well project project team set identify practice viewed best practice understood applied successfully managed project time project core team wa initially formed fall 2005 consisted dr david hillson pmp kik piney kris persun b3 scope change time project wa chartered mbok uide fourth edition wa commissioned result charter practice standard project risk management wa expanded consistent noncontradictory standard b4 exposure consensus standard wa submitted exposure draft winter 2007 exposed 23 march 2008 849 comment team comment acceptance rate comment accepted outright accepted modifi cation wa 57 pmi standard manager submitted resultant fi nal draft concurrence pmi standard program mag pmi standard program consensus body offi cial ballot 27 march twentyeight member pmi standard program consensus body agreed participate ballot practice standard project risk management participating included pm deputy pm standard participation wa considered confl ict interest balloting period wa closed 25 april 23 ballot returned consensus body voting result follows 22 affi rmative 1 affi rmative comment affi rmative comment pertained future revision standard possible improvement comment adjudication process project management institute practice standard project risk management 60 contributor reviewer practice standard project risk management list alphabetically within grouping individual contributed development production ractice standard project risk management simple list even multiple list adequately convey contribution volunteered develop ractice standard project risk management project management institute grateful individual support acknowledges contribution project management profession c1 practice standard project risk management project core team following individual served member contributor text concept served leader within project core team pct cynthia ann berg phd pmp project manager david hulett phd deputy project manager dr david hillson frsa firm kristine persun pmp crispin kik piney bsc pmp kristin vitello standard project specialist nan wolfslayer astd standard compliance specialist c2 signifi cant contributor addition member project core team subteam leader following individual provided signifi cant input concept jeannette horne project management institute practice standard project risk management 61 c3 practice standard project risk management team member addition listed following individual participated ractice standard project risk management project team ahmad khairiri abdul ghani pe mba archie addo pmp phd priumvada agarwal pmp upinder aggarwal pmp asif ahmad pmp amr nabil ahmed pmp msc jose correia alberto meng citp salvador alvarez pmp chukwudi anakudo pmp ananthalakshmi anbuselvan jagathnarayanan angyan fie ce rodrigo ariza pedro carlos auler michael avery sai swaminathan baba subramanyan pmp teddy alton barnes gail ellen bartz david benfell paul bennett douglas berry pmp mamoun besaiso ce timothy birus dave bond kiron bondale blaine boxwell mba pmp carlos eduardo braga pmp valerie claire brasse pmp joan browne bsc pmp adrian busch pmp mba john byrne dba pmp rajan pmp eduardo cadena franco caron william chadick dm pmp souray chakraborty harshavardhan chakravarti shanthi chandrasekar noman zafar chaudry pe pmp vijay chauhan mba pmp subrahmanyam chinta vn pmp carolyn chomik joan church glenda clark lorri cline mba pmp john corless phd anthony corridore pmp coughlin philip nancy cygan pmp marco aurelio danelon pmp karel de bakker pmp thijs de jong alfredo del cano peter de zouza mello sps pmp cheryl dennis raveesh dewan pmp mba ricardo jose rego barros pmp john david driessnack matt dubois jason eddinger pmp maliha elahi msc pmp norman epstein pmp mba joel erickson rodrigo fernandes espirito santo giovanni fanduiz genevieve farago pmp mario fiallo carranco leslie fiedler eduardo fleischer project management institute practice standard project risk management 62 kirby fortenberry pmp lynn francis michelle franklin pmp tracy fritz andrew fry cma pmp kamlesh gandhi pmp pqs nelio gaspar msc pmp tina gilrein pmp mpm silvio hernan giraldo pmp cbcp vikram godboley vivek goel pmp francisco gomez serge goncharov pmp pgmp ronald rgoodwin pmp priyesh gopalakrishnan robert grant steve grunewald denise guerin sanjay gupta pmp cristine gusmao phd heidi ann hahn phd pmp laurie hall robert harding pmp balasubramaniam hari gopal fca pmp chandrashekar hassan henry hattenrath david haugh pmp john hendricks pmp arnold hill pmp rosemarie hilt mba pmp george hopman phd pe sean hugo john humphrey walter hussey pmp george jackelen ramona jackson dhanojkumar jadhav ayo jemiri pmp stephen michael john kenneth johnson mba pmp valeri jonas ba honour oxon roy joslin krishna kallapur pmp rita kaul mariya kehoe rameshchandra ketharaju amir ahmed kheir behrad kiafar konstantinos kirytopoulos phd pmp ilkka koskinen msc pmp alejandro kowiendl rv krishna mba capm jeyakumar krishamoorthy lars kruse polisetty veera subrahmanya kumar cissp cisa sasi kumar pmp vijaya kurada elise labre david larson wei lee pmp henry lie guilherme pereira lima pmp bernard lindekens renato lourenco da silva mba pmp vasantha manda pmp cissp edmond matevosian pe pmp rivalino matias jr phd msc pena torres nestor mauricio pmp jme maxwell mba pmp alvis mcginty traci mcintosh pmp ramesh menon concepcion merino philip mileham project management institute practice standard project risk management 63 waqar ahmed mirza shipra mitra siddique mohammed guillermo molina leon sergio monaco mcts elizabeth mejia montanez flavio montenegro pmp mohammad moradi linda morgan msis pmp rick morris mpm pmp tania morris mpm pmp saradhi motamarri mtech pmp mark munster pmp cisa ronan murphy ceng mba carlo muzzarelli linda nedney pmp rob nelson pmp vaman nene ann nguyen pmp naema nunnery jillian oconnell mba pmp daryl ono armin oppitz pmp daniel pacholski pmp abhimanyu parasher mba pmp david patrick scott patton mridul paul chris payne pmp sameer penakalapati pmp alexandre perali sharon perezsuarez lavinia petcu capm bruce petro pmp krista lynn pizzurro roberto pons pmp carl pro julie purcell pmp mcse sridhar pydah pmp vijaya raman pmp stephen randolph pmba pmp jennifer read pmp cmc caroline robison pmp fabiano rollim pmp pgmp edward rowe ruchkall joseph sabatini fawzia salahuddin mc pmp salem mahaboob saliha sherriff mba pmp sivakumar sanyasi rudolf schenker marcio schmidt pmp bill schneider michael scott pmp ravi shanker mba pmp viresh shah mba pmp jeff shore evandro silva maria isabel silva sumano mba pmp michael simants vivek sivakumar capm kathy slater pmp shaun smith linda solorzano pmp mauro sotille pmp mandayam sriram meng pmp tournis stamatis phd pmp fred stein roeland stellingwerff jim stewart pmp prasanna sugavanam pmp ramakrishnan sundararaman matthias svane msc pmp amin tabatabayi mba pmp project management institute practice standard project risk management 64 venerando tangco pmp csm suresh kumar tata pmp ac patel tejesh pmp sarma tekumalla pmp mba jacqueline teo michelle tessier gangesh thakur cpim pmp vadivelu thanicachalam ing biagio tramontana pmp subhash tuladhar pmp ruth vandegrift sri pavan vardan vemu christoph verschuere ir pmp cism marianne viegas yiannis vithynos pmp msc steve waddell paul wait jr pmp cpm kuanhsun wang pmp nancy watanabe james wattnem lisa winchester pmp karen woodruff rn cfnp pmp james yang pmp mba luay zakaria pmp xiaojun zhou c4 final exposure draft reviewer contributor addition team member following individual provided recommendation improving exposure draft practice standard project risk management marcos abreu billa dahaby issi jose alcala pmp gwendolyn darby mohd alkuwari anirban da mtech pmp ondiappan arivazhagan ari pmp pmirmp terrell dorn pe randall ash pmp peggy drew mba pmp imad babbili norberto figuerola pmp ernest baker pmp robert dudley pmp pmisp jerry ball pmp scott freauf pmp ipmad eng dimah barakat pmp pmirmp mark gabel msce pe suvransu basu oliver gildersleeve jr pmp mcts susanne bode kurt harris pmp david boschma pmp jame healy sergio calvo abarca pmp walter hekala cqa pmp marlene carnevali shirley hinton pmp bruce chadbourne pmp pgmp felicia elizabeth hong pmp mba steve charter mapm msc manuel huerta tomio chiba pmp kristian hurt patricia cohen christoph werner jacobi wendra collet mpm ashok jain pmp itil project management institute practice standard project risk management 65 syed asad jawed cce dirk pons ramesh kandadai member rsig carl pritchard pmp pmirmp kenneth katz pmp javier pumar pmp rameshchandra ketharaju polisetty veera subrahmanya kumar pmp pmirmp gene kuki pmp chandrasekar ramakrishnan pmp csqa abhilash kuzhikat pmp itil ivan ramirez pmp peter lierni alexander revin pmp christopher maddox pmp pedro ribeiro mba pmp anthony mampilly pmp cop bruce robison srinivas mandgi pmp sap hr sadegh roozbehi ammar mango pgmp pmp tarun kumar roy larry mark balaji selvaraju andrew mcglade pmp hilary shreter mba pmp patrick morrow pmp fay simcock msc pmp rajesh musaliyath rebecca spohn pmp cqe eric myers pmp pranay srivastava pmp csm mustapha nafaa mpm pmp joyce statz phd pmp patrick ofarrell pmp mba massimo torre phd pmp lambert ofoegbu pmp pmirmp fredrick trussell pmp kazuhiko okubo pmp pe frederick trussell karthikeyan ovuraj kevin wegryn pmp cpm nancy perosio pmp william wencel pmp rafael pina quintal alexey zimin pme c5 pmi standard member advisory group mag following individual served member pmi standard member advisory group mag development ractice standard project risk management julia bednar pmp chris cartwright mpm pmp douglas clark terry cookedavies phd fcmi carol holliday pmp deborah obray cim hons asbjrn rolstadas phd ing david ross pmp pgmp paul shaltry pmp david violette mpm pmp john zlockie mba pmp project management institute practice standard project risk management 66 c6 staff contributor special mention due following employee pmi steven fahrenkrog pmp vp regional development amanda freitick standard program administrator ruth anne guerrero mba pmp former standard manager donn greenberg manager publication roberta storer product editor barbara walsh capm publication planner project management institute practice standard project risk management 67 tool technique template project risk management tool technique developed widespread use support project risk management process commonly used listed following table along strength weakness critical success factor technique used one project risk management process described detail section associated main process support referred necessary process use example template shown table provide illustration common good practice us tool technique information intended explain tool technique list certain important characteristic interested learning encouraged seek source handbook textbook course project risk management d1 technique example template risk management planning 4 lan risk management defi ne approach followed managing risk throughout lifespan corresponding project d11 technique example approach given table d1 table d1 example plan risk management approach csfs effective technique strength weakness application planning meeting involvement core depends prior risk management analysis team member experience plan template participant prior stakeholder analysis existing organizational guideline risk management project management institute practice standard project risk management 69 d111 risk management plan purpose typical content epending size complexity project following element present risk management plan introduction project description project objective external dependency stakeholder analysis risk management scope objective variance threshold prioritization project objective threshold weight parameter definition criterion unacceptable threat unmissable opportunity impact scale probability scale pxi matrix weighting project objective prioritization selection criterion degree confidence required overall risk eg 80t percentile quantitative risk analysis risk management methodology relationship organizational environment risk management activity link project management methodology relationship project management process risk taxonomyrisk breakdown structure either generic projectspecific format fully defined risk statement description metalanguage key deliverable risk management organization role responsibility level authority risk management rule escalation budgeting risk management activity added project budget adapted complexity sensitivity project scheduling risk management activity project schedule ie certain action review need carried frequency life cycle related etc project management institute practice standard project risk management 70 reporting governancerelated rule reporting disclosure use tool tool name description usage structure risk database requirement term system resource communication planning document usage rule distribution frequency audience etc document template risk register risk status report d112 template relevant risk management planning risk management plan provide number template use process include formal structure risk statement example given mean categorizing risk example risk breakdown structure example given identify risk section defi nitions project objective probability impact scale example given perform qualitative risk analysis section risk prioritization selection guideline hese guideline used perform qualitative risk analysis perform quantitative risk analysis well plan risk response planning example given status report template typical agenda status meeting d113 risk statement metalanguage order risk clearly defi ned standard structure way risk described specifi ed applied typical statement one cause risk might occur would lead one effect project management institute practice standard project risk management 71 d114 risk prioritization selection guideline selection prioritization risk must linked project objective risk management plan defi ne relative importance assigned objective eg reliability take precedence time etc form numerical weight applied create single weighted sum objective risk feature affect urgency dealing risk also specifi ed eg one linked resource soon disappear given greater urgency d2 technique example template identify risk 5 dentify risk carried order develop comprehensive list knowable uncertainty could effect project objective table d2 identify risk csfs effective technique strength weakness application assumption simple structured implicithidden requires constraint analysis approach assumption comprehensive list based constraint often assumption assumption missed constraint constraint already listed project charter generates project specifi risk brainstorming allows participant requires attendance attendance speak mind key stakeholder representative group contribute workshop therefore stakeholder discussion diffi cult arrange commitment honesty involve key expensive preparation stakeholder prone groupthink good facilitation creative generation group dynamic use structure idea produce biased eg category rb result dominated strong person often management often well facilitated generates nonrisks duplicate requires fi ltering cause effect visual representation diagram quickly effective selection ishikawa diagram project promotes become overcomplex critical impact eg structured thinking use sensitivity analysis project management institute practice standard project risk management 72 table d2 identify risk continued csfs effective technique strength weakness application check list capture previous check list grow regular maintenance experience become unwieldy required present detailed list risk list use structure risk missed assist eg rb often includes threat miss opportunity delphi technique capture input limited technical risk effective facilitation technical expert dependent actual careful selection remove source expertise expert expert bias take longer time clear defi nition scope available due iteration expert input document review expose detailed limited risk understanding projectspecifi risk contained project relevance prior requires specialist documentation experience tool fmeafault tree structured approach focus threat detailed description analysis well understood useful area see 7 engineer opportunity assessed produce estimate requires expert tool statistically accurate overall reliability generally available data fault using quantitative tool except expert probability good tool support event force field analysis creates deep timeconsuming prioritized objective understanding complex technique factor affect usually applied project objective single objective doe provide wholeproject view industry knowledge capture previous limited ha access relevant base experience previously happened information allows benchmarking excludes projectspecifi external risk organisation continued project management institute practice standard project risk management 73 table d2 identify risk continued csfs effective technique strength weakness application influence diagram expose key risk driver requires disciplined identify key area generate counter thinking address intuitive insight always easy available determine appropriate technique structure interview address risk time consuming good interviewing detail raise nonrisks questioning skill generates concern issue worry environment trust engagement etc requires fi ltering openness confi dentiality stakeholder preparation open relationship interviewer interviewee nominal group encourages allows lead frustration good briefi ng technique participant dominant member participant contribute feel moving slowly technique allows different strict facilitation level competence common language large extent auto documenting provides ideal base affi nity diagramming grouping risk category use risk breakdown structure root cause analysis postproject review leverage previous limited risk well structured project lesson learned experience occurred previously lesson learned historical information prevents making information frequently database see 6 mistake incomplete detail participation previous missing past risk project team member opportunity twice include detail ideally including enhances successful resolution project manager organizational process ineffective strategy asset rarely documented prompt list ensures coverage topic high choice list relevant type risk level project stimulates creativity environment project management institute practice standard project risk management 74 table d2 identify risk continued csfs effective technique strength weakness application questionnaire encourages broad success depends clear unambiguous thinking identify quality question question risk limited topic detailed briefi ng covered question respondent simple reformatting checklist risk breakdown offer framework none requires structure rb risk identifi cation comprehensive rb technique often tailored brainstorming project ensures coverage type risk test blind spot omission rootcause analysis allows identifi cation risk management ability identify see 6 additional dependent technique organized risk outcome risk individual risk fundamental allows organization organization cause identify risk conducive identifying willingness related root cause management oversimplify accept address common root cause hide existence root cause rather basis development potential cause adopting partial preemptive valid workarounds comprehensive strategy available response addressing root serve reduce cause ha apparent complexity identifi ed swot analysis ensures equal focus focus internally good facilitation threat generated risk arising strict adherence opportunity organizational technique avoid offer structured strength confusing four approach weakness excludes swot perspective identify threat external risk ie strength opportunity tends produce high opportunity focus internal level generic risk weakness organizational projectspecifi threat strength weakness external opportunity threat continued project management institute practice standard project risk management 75 table d2 identify risk continued csfs effective technique strength weakness application system dynamic expose unexpected requires specialized understanding see 715 interrelation software expertise feedback project element build model competence applying feedback feed focus impact tool understanding forward loop diffi cult include output generate counter concept probability quality system intuitive insight model available accuracy input technique data collected produce overall specifi project impact included event risk wb review ensures element excludes external risk good wb project scope specifi cally considered related wb element provides risk related different level detail highlevel related individual work package d21 technique example technique given d211 d2115 d211 assumption constraint analysis technique requires three step 1 list assumption constraint project 2 test assumption constraint asking two question could assumptionconstraint false false would one project objective affected positively negatively 3 question answered yes generate risk example form assumption constraint prove false leading effect objective result documented table form shown figure d1 project management institute practice standard project risk management 76 figure d1 example constraint analysis field description analysis result d212 brainstorming brainstorming commonly used facilitated risk identifi cation workshop identify risk standard rule brainstorming often modifi ed technique applied risk identifi cation example common structure risk identifi cation brainstorm using risk category risk breakdown structure evaluation proposed risk often included risk identifi cation brainstorm remove nonrisks important ensure active participation relevant stakeholder risk identifi cation brainstorm facilitator manage group dynamic carefully template example presented d213 cause effect ishikawa diagram technique present diagrammatic form cause contribute given outcome main cause split subcauses use technique risk identifi cation outcome stated effect project objective ie impact risk diagram identifi risk uncertain event could result occurrence impact care need taken using technique risk identifi cation distinguish risk uncertain cause impact issue certain cause impact example cause effect ishikawa diagram shown risk effect analyzed staff leaving project main cause environment ambition career prospect satisfaction remuneration figure d2 example cause effect ishikawa diagram staff leaving project management institute practice standard project risk management 77 d214 checklist hecklists compiled capture previous project experience allow used subsequent similar project possible structure risk identifi cation checklist around risk breakdown structure shown partial example useful present checklist set risk considered turn determine whether might relevant project consideration risk identifi cation checklist include threat opportunity figure d3 example fragment checklist typical structure category subcategory specific risk effect d215 delphi technique delphi technique us facilitated anonymous polling subject matter expert identify risk area expertise facilitator gather expert initial response circulates without attribution group revise contribution based others process often generates consensus expert iteration template example presented d216 document review risk identifi ed careful review project documentation including project charter statement work contract term condition subcontract technical specifi cation regulatory requirement legal stipulation etc relevant formal structured method document review used fagan inspection process informal approach adopted template example presented d217 fmeafault tree analysis failure mode effect analysis fmea fault tree analysis analysis model structured identify various element cause system failure combination others project management institute practice standard project risk management 78 based logic system fault tree analysis typically used engineering context adapted use identify risk analyzing risk impact might arise another result probability failure reliability mean time failure etc overall system indicating level quality system product level reliability acceptable fault tree indicate system made reliabletherefore useful design engineering phase project example shown figure d4 fault tree analysis possible cause crash main road junction changed projectoriented d218 force field analysis force field analysis typically used change management context adapted risk identifi cation identifying driving force force change restraining force force change currently affect achievement project objective risk identifi ed uncertain event condition would lead change strength one identifi ed force example force fi eld diagram shown project management institute practice standard project risk management 79 figure d5 example force field analysis balance force change d219 industry knowledge base industry knowledge base special case checklist see used similarly template example presented d2110 infl uence diagram infl uence diagram diagrammatic representation project situation showing main entity decision point uncertainty outcome indicating relationship infl uences infl uence diagram identify risk combined sensitivity analysis monte carlo simulation reveal source risk within project example shown project management institute practice standard project risk management 80 figure d6 example influence diagram bidding situation d2111 interview isk identifi cation interview include main stakeholder conducted independent skilled interviewer using structured agenda atmosphere confi dentiality honesty mutual trust risk breakdown structure checklist prompt list used framework risk interview template example presented d2112 nominal group technique nominal group technique adaptation brainstorming participant share discus issue evaluation participant participating equally evaluation template example presented d2113 postproject reviewslessons learnedhistorical information nformation relevant risk current project obtained reviewing database risk occurred previous similar situation database might arise postproject review lesson learned exercise also exist repository historical information either within organization industry body template example presented project management institute practice standard project risk management 81 d2114 prompt list prompt list set risk category used stimulate risk identifi cation prompt list presented risk breakdown structure see set heading number standard prompt list developed use risk identifi cation presented used framework risk identifi cation technique brainstorming see d212 risk interview see d2111 1 pestle prompt list political economic social technological legal environmental 2 tecop prompt list technical environmental commercial operational political 3 spectrum prompt list sociocultural political economic competitive technology regulatorylegal uncertaintyrisk market d2115 questionnaire risk identifi cation questionnaire presented special form checklist see d214 possible risk shown question format example client requirement clearly defi ned rather project management institute practice standard project risk management 82 risk statement client change requirement project start alternatively risk identifi cation questionnaire used present heading prompt list see d2114 asking question uncertainty arising use technology project template example presented d2116 risk breakdown structure rb risk breakdown structure rb hierarchical framework potential source risk project organization develop generic rb use across project project use projectspecifi rb partial example rb shown figure d7 example generic risk breakdown structure project management institute practice standard project risk management 83 d2117 rootcause analysis root cause analysis seek identify basic cause risk visible symptom fundamental force also identify common source several risk leading broadreaching risk response strategy similarly care need taken using technique risk identifi cation distinguish risk uncertain cause impact issue certain cause impact diagram shown risk initially identifi ed included rework extra cost schedule slip low team morale customer mistrust repeated audit examination identifi ed risk lead common root cause later phase project typically started earlier one suffi ciently mature organization repeatedly ignored proper phase entry prerequisite hastening later project stage order speed project figure d8 example root cause analysis d2118 swot analysis swot analysis identifi four characteristic given situation strength weakness opportunity threat technique commonly used strategic decision making adapted risk identifi cation changing interpretation four perspective strength weakness relate characteristic organization conducting project opportunity threat identify project risk technique particularly useful identifying internallygenerated risk arising within organization example opportunity might found leveraging organizational strength threat might arise result organizational weakness illustrated project management institute practice standard project risk management 84 figure d9 example swot analysis structure d2119 system dynamic system dynamic sd particular application infl uence diagram see used identify risk within project situation sd model represents entity information fl ows within project analysis model reveal feedback feedforward loop lead uncertainty instability addition result sd analysis show impact risk event overall project result cost schedule result expected analysis change model assumption indicate system sensitivity specifi event risk simple example sd diagram shown figure d11 figure d10 example simple system dynamic model feedback loop project management institute practice standard project risk management 85 d2120 wb review work breakdown structure wb project form framework number risk identifi cation technique brainstorming risk interview checklist prompt list template example presented d3 technique example template perform qualitative risk analysis 6 perform qualitative risk analysis prioritizes analysis handling undifferentiated list risk identifi ed identify risk process organization tend apply resource designated high risk based priority often indicated risk probability impact characteristic d31 technique perform qualtitative risk analysis example approach given table d3 d311 d313 table d3 technique perform qualitative risk analysis csfs effective technique strength weakness application root cause analysis see 5 estimating technique address diffi cult calibrate agreed defi nitions applied probability key dimension historical probability impact risk namely database similar impact degree uncertainty event refl ect stakeholder expressed term probability risk tolerance probability eg probable threshold effect project almost certain value used objective expressed impact eg defi nitions impact insignifi cant major represent ambiguous level impact subjective across objective impact perceived uncertain organization represented management range value project stakeholder put consistent use specifi impact level defi nitions moderate across identifi ed impact time risk project management institute practice standard project risk management 86 table d3 technique perform qualitative risk analysis continued csfs effective technique strength weakness application access smes experience type risk postproject review lesson learned historical information see 5 probability impact allows organization doe explicitly pi matrix requires matrix pi matrix prioritize handle factor input project risk urgency data clear analysis eg manageability unambiguous quantitative risk partly determine assigning level response risk ranking probability impact refl ect range ffective estimation organization level uncertainty impact likelihood risk tolerance assessment outlined previously risk probability organization impact overlap careful ass boundary combination probability impact qualify risk low moderate high risk method used refl ect organization risk attitude defi nitions used designate level impact objective represent level impact perceived organization management project stakeholder refl ecting organization utility function continued project management institute practice standard project risk management 87 table d3 technique perform qualitative risk analysis continued csfs effective technique strength weakness application analytic hierarchy assist developing organizational expert facilitator process relative weighting decision often process project objective made committee agreement refl ect individual management organization agree relative useful develop priority time priority among consistent set cost scope objective priority among quality project diffi cult gather objective assist creation information use proper method overall project pairwise comparison available ahp priority list risk objective software created highlevel risk priority management respect individual objective rootcause analysis see 5 d311 estimating technique applied probability impact probability risk occurring specifi ed several different way one common way assign level risk probability range probability one benefi approach subject matter expert need ass risk probability within range rather specifi value example assuming 55 probability impact matrix desired shown figure d11 probability range tightly defi ned low level probability example impact level defi nitions projectspecifi value used specify level impact low high 55 matrix used igher impact threat opportunity move low high specifi objective evels defi ned organization causing amount pain gain project level across objective risk possible impact uncertain could assigned one level impact eg moderate high analyst choose assign risk impact level represents expected average impact alternatively risk fl agged extra analysis order reduce range uncertainty fi within single range example impact level defi nitions shown figure d11 defi nitions tailored scaled stakeholder specifi project defi nitions appropriately tailored project used opportunity threat project management institute practice standard project risk management 88 figure d11 example definition level probability impact four specific objective used evaluate individual risk oteopportunities treated representing positive saving time cost increased functionality threat impact scale interpreted negatively ie time delay increased cost reduced functionality 312 probability impact matrix organization typically ass risk priority objective combination probability occurrence impact project objective using defi nitions shown figure d11 risk placed probability impact pi matrix one shown matrix includes threat opportunity figure d12 example probabilityimpact matrix used sort risk threat opportunity high risk moderate risk low risk class project management institute practice standard project risk management 89 d313 analytic hierarchy process ahp hp method calibrate preference achieving different objective project prefer achieve time cost quality important scope relative weighting project objective term priority stakeholder management result weight summing 100 refl ect relative priority objective prioritization important determining tradeoff affecting different objective eg reduce scope fi nish time decided also used create overall project risk priority list risk assessed implication individual objective specialized software implementing ahp available spreadsheet implementation shown figure d13 example analytic hierarchy process computation determine relative weighting four project objective project management institute practice standard project risk management 90 d4 technique example template perform quantitative risk analysis 7 erform quantitative risk analysis seek determine overall risk project objective risk potentially operate simultaneously project provides answer several question ow likely project complete schedule date earlier likely project actual cost budgeted cost le reliable product project produce best decision make face uncertain result ow much contingency time cost needed provide organization desired degree confi dence result design product system changed economically increase reliability individual risk seem important determining overall project risk d41 technique perform quantitative risk analysis example technique perform quantitative risk analysis found shown table d4 detail given d411 d415 csfs effective technique strength weakness application decision tree analysis cause sometimes careful structuring organization diffi cult create decision tree structure cost decision structure alternative decision benefi probability materially decision occurrence different result diffi cult quantify considered decision determined part absence tree uncertainty risk historical data specifi ed completely solution best decision access highquality decision tree help change relatively data probability select decision plausible change cost reward provides input data meaning decision highest expected answer event specifi ed using monetary value stable historical information expected utility judgment organization organization expert make decision based linear use utility expected monetary function ha value basis rather validated nonlinear utility organization function utility function decision maker diffi cult specify continued project management institute practice standard project risk management 91 csfs effective technique strength weakness application organization availability make decision understanding based linear specialized software expected monetary needed structure value basis rather solve nonlinear decision tree utility function utility function diffi cult specify decision tree analysis complicated situation requires specialized though available software resistance using technical approach decisionmaking expected monetary value emv allows user assessment identifi cation emv calculate probability risky possible event weighted average event occurring need included expected value impact emv calculation event includes diffi cult make access historical uncertain outcome emv provides data expert wellsuited expected value opinion decision tree analysis uncertain event value probability emv incorporates risk decision impact probability often require needed impact information emv calculation emv uncertain event provide understanding emv simple emv sometimes difference calculation used situation emv output doe require monte carlo simulation tool specialized software simulation would monte carlo appropriate analysis provide additional information risk fmeafault tree analysis see 5 project management institute practice standard project risk management 92 csfs effective technique strength weakness application monte carlo simulation used primarily schedule creation good project schedule simple project model typical cost risk analysis often model include strategic decision used simulation cost estimate allows specifi ed without significant schedule risk vary debugging use summarylevel simultaneously expert scheduler model calculates quality project schedule quantitative estimate input data depends cost estimate overall project risk heavily expert access high refl ect reality judgment quality data risk several risk effort expertise including risk occur together risk analyst impact project project simulation element uncertain provides answer sometimes resisted activity duration question management uncertain 1 likely unnecessary cost element base plan sophisticated credibility depends successful 2 compared quality data much contingency traditional project collected time cost management tool use correct need achieve monte carlo simulation tool desired level simulation requires confi dence specialized software 3 activity must important acquired learned determining causing barrier overall project risk use produce unrealistic result unless input data include threat opportunity postproject review lesson learned historical information see 5 system dynamic see 5 project management institute practice standard project risk management 93 d411 decision tree analysis decision tree analysis usually performed using specialized widely available software software allows user specify structure decision decision node chance node cost benefi probability user also evaluate different decision using linear utility function based expected monetary value nonlinear utility function various shape example shown negative number represent outfl ows investment eg cot percentage represent probability event occurring eg major problem positive number represent reward value eg fix problem true indicates decision option taken square decision node whereas false indicates decision option taken figure d14 example decision tree choosing experimental technology commercial shelf cot technology source precision tree palisade corporation d412 expected monetary value expected monetary value emv simple calculation value weighted average expected cost benefi outcome uncertain reasonable alternative outcome identifi ed probability occurring summing 100 value estimated emv calculation made entire event weighting individual possible outcome probability occurring shown figure d15 d413 monte carlo simulation monte carlo simulation detailed computerintensive simulation approach determining value probability possible outcome project objective project schedule eg completion date cost estimate eg total cost computes schedule cost estimate time using input drawn project management institute practice standard project risk management 94 figure d15 example expected monetary value calculation three uncertain product demand scenario random range specifi ed probability distribution function schedule activity duration cost line item solution using different input value used build histogram possible project outcome relative probability cumulative probability compute desired contingency reserve time cost additional result include relative importance input determining overall project cost schedule example output schedule cost risk result shown figure d16 d17 d414 monte carlo analysis finish date quantitative schedule risk analysis figure d16 example histogram monte carlo simulation project schedule source pertmaster 80 primavera pertmaster project management institute practice standard project risk management 95 d415 monte carlo analysis project cost completion quantitative cost risk analysis figure d17 example histogram monte carlo simulation project cost estimate source crystal ball 738 oracle hyperion decisioneering d5 technique example template plan risk response 8 lan risk response develops set action required take account project risk characteristic integrates corresponding project management plan resultant plan satisfy risk appetite attitude key stakeholder d51 technique plan risk response technique plan risk response given table d5 section d511 d515 technique strength weakness csfs effective application brainstorming see 5 check list see 5 contingency planning ensures action give false feeling trigger condition available address confi dence must clearly signifi cant event risk defi ned tracked occurrence avoided project management institute practice standard project risk management 96 csfs effective technique strength weakness application allows rapid plan need focussed response validated periodically improves image willingness professionalism organization way execute plan project managed provide budget resource trigger condition occurs contingency reserve provides rationale make reserve policy reserve estimation reserve visible therefore management agreed basis constructive liable reduced sponsor discussion arbitrarily senior management sponsor critical chain project along feeding buffer requires fully management ccpm approach insists deal predictable resourced project resolving resource common cause schedule availability issue variation understanding developing inadequate cater acceptance schedule special cause management address schedule indicative start project team risk addition end date member feeding buffer disturb conventional activity date absorb statistical management indicative rather variation expectation defi nitive promise duration noncritical cause generally set path activity reduce problem provide 50 contribution setting intermediate confi dence level schedule risk milestone equitable sharing partly mitigates assumption base buffer fi nancial risk estimate represent team member controlling amount 50 confi dence concerned work process level weakness buffer penetration followed threshold used variant class trigger condition tool specifi response project action schedule fully special software resourced available creating managing buffer continued project management institute practice standard project risk management 97 csfs effective technique strength weakness application decision tree analysis allows calculation see 7 expected monetary value various response option well value outcome worst case best case delphi technique involves selected see 5 expert process expected monetary provides estimate value emv potential benefi risk see 7 response force field analysis diagram see 5 suggest best apply response industry knowledge base risk see 5 standard response interview experienced see 5 practitioner provide new idea act devil advocate potential response nominal group useful creativity technique technique generating novel see 5 response multicriterion selection provide mean give counter need agreed set technique selecting intuitive result weighted project response best success criterion support full set project objective postproject review leverage previous lesson learned experience historical information see 5 project management institute practice standard project risk management 98 csfs effective technique strength weakness application prompt list stimulates creativity see 5 quantitative risk provides mean involved prior effective analysis evaluating complex qualitative analysis potential effect benefi envisaged see 7 response plan overall project risk rootcause analysis allows see 5 organization identify address fundamental cause risk effi cient effective response responding level root cause effectively address multiple risk provide mean identifying symptom use trigger condition contingent response scenario analysis provides view add list participant need potential effect assumption good understanding relevant risk time project plan corresponding consuming response strategy force participant analyze effect strategy help identify secondary risk project management institute practice standard project risk management 99 d511 contingency planning specifi normally highimpact risk risk owner choose assemble team develop response risk genuinely happened corresponding plan supporting information documented approved project management sponsor level approval must include authorization deploy corresponding resource predefi ned trigger condition arise template example presented d512 contingency reserve estimation conditional response plan well residual risk occur effect schedule andor budget andor performance objective project amount time cost need set aside allow eventuality amount made two component cover specifi approved conditional response eg contingency plan address unspecifi ed passively accepted risk quantitative method see 7 used determine amount set aside eg decision tree conditional response simulation set unspecifi ed risk reserve tracked managed monitor control risk 9 template example presented d513 multicriteria selection technique adaptation perform qualitative risk analysis process 6 based selection criterion example show use spreadsheet calculate weighted score two option based predefi ned set prioritized criterion point product weight rating figure d18 example comparing option rating along four prioritized criterion d514 scenario analysis scenario analysis risk response planning involves defi ning several plausible alternative scenario eg change go plan disaster occurs utopia etc different scenario require different risk response described evaluated cost effectiveness organization choose scenario alternative including response compared scenario control organization scenario analysis lead effective necessary contingency planning project management institute practice standard project risk management 100 template offered technique d515 critical chain project management simple critical chain network shown figure d19 figure d19 simple critical chain network d6 technique example template monitor control risk 9 onitor control risk provides assurance risk response applied verifi whether effective necessary initiate corrective action d61 technique monitor control risk process technique monitor control risk given table d6 d611 d616 table d6 monitor control risk example csfs effective technique strength weakness application critical chain project use buffer management ccpm penetration trigger action see 8 adjusting relative priority task continued project management institute practice standard project risk management 101 csfs effective technique strength weakness application reserve analysis provides mean could lead prior detailed reserve tracking spend unwarranted focus planning releasing contingency cost dimension accurate sizing amount risk attention overall contingency expire applied measure reserve reserve time schedule reserve depletion hide cost relative way detailed risk risk overall project give early warning completion date need communicate budget sponsor risk audit provide formal disruptive wellspecifi ed risk assessment project taken management plan compliance judgemental sensitivity approach specifi ed project team burden place risk management project team plan risk reassessment force review take time effort wellmaintained project risk project risk becomes documentation necessary scheme risk register remains uptodate status meeting provide mean seem good meeting verifying information unnecessary preparation status participant discipline risk active occurred retired maintaining team understanding trend analysis provides indication requires regular reporting effectiveness understanding analysis critical earlier response signifi cant non value provide trigger signifi cant variation condition response project management institute practice standard project risk management 102 csfs effective technique strength weakness application variance analysis allows comparison doe show realistic prior forecast relationship defi nitions actual risk impact earlier data threshold provide trigger value signifi cant variance condition taken context response provides data earned value analysis compared quantitative risk analysis result d611 reserve analysis analytical technique determine essential feature relationship component project management plan establish reserve schedule duration budget estimated cost fund project tracking state reserve project execution provide summary information evolution status corresponding risk information useful reporting organization responsible several project addition corresponding risk occurs cease current ie longer impact project corresponding reserve need reviewed order ass whether still provides agreed level confidence time buffer used two different way provide accepted schedule risk described schedulingrelated technique critical chain project management ccpm contrast contingency reserve identified risk buffer ccpm provide shared mechanism accommodating natural variability activity duration sequence chain activity tracking rate buffer used project execution provides valuable information given point time level schedule risk along chain used ccpm adapting priority management focus additional analysis necessary triggering risk management activity template example presented project management institute practice standard project risk management 103 d612 risk audit risk audit carried order evaluate risk management rule carried specifi ed risk management rule adequate controlling project template example presented d613 risk reassessment objective risk reassessment ensure full risk management cycle repeated required ensure effective control see figure d20 figure d20 risk reassessment process d614 status meeting risk agenda project review typically agenda item cover following top priority risk present change risk trigger condition occurred status action project management institute practice standard project risk management 104 risk responded last period effectiveness action taken additional action required risk closed last period impact plan lesson added organizational process asset d615 trend analysis evolution variance value time analyzed order evaluate risk profi le changing whether previous action expected effect whether additional action required earned value formula complete performance index used ass change respect time cost template example presented d616 variance analysis formula earned value analysis cv sv cpi spi used set threshold action indicate risk process ineffective earned value management system evms use variance plan basis forecast extrapolation cost completion projection made using evms shown experience reliable early project eg 20 execution template example presented project management institute practice standard project risk management 105\n",
            "\n"
          ]
        }
      ],
      "source": [
        "\n",
        "start_page = 13  # Start from page 13\n",
        "end_page = 118   # End at page 117 (inclusive)\n",
        "# Open the PDF file\n",
        "with pdfplumber.open(pdf_path) as pdf:\n",
        "    # Iterate through each page\n",
        "\n",
        "    for page_number, page in enumerate(pdf.pages[start_page - 1:end_page], start=start_page):## to verify\n",
        "        text = page.extract_text()\n",
        "        if text:\n",
        "            # Clean the text\n",
        "            text = clean_text(text)\n",
        "            # Tokenize the text into words\n",
        "            tokens = word_tokenize(text)\n",
        "            # Lemmatize the tokens\n",
        "            tokens = [lemmatizer.lemmatize(token) for token in tokens]\n",
        "            # Remove stop words\n",
        "            tokens_without_stopwords = [word for word in tokens if word not in stop_words]\n",
        "            # Reconstruct cleaned text\n",
        "            cleaned_text = ' '.join(tokens_without_stopwords)\n",
        "            # Append the cleaned text to the list\n",
        "            extracted_text.append(cleaned_text)\n",
        "        else:\n",
        "            print(f\"--- Page {page_number} ---\\nNo text found on this page.\\n\")\n",
        "\n",
        "# Now you can join all the page texts into a single string\n",
        "full_text = ' '.join(extracted_text)\n",
        "\n",
        "# Tokenize the text into sentences\n",
        "sentences = sent_tokenize(full_text)\n",
        "\n",
        "# (Optional) Print the sentences\n",
        "for idx, sentence in enumerate(sentences, start=1):\n",
        "    print(f\"Sentence {idx}: {sentence}\\n\")\n"
      ]
    },
    {
      "cell_type": "markdown",
      "source": [
        "# Data Segmentation"
      ],
      "metadata": {
        "id": "KGjr4JAyX2L4"
      },
      "id": "KGjr4JAyX2L4"
    },
    {
      "cell_type": "markdown",
      "source": [
        "NLTK’s lemmatizer requires WordNet POS tags for more accurate results due to the following reasons:\n",
        "\n",
        "NLTK POS Tags: These tags, generated by NLTK's pos_tag function, classify words into parts of speech such as nouns, verbs, adjectives, and adverbs (e.g., NN for nouns, VB for verbs).\n",
        "\n",
        "WordNet Lemmatizer: To effectively lemmatize words, it is crucial to inform the lemmatizer of each word's part of speech. NLTK's WordNetLemmatizer performs optimally when provided with WordNet's POS tags (e.g., wordnet.NOUN, wordnet.VERB).\n",
        "\n",
        "In summary, this step prepares the environment for extracting, processing, and lemmatizing text, which are fundamental tasks in NLP workflows. This organization ensures that the correct POS tags are utilized, allowing the lemmatized text to be stored for future use."
      ],
      "metadata": {
        "id": "P_yB2bUZbsVu"
      },
      "id": "P_yB2bUZbsVu"
    },
    {
      "cell_type": "code",
      "source": [
        "def get_wordnet_pos(nltk_pos_tag):\n",
        "    \"\"\"Map NLTK POS tags to WordNet POS tags.\"\"\"\n",
        "    if nltk_pos_tag.startswith('J'):\n",
        "        return nltk.corpus.wordnet.ADJ\n",
        "    elif nltk_pos_tag.startswith('V'):\n",
        "        return nltk.corpus.wordnet.VERB\n",
        "    elif nltk_pos_tag.startswith('N'):\n",
        "        return nltk.corpus.wordnet.NOUN\n",
        "    elif nltk_pos_tag.startswith('R'):\n",
        "        return nltk.corpus.wordnet.ADV\n",
        "    else:\n",
        "        return nltk.corpus.wordnet.NOUN  # Default to noun"
      ],
      "metadata": {
        "id": "QSfTTfhC6jUH"
      },
      "id": "QSfTTfhC6jUH",
      "execution_count": null,
      "outputs": []
    },
    {
      "cell_type": "code",
      "source": [
        "# Initialize a list to store all lemmatized tokens with POS tags\n",
        "all_lemmatized_pos_tags = []"
      ],
      "metadata": {
        "id": "8QOyi5SI6mN4"
      },
      "id": "8QOyi5SI6mN4",
      "execution_count": null,
      "outputs": []
    },
    {
      "cell_type": "code",
      "source": [
        "extracted_text = []"
      ],
      "metadata": {
        "id": "td6C2JN-ExIh"
      },
      "id": "td6C2JN-ExIh",
      "execution_count": null,
      "outputs": []
    },
    {
      "cell_type": "code",
      "source": [
        "# Open the PDF file\n",
        "tokens=[]\n",
        "# Initialize a list to store text from all pages\n",
        "extracted_text = []\n",
        "with pdfplumber.open(pdf_path) as pdf:\n",
        "    # Iterate through each page\n",
        "    for page_number, page in enumerate(pdf.pages[start_page - 1:end_page], start=start_page):\n",
        "        text = page.extract_text()\n",
        "        if text:\n",
        "            # Clean the text\n",
        "            text = clean_text(text)\n",
        "            extracted_text.append(text)\n",
        "            # Tokenize the text into words\n",
        "            tokens = word_tokenize(text)\n",
        "            # Remove stop words\n",
        "            tokens = [token for token in tokens if token not in stop_words]\n",
        "            # Perform POS tagging\n",
        "            pos_tags = nltk.pos_tag(tokens)\n",
        "            # Lemmatize tokens with POS tags\n",
        "            lemmatized_tokens = []\n",
        "            for token, tag in pos_tags:\n",
        "                wordnet_pos = get_wordnet_pos(tag)\n",
        "                lemmatized_token = lemmatizer.lemmatize(token, wordnet_pos)\n",
        "                lemmatized_tokens.append((lemmatized_token, tag))\n",
        "            # Collect all lemmatized tokens with POS tags\n",
        "            all_lemmatized_pos_tags.extend(lemmatized_tokens)\n",
        "        else:\n",
        "            pass  # Skip pages with no text"
      ],
      "metadata": {
        "id": "n-VUOuH67K1n"
      },
      "id": "n-VUOuH67K1n",
      "execution_count": null,
      "outputs": []
    },
    {
      "cell_type": "code",
      "source": [
        "# Create a DataFrame from all_lemmatized_pos_tags\n",
        "df_tokens = pd.DataFrame(all_lemmatized_pos_tags, columns=['Word', 'POS Tag'])\n",
        "\n",
        "# Calculate frequency of each word and POS Tag\n",
        "df_freq = df_tokens.groupby(['Word', 'POS Tag']).size().reset_index(name='Frequency')\n",
        "\n",
        "# Sort by frequency\n",
        "df_freq = df_freq.sort_values(by='Frequency', ascending=False)\n",
        "\n",
        "# Rearrange columns\n",
        "df_freq = df_freq[['Word', 'POS Tag', 'Frequency']]\n",
        "\n",
        "# Display combined table\n",
        "print(\"Combined Table of Words with POS Tags:\")\n",
        "print(df_freq.head(20).to_string(index=False))\n"
      ],
      "metadata": {
        "colab": {
          "base_uri": "https://localhost:8080/"
        },
        "id": "NK770gNU7QRQ",
        "outputId": "2f4b2ca9-acbc-4995-e2b8-316523b28af7"
      },
      "id": "NK770gNU7QRQ",
      "execution_count": null,
      "outputs": [
        {
          "output_type": "stream",
          "name": "stdout",
          "text": [
            "Combined Table of Words with POS Tags:\n",
            "       Word POS Tag  Frequency\n",
            "       risk      NN        878\n",
            "    project      NN        782\n",
            " management      NN        632\n",
            "       risk     NNS        335\n",
            "   analysis      NN        189\n",
            "        pmp      NN        166\n",
            "   practice      NN        155\n",
            "    process      NN        151\n",
            "   standard      NN        149\n",
            "       plan      NN        115\n",
            "  institute      NN         99\n",
            "   response     NNS         94\n",
            "    project     VBP         93\n",
            "       risk     VBP         87\n",
            "stakeholder     NNS         83\n",
            "   response      NN         79\n",
            "  technique     NNS         77\n",
            "information      NN         73\n",
            "     action     NNS         70\n",
            "    project     NNS         66\n"
          ]
        }
      ]
    },
    {
      "cell_type": "markdown",
      "source": [
        "# Concept and Relationship Identification"
      ],
      "metadata": {
        "id": "RlrlLPVqYBWu"
      },
      "id": "RlrlLPVqYBWu"
    },
    {
      "cell_type": "markdown",
      "source": [
        "In this process, we identify key concepts from the text by focusing on high-frequency words, specifically nouns and proper nouns. We begin by defining relevant part-of-speech (POS) tags for nouns and proper nouns and then filter the tokenized data to retain only these words. Next, we calculate the frequency of each concept by grouping the filtered data and counting occurrences, storing the results in a new DataFrame. The frequency data is then sorted in descending order to highlight the most common concepts, with the top 20 concepts extracted and displayed for further analysis. This method effectively highlights essential concepts within the text for subsequent tasks."
      ],
      "metadata": {
        "id": "O2AIOTkKcDcR"
      },
      "id": "O2AIOTkKcDcR"
    },
    {
      "cell_type": "code",
      "source": [
        "# ------------------- Concept Identification ------------------- #\n",
        "# Identify concepts based on high-frequency words (nouns and proper nouns)\n",
        "concept_pos_tags = ['NN', 'NNS', 'NNP', 'NNPS']\n",
        "df_concepts = df_tokens[df_tokens['POS Tag'].isin(concept_pos_tags)]\n",
        "\n",
        "# Calculate frequency of each concept\n",
        "df_concept_freq = df_concepts.groupby('Word').size().reset_index(name='Frequency')\n",
        "\n",
        "# Sort by frequency\n",
        "df_concept_freq = df_concept_freq.sort_values(by='Frequency', ascending=False)\n",
        "\n",
        "# Display the most pertinent concepts\n",
        "most_common_concepts = df_concept_freq.head(20)\n",
        "\n",
        "print(\"\\nMost Pertinent Concepts:\")\n",
        "print(most_common_concepts.to_string(index=False))"
      ],
      "metadata": {
        "colab": {
          "base_uri": "https://localhost:8080/"
        },
        "id": "dOYToTeYJ7Na",
        "outputId": "80546bde-35a5-45a1-a559-bb7ef944dfee"
      },
      "id": "dOYToTeYJ7Na",
      "execution_count": null,
      "outputs": [
        {
          "output_type": "stream",
          "name": "stdout",
          "text": [
            "\n",
            "Most Pertinent Concepts:\n",
            "       Word  Frequency\n",
            "       risk       1213\n",
            "    project        848\n",
            " management        633\n",
            "   analysis        192\n",
            "   response        173\n",
            "   standard        169\n",
            "    process        168\n",
            "        pmp        166\n",
            "   practice        163\n",
            "       plan        137\n",
            "  technique        120\n",
            "  institute         99\n",
            "     action         98\n",
            "stakeholder         91\n",
            "      level         81\n",
            "    example         78\n",
            "information         73\n",
            "       cost         72\n",
            "       time         64\n",
            "     impact         62\n"
          ]
        }
      ]
    },
    {
      "cell_type": "code",
      "source": [
        "# ------------------- Attribute and Relation Extraction ------------------- #\n",
        "# Process text at the sentence level using more comprehensive patterns\n",
        "attributes = []\n",
        "relations = []\n",
        "\n",
        "# Reconstruct the full text\n",
        "full_text = ' '.join(extracted_text)\n",
        "\n",
        "# Tokenize text into sentences\n",
        "sentences = sent_tokenize(full_text)\n",
        "\n",
        "for sentence in sentences:\n",
        "    # Tokenize and POS tag\n",
        "    tokens = word_tokenize(sentence)\n",
        "    # Remove stop words\n",
        "    tokens = [token for token in tokens if token not in stop_words]\n",
        "    pos_tags = nltk.pos_tag(tokens)\n",
        "    # Lemmatize tokens with POS tags\n",
        "    lemmatized_tokens = []\n",
        "    for token, tag in pos_tags:\n",
        "        wordnet_pos = get_wordnet_pos(tag)\n",
        "        lemmatized_token = lemmatizer.lemmatize(token, wordnet_pos)\n",
        "        lemmatized_tokens.append((lemmatized_token.lower(), tag))\n",
        "    # Update tokens and pos_tags with lemmatized tokens\n",
        "    tokens = [token for token, tag in lemmatized_tokens]\n",
        "    pos_tags = [(token, tag) for token, tag in lemmatized_tokens]\n",
        "    # Build chunk grammar to capture more patterns\n",
        "    grammar = r\"\"\"\n",
        "        ATTRIBUTE: {<NN.*><IN><NN.*>}          # Noun + Preposition + Noun\n",
        "                  {<JJ.*><NN.*>}               # Adjective(s) + Noun\n",
        "                  {<NN.*><NN.*>}               # Noun + Noun compounds\n",
        "        RELATION: {<NN.*><VB.*><NN.*>}         # Noun + Verb + Noun\n",
        "                 {<NN.*><VB.*><IN><NN.*>}      # Noun + Verb + Preposition + Noun\n",
        "    \"\"\"\n",
        "    # Create chunk parser\n",
        "    cp = RegexpParser(grammar)\n",
        "    tree = cp.parse(pos_tags)\n",
        "    # Extract attributes\n",
        "    for subtree in tree.subtrees(filter=lambda t: t.label() == 'ATTRIBUTE'):\n",
        "        words, tags = zip(*subtree.leaves())\n",
        "        attribute = ' '.join(words)\n",
        "        attributes.append(attribute)\n",
        "    # Extract relations\n",
        "    for subtree in tree.subtrees(filter=lambda t: t.label() == 'RELATION'):\n",
        "        words, tags = zip(*subtree.leaves())\n",
        "        relation = ' '.join(words)\n",
        "        relations.append(relation)"
      ],
      "metadata": {
        "id": "peXS2lJsJ-xK"
      },
      "id": "peXS2lJsJ-xK",
      "execution_count": null,
      "outputs": []
    },
    {
      "cell_type": "code",
      "source": [
        "# Calculate frequencies of attributes\n",
        "attribute_freq = FreqDist(attributes)\n",
        "most_common_attributes = attribute_freq.most_common(20)"
      ],
      "metadata": {
        "id": "vgRbUb6XKCJL"
      },
      "id": "vgRbUb6XKCJL",
      "execution_count": null,
      "outputs": []
    },
    {
      "cell_type": "code",
      "source": [
        "# Display attributes\n",
        "print(\"\\nAttributes Linked to Concepts:\")\n",
        "print(\"{:<50}{}\".format(\"Attribute Phrase\", \"Frequency\"))\n",
        "print(\"-\" * 65)\n",
        "for attribute, freq in most_common_attributes:\n",
        "    print(\"{:<50}{}\".format(attribute, freq))"
      ],
      "metadata": {
        "colab": {
          "base_uri": "https://localhost:8080/"
        },
        "id": "9-hq8dfNKFFk",
        "outputId": "fc45680c-2c45-4955-90a8-05c8b3bea0a2"
      },
      "id": "9-hq8dfNKFFk",
      "execution_count": null,
      "outputs": [
        {
          "output_type": "stream",
          "name": "stdout",
          "text": [
            "\n",
            "Attributes Linked to Concepts:\n",
            "Attribute Phrase                                  Frequency\n",
            "-----------------------------------------------------------------\n",
            "risk management                                   207\n",
            "project risk                                      135\n",
            "project management                                96\n",
            "standard project                                  66\n",
            "practice standard                                 65\n",
            "institute practice                                53\n",
            "management institute                              46\n",
            "quantitative risk                                 45\n",
            "risk response                                     38\n",
            "qualitative risk                                  35\n",
            "individual risk                                   35\n",
            "overall project                                   33\n",
            "management process                                32\n",
            "identifi cation                                   31\n",
            "plan risk                                         26\n",
            "identify risk                                     22\n",
            "management plan                                   21\n",
            "analysis process                                  21\n",
            "project manager                                   18\n",
            "effective technique                               18\n"
          ]
        }
      ]
    },
    {
      "cell_type": "code",
      "source": [
        "# Calculate frequencies of relations\n",
        "relation_freq = FreqDist(relations)\n",
        "most_common_relations = relation_freq.most_common(20)"
      ],
      "metadata": {
        "id": "kfvoyRuaKHOy"
      },
      "id": "kfvoyRuaKHOy",
      "execution_count": null,
      "outputs": []
    },
    {
      "cell_type": "code",
      "execution_count": null,
      "id": "3d2adabf",
      "metadata": {
        "colab": {
          "base_uri": "https://localhost:8080/"
        },
        "id": "3d2adabf",
        "outputId": "4f1fe9a1-dd85-4ed7-adc8-54581cc11635"
      },
      "outputs": [
        {
          "output_type": "stream",
          "name": "stdout",
          "text": [
            "\n",
            "Relations Between Concepts:\n",
            "Relation Phrase                                             Frequency\n",
            "---------------------------------------------------------------------------\n",
            "technique examples template                                 3\n",
            "strength weaknesses application                             3\n",
            "management process defi                                     2\n",
            "project follow element                                      2\n",
            "project objectives risk                                     2\n",
            "risk occur project                                          2\n",
            "plan risk response                                          2\n",
            "project templates example                                   2\n",
            "program portfolios project                                  1\n",
            "textbook handbooks course                                   1\n",
            "management identify risk                                    1\n",
            "process describe address                                    1\n",
            "refl ecting business                                        1\n",
            "principle describe herein                                   1\n",
            "practitioner establish process                              1\n",
            "defi ned mbok                                               1\n",
            "aspect manage project                                       1\n",
            "project estimate assumption                                 1\n",
            "uncertainty estimate duration                               1\n",
            "risk output process                                         1\n"
          ]
        }
      ],
      "source": [
        "# Display relations\n",
        "print(\"\\nRelations Between Concepts:\")\n",
        "print(\"{:<60}{}\".format(\"Relation Phrase\", \"Frequency\"))\n",
        "print(\"-\" * 75)\n",
        "for relation, freq in most_common_relations:\n",
        "    print(\"{:<60}{}\".format(relation, freq))\n"
      ]
    },
    {
      "cell_type": "code",
      "source": [],
      "metadata": {
        "id": "XmHhIW4gBshB"
      },
      "id": "XmHhIW4gBshB",
      "execution_count": null,
      "outputs": []
    },
    {
      "cell_type": "markdown",
      "source": [],
      "metadata": {
        "id": "s2z4eOwrBvMe"
      },
      "id": "s2z4eOwrBvMe"
    },
    {
      "cell_type": "code",
      "source": [
        "\n",
        "# Initialize a list to store all sentences\n",
        "sentences = []\n",
        "\n",
        "# Initialize the WordNet lemmatizer\n",
        "# lemmatizer = WordNetLemmatizer()\n",
        "\n",
        "# Get the list of English stop words\n",
        "# stop_words = set(stopwords.words('english'))\n",
        "\n",
        "# def clean_text(text):\n",
        "#     # Normalize unicode characters (remove accents)\n",
        "#     text = unicodedata.normalize('NFKD', text).encode('ASCII', 'ignore').decode('utf-8')\n",
        "#     # Convert text to lowercase\n",
        "#     text = text.lower()\n",
        "#     # Remove punctuation except hyphens (useful for compound words) and periods (useful for abbreviations)\n",
        "#     text = re.sub(r'[^\\w\\s\\.-]', '', text)\n",
        "#     # Remove multiple spaces\n",
        "#     text = re.sub(r'\\s+', ' ', text)\n",
        "#     # Strip leading and trailing spaces\n",
        "#     text = text.strip()\n",
        "#     return text\n",
        "\n",
        "def get_wordnet_pos(nltk_pos_tag):\n",
        "    if nltk_pos_tag.startswith('J'):\n",
        "        return nltk.corpus.wordnet.ADJ\n",
        "    elif nltk_pos_tag.startswith('V'):\n",
        "        return nltk.corpus.wordnet.VERB\n",
        "    elif nltk_pos_tag.startswith('N'):\n",
        "        return nltk.corpus.wordnet.NOUN\n",
        "    elif nltk_pos_tag.startswith('R'):\n",
        "        return nltk.corpus.wordnet.ADV\n",
        "    else:\n",
        "        return nltk.corpus.wordnet.NOUN  # Default to noun\n",
        "\n",
        "# Open the PDF file\n",
        "with pdfplumber.open(pdf_path) as pdf:\n",
        "    for page in pdf.pages:\n",
        "        text = page.extract_text()\n",
        "        if text:\n",
        "            # Clean the text\n",
        "            text = clean_text(text)\n",
        "            # Tokenize text into sentences\n",
        "            raw_sentences = sent_tokenize(text)\n",
        "            for raw_sentence in raw_sentences:\n",
        "                # Tokenize the sentence into words\n",
        "                tokens = word_tokenize(raw_sentence)\n",
        "                # Remove stop words and lemmatize tokens\n",
        "                filtered_tokens = []\n",
        "                pos_tags = nltk.pos_tag(tokens)\n",
        "                for token, tag in pos_tags:\n",
        "                    if token not in stop_words:\n",
        "                        wordnet_pos = get_wordnet_pos(tag)\n",
        "                        lemmatized_token = lemmatizer.lemmatize(token, wordnet_pos)\n",
        "                        filtered_tokens.append(lemmatized_token)\n",
        "                if filtered_tokens:\n",
        "                    sentences.append(filtered_tokens)\n",
        "        else:\n",
        "            pass  # Skip pages with no text\n",
        "\n",
        "# Flatten the list of sentences to create a list of all tokens\n",
        "all_tokens = [token for sentence in sentences for token in sentence]\n",
        "\n",
        "# Create a DataFrame from all_tokens\n",
        "df_tokens = pd.DataFrame(all_tokens, columns=['Word'])\n",
        "\n",
        "# Calculate frequency of each word\n",
        "df_word_freq = df_tokens['Word'].value_counts().reset_index()\n",
        "df_word_freq.columns = ['Word', 'Frequency']\n",
        "\n",
        "# Sort by frequency\n",
        "df_word_freq = df_word_freq.sort_values(by='Frequency', ascending=False)\n",
        "\n",
        "# Get the top N words as the most pertinent concepts\n",
        "N = 10  # You can change N to get more or fewer concepts\n",
        "most_common_concepts = df_word_freq.head(N)\n",
        "\n",
        "print(\"\\nMost Pertinent Concepts:\")\n",
        "print(most_common_concepts.to_string(index=False))\n",
        "\n",
        "# Get unique words for embedding\n",
        "unique_words = df_tokens['Word'].unique()\n",
        "\n",
        "# Load a pre-trained SentenceTransformer model\n",
        "model = SentenceTransformer('all-MiniLM-L6-v2')\n",
        "\n",
        "# Generate embeddings for each unique word\n",
        "word_embeddings = model.encode(unique_words, show_progress_bar=True)\n",
        "\n",
        "# Create a dictionary to map words to their embeddings\n",
        "word_to_embedding = dict(zip(unique_words, word_embeddings))\n",
        "\n",
        "# Function to find top similar words for a given word\n",
        "def find_similar_words(target_word, word_to_embedding, top_n=5):\n",
        "    if target_word not in word_to_embedding:\n",
        "        return []\n",
        "    target_embedding = word_to_embedding[target_word].reshape(1, -1)\n",
        "    # Exclude the target word from the list of words to compare\n",
        "    words = [word for word in unique_words if word != target_word]\n",
        "    embeddings = np.array([word_to_embedding[word] for word in words])\n",
        "    similarities = cosine_similarity(target_embedding, embeddings)[0]\n",
        "    # Get indices of top similar words\n",
        "    similar_indices = similarities.argsort()[::-1][:top_n]\n",
        "    similar_words = [(words[idx], similarities[idx]) for idx in similar_indices]\n",
        "    return similar_words\n",
        "\n",
        "# Identify synonyms within the extracted text\n",
        "print(\"\\nSynonyms Within Extracted Text:\")\n",
        "for word in most_common_concepts['Word']:\n",
        "    similar_words = find_similar_words(word, word_to_embedding, top_n=5)\n",
        "    if similar_words:\n",
        "        print(f\"\\nWord: {word}\")\n",
        "        print(\"Similar Words:\")\n",
        "        for sim_word, score in similar_words:\n",
        "            print(f\"  {sim_word} (Similarity: {score:.4f})\")\n",
        "    else:\n",
        "        print(f\"\\nWord: {word}\")\n",
        "        print(\"  No similar words found in the extracted text.\")\n"
      ],
      "metadata": {
        "colab": {
          "base_uri": "https://localhost:8080/",
          "height": 1000,
          "referenced_widgets": [
            "cba673dd1f334bf2841319498504b3fa",
            "3362aebf05cb498d819d37f4f6ad8033",
            "2cfa67969f05468399be40d82e07b957",
            "339aa6fdf19e40a2bdf195d37a61022b",
            "95366f5eaf844245a5c51a9a8afad592",
            "ac7173a5e45c4ad5a2f032b0ccc629a9",
            "bd6dfbc4f87443a7901dc24c7644528c",
            "7998a57a2a1d4f1696e8e671260b3360",
            "c411ace48a464f54abcde3d9fb84aebf",
            "8bc23d5cbfca4e12a979c6f9baf29e88",
            "ddc9979b5fd647a2835454b9fe4fe724"
          ]
        },
        "id": "JzME-v1ZhD0C",
        "outputId": "29af4924-38fa-415d-d032-e806b110489a"
      },
      "id": "JzME-v1ZhD0C",
      "execution_count": null,
      "outputs": [
        {
          "output_type": "stream",
          "name": "stdout",
          "text": [
            "\n",
            "Most Pertinent Concepts:\n",
            "      Word  Frequency\n",
            "      risk       1707\n",
            "   project       1154\n",
            "management        751\n",
            "   process        297\n",
            "  analysis        259\n",
            "      plan        233\n",
            "  standard        223\n",
            "  response        215\n",
            "  practice        191\n",
            "       pmp        188\n"
          ]
        },
        {
          "output_type": "stream",
          "name": "stderr",
          "text": [
            "/usr/local/lib/python3.10/dist-packages/transformers/tokenization_utils_base.py:1601: FutureWarning: `clean_up_tokenization_spaces` was not set. It will be set to `True` by default. This behavior will be depracted in transformers v4.45, and will be then set to `False` by default. For more details check this issue: https://github.com/huggingface/transformers/issues/31884\n",
            "  warnings.warn(\n"
          ]
        },
        {
          "output_type": "display_data",
          "data": {
            "text/plain": [
              "Batches:   0%|          | 0/101 [00:00<?, ?it/s]"
            ],
            "application/vnd.jupyter.widget-view+json": {
              "version_major": 2,
              "version_minor": 0,
              "model_id": "cba673dd1f334bf2841319498504b3fa"
            }
          },
          "metadata": {}
        },
        {
          "output_type": "stream",
          "name": "stdout",
          "text": [
            "\n",
            "Synonyms Within Extracted Text:\n",
            "\n",
            "Word: risk\n",
            "Similar Words:\n",
            "  risks (Similarity: 0.9197)\n",
            "  riskrelated (Similarity: 0.7320)\n",
            "  riskguidance (Similarity: 0.7187)\n",
            "  safety (Similarity: 0.6168)\n",
            "  threats (Similarity: 0.6008)\n",
            "\n",
            "Word: project\n",
            "Similar Words:\n",
            "  task (Similarity: 0.5643)\n",
            "  idea (Similarity: 0.5636)\n",
            "  need (Similarity: 0.5422)\n",
            "  attempt (Similarity: 0.5378)\n",
            "  research (Similarity: 0.5348)\n",
            "\n",
            "Word: management\n",
            "Similar Words:\n",
            "  managing (Similarity: 0.8936)\n",
            "  managerial (Similarity: 0.8539)\n",
            "  manage (Similarity: 0.8503)\n",
            "  manager (Similarity: 0.8017)\n",
            "  organisation (Similarity: 0.7037)\n",
            "\n",
            "Word: process\n",
            "Similar Words:\n",
            "  processrelated (Similarity: 0.6600)\n",
            "  processesrisk (Similarity: 0.6553)\n",
            "  execution (Similarity: 0.5894)\n",
            "  procedure (Similarity: 0.5794)\n",
            "  production (Similarity: 0.5476)\n",
            "\n",
            "Word: analysis\n",
            "Similar Words:\n",
            "  analyze (Similarity: 0.7923)\n",
            "  evaluation (Similarity: 0.6173)\n",
            "  analytic (Similarity: 0.5817)\n",
            "  examine (Similarity: 0.5607)\n",
            "  research (Similarity: 0.5536)\n",
            "\n",
            "Word: plan\n",
            "Similar Words:\n",
            "  planned (Similarity: 0.7775)\n",
            "  planning (Similarity: 0.6821)\n",
            "  intend (Similarity: 0.5756)\n",
            "  proposed (Similarity: 0.5404)\n",
            "  idea (Similarity: 0.5328)\n",
            "\n",
            "Word: standard\n",
            "Similar Words:\n",
            "  standardization (Similarity: 0.6638)\n",
            "  regular (Similarity: 0.6506)\n",
            "  conventional (Similarity: 0.5918)\n",
            "  normal (Similarity: 0.5723)\n",
            "  common (Similarity: 0.5646)\n",
            "\n",
            "Word: response\n",
            "Similar Words:\n",
            "  responses (Similarity: 0.8920)\n",
            "  respond (Similarity: 0.8446)\n",
            "  respondent (Similarity: 0.6911)\n",
            "  answered (Similarity: 0.6070)\n",
            "  answer (Similarity: 0.6046)\n",
            "\n",
            "Word: practice\n",
            "Similar Words:\n",
            "  learn (Similarity: 0.6061)\n",
            "  play (Similarity: 0.5875)\n",
            "  technique (Similarity: 0.5754)\n",
            "  training (Similarity: 0.5606)\n",
            "  techniques (Similarity: 0.5545)\n",
            "\n",
            "Word: pmp\n",
            "Similar Words:\n",
            "  pmisp (Similarity: 0.8074)\n",
            "  pme (Similarity: 0.7456)\n",
            "  pmi (Similarity: 0.7252)\n",
            "  pmba (Similarity: 0.6945)\n",
            "  pmirmp (Similarity: 0.6453)\n"
          ]
        }
      ]
    },
    {
      "cell_type": "markdown",
      "source": [
        "# Process Evaluation"
      ],
      "metadata": {
        "id": "35IEK88kYXlY"
      },
      "id": "35IEK88kYXlY"
    },
    {
      "cell_type": "markdown",
      "source": [
        "In this section, we perform two key analyses: calculating the Levenshtein distance for synonyms and computing the TF-IDF scores for the extracted text. First, we define a function to calculate the Levenshtein distance, which measures the similarity between a given word and its similar words, as identified through a previously defined method (find_similar_words). For each word in the list of most common concepts, we find the top five similar words and print the Levenshtein distance along with cosine similarity values. If no similar words are found, a message is displayed accordingly.\n",
        "\n",
        "Next, we proceed to calculate TF-IDF scores to assess the importance of words in the context of the extracted text. We rebuild the cleaned and lemmatized sentences into a list, which is then transformed into a TF-IDF matrix using TfidfVectorizer. This matrix quantifies the importance of each word across all sentences. We extract the feature names (terms) and their corresponding mean TF-IDF scores, storing them in a DataFrame. Finally, we sort this DataFrame by TF-IDF score in descending order and print the top 20 words with the highest scores, providing insights into the most significant terms within the text."
      ],
      "metadata": {
        "id": "XcEDO0mBcSLV"
      },
      "id": "XcEDO0mBcSLV"
    },
    {
      "cell_type": "code",
      "source": [
        "def clean_text(text):\n",
        "    # Normalize unicode characters (remove accents)\n",
        "    text = unicodedata.normalize('NFKD', text).encode('ASCII', 'ignore').decode('utf-8')\n",
        "    # Convert text to lowercase\n",
        "    text = text.lower()\n",
        "    # Remove punctuation except hyphens and periods\n",
        "    text = re.sub(r'[^\\w\\s\\.-]', '', text)\n",
        "    # Remove multiple spaces\n",
        "    text = re.sub(r'\\s+', ' ', text)\n",
        "    # Strip leading and trailing spaces\n",
        "    text = text.strip()\n",
        "    return text\n",
        "\n",
        "def get_wordnet_pos(nltk_pos_tag):\n",
        "    if nltk_pos_tag.startswith('J'):\n",
        "        return nltk.corpus.wordnet.ADJ\n",
        "    elif nltk_pos_tag.startswith('V'):\n",
        "        return nltk.corpus.wordnet.VERB\n",
        "    elif nltk_pos_tag.startswith('N'):\n",
        "        return nltk.corpus.wordnet.NOUN\n",
        "    elif nltk_pos_tag.startswith('R'):\n",
        "        return nltk.corpus.wordnet.ADV\n",
        "    else:\n",
        "        return nltk.corpus.wordnet.NOUN  # Default to noun\n",
        "\n",
        "# Open the PDF file\n",
        "with pdfplumber.open(pdf_path) as pdf:\n",
        "    for page in pdf.pages:\n",
        "        text = page.extract_text()\n",
        "        if text:\n",
        "            # Clean the text\n",
        "            text = clean_text(text)\n",
        "            # Tokenize text into sentences\n",
        "            raw_sentences = sent_tokenize(text)\n",
        "            for raw_sentence in raw_sentences:\n",
        "                # Tokenize the sentence into words\n",
        "                tokens = word_tokenize(raw_sentence)\n",
        "                # Remove stop words and lemmatize tokens\n",
        "                filtered_tokens = []\n",
        "                pos_tags = nltk.pos_tag(tokens)\n",
        "                for token, tag in pos_tags:\n",
        "                    if token not in stop_words:\n",
        "                        wordnet_pos = get_wordnet_pos(tag)\n",
        "                        lemmatized_token = lemmatizer.lemmatize(token, wordnet_pos)\n",
        "                        filtered_tokens.append(lemmatized_token)\n",
        "                if filtered_tokens:\n",
        "                    sentences.append(filtered_tokens)\n",
        "        else:\n",
        "            pass  # Skip pages with no text\n",
        "\n",
        "# Flatten the list of sentences to create a list of all tokens\n",
        "all_tokens = [token for sentence in sentences for token in sentence]\n",
        "\n",
        "# Create a DataFrame from all_tokens\n",
        "df_tokens = pd.DataFrame(all_tokens, columns=['Word'])\n",
        "\n",
        "# Calculate frequency of each word\n",
        "df_word_freq = df_tokens['Word'].value_counts().reset_index()\n",
        "df_word_freq.columns = ['Word', 'Frequency']\n",
        "\n",
        "# Sort by frequency\n",
        "df_word_freq = df_word_freq.sort_values(by='Frequency', ascending=False)\n",
        "\n",
        "# Get the top N words as the most pertinent concepts\n",
        "N = 10  # You can change N to get more or fewer concepts\n",
        "most_common_concepts = df_word_freq.head(N)\n",
        "\n",
        "print(\"\\nMost Pertinent Concepts:\")\n",
        "print(most_common_concepts.to_string(index=False))\n",
        "\n",
        "# Get unique words for embedding\n",
        "unique_words = df_tokens['Word'].unique()\n",
        "\n",
        "# Load a pre-trained SentenceTransformer model\n",
        "model = SentenceTransformer('all-MiniLM-L6-v2')\n",
        "\n",
        "# Generate embeddings for each unique word\n",
        "word_embeddings = model.encode(unique_words, show_progress_bar=True)\n",
        "\n",
        "# Create a dictionary to map words to their embeddings\n",
        "word_to_embedding = dict(zip(unique_words, word_embeddings))\n",
        "\n",
        "# Function to find top similar words for a given word\n",
        "def find_similar_words(target_word, word_to_embedding, top_n=5):\n",
        "    if target_word not in word_to_embedding:\n",
        "        return []\n",
        "    target_embedding = word_to_embedding[target_word].reshape(1, -1)\n",
        "    # Exclude the target word from the list of words to compare\n",
        "    words = [word for word in unique_words if word != target_word]\n",
        "    embeddings = np.array([word_to_embedding[word] for word in words])\n",
        "    similarities = cosine_similarity(target_embedding, embeddings)[0]\n",
        "    # Get indices of top similar words\n",
        "    similar_indices = similarities.argsort()[::-1][:top_n]\n",
        "    similar_words = [(words[idx], similarities[idx]) for idx in similar_indices]\n",
        "    return similar_words\n",
        "\n",
        "# Function to calculate Levenshtein distance\n",
        "def calculate_levenshtein_distance(word, similar_words):\n",
        "    print(f\"\\nLevenshtein Distances for the word '{word}':\")\n",
        "    for similar_word, similarity in similar_words:\n",
        "        distance = Levenshtein.distance(word, similar_word)\n",
        "        print(f\"  {word} -> {similar_word}: Levenshtein Distance = {distance}, Cosine Similarity = {similarity:.4f}\")\n",
        "\n",
        "# Identify synonyms within the extracted text and calculate Levenshtein distance\n",
        "print(\"\\nSynonyms and Levenshtein Distances Within Extracted Text:\")\n",
        "for word in most_common_concepts['Word']:\n",
        "    similar_words = find_similar_words(word, word_to_embedding, top_n=5)\n",
        "    if similar_words:\n",
        "        print(f\"\\nWord: {word}\")\n",
        "        print(\"Similar Words and Their Distances:\")\n",
        "        calculate_levenshtein_distance(word, similar_words)\n",
        "    else:\n",
        "        print(f\"\\nWord: {word}\")\n",
        "        print(\"  No similar words found in the extracted text.\")\n"
      ],
      "metadata": {
        "colab": {
          "base_uri": "https://localhost:8080/",
          "height": 1000,
          "referenced_widgets": [
            "fcf3a031dc7245188d76a3d0fd10f46d",
            "e17e3adee8b6410d84deaeb5d3537bb2",
            "37d95bbfae7e41edb8f37cbf8957835c",
            "cf51afdfd28a46328bd9e479714e812b",
            "189de8cb34c94969979b21a1452d7ff6",
            "135b6a149d584602ac4685653f117008",
            "ba3b9c4760f5428699bbcd5cd0ce555e",
            "f3a857cba6bb41c3811da61100aa7bf4",
            "27cea97deb814f6b8a395faf22a632f8",
            "805a1f18e65d40bba7c9d50e14d94034",
            "3c29ff21b540480db987681dd45d0619"
          ]
        },
        "id": "VqSuVK3YM8tM",
        "outputId": "bbdfd11c-58f5-470f-83ca-fe4d36f48911"
      },
      "id": "VqSuVK3YM8tM",
      "execution_count": null,
      "outputs": [
        {
          "output_type": "stream",
          "name": "stdout",
          "text": [
            "\n",
            "Most Pertinent Concepts:\n",
            "      Word  Frequency\n",
            "      risk       3414\n",
            "   project       2306\n",
            "management       1502\n",
            "   process        594\n",
            "  analysis        518\n",
            "      plan        459\n",
            "  standard        446\n",
            "  response        432\n",
            "  practice        382\n",
            "       pmp        376\n"
          ]
        },
        {
          "output_type": "stream",
          "name": "stderr",
          "text": [
            "/usr/local/lib/python3.10/dist-packages/transformers/tokenization_utils_base.py:1601: FutureWarning: `clean_up_tokenization_spaces` was not set. It will be set to `True` by default. This behavior will be depracted in transformers v4.45, and will be then set to `False` by default. For more details check this issue: https://github.com/huggingface/transformers/issues/31884\n",
            "  warnings.warn(\n"
          ]
        },
        {
          "output_type": "display_data",
          "data": {
            "text/plain": [
              "Batches:   0%|          | 0/116 [00:00<?, ?it/s]"
            ],
            "application/vnd.jupyter.widget-view+json": {
              "version_major": 2,
              "version_minor": 0,
              "model_id": "fcf3a031dc7245188d76a3d0fd10f46d"
            }
          },
          "metadata": {}
        },
        {
          "output_type": "stream",
          "name": "stdout",
          "text": [
            "\n",
            "Synonyms and Levenshtein Distances Within Extracted Text:\n",
            "\n",
            "Word: risk\n",
            "Similar Words and Their Distances:\n",
            "\n",
            "Levenshtein Distances for the word 'risk':\n",
            "  risk -> risks: Levenshtein Distance = 1, Cosine Similarity = 0.9197\n",
            "  risk -> risk-related: Levenshtein Distance = 8, Cosine Similarity = 0.8580\n",
            "  risk -> riskrelated: Levenshtein Distance = 7, Cosine Similarity = 0.7320\n",
            "  risk -> riskguidance: Levenshtein Distance = 8, Cosine Similarity = 0.7187\n",
            "  risk -> non-risks: Levenshtein Distance = 5, Cosine Similarity = 0.7116\n",
            "\n",
            "Word: project\n",
            "Similar Words and Their Distances:\n",
            "\n",
            "Levenshtein Distances for the word 'project':\n",
            "  project -> project-: Levenshtein Distance = 1, Cosine Similarity = 0.8335\n",
            "  project -> project-specific: Levenshtein Distance = 9, Cosine Similarity = 0.6084\n",
            "  project -> project-related: Levenshtein Distance = 8, Cosine Similarity = 0.5837\n",
            "  project -> project-wide: Levenshtein Distance = 5, Cosine Similarity = 0.5824\n",
            "  project -> task: Levenshtein Distance = 7, Cosine Similarity = 0.5643\n",
            "\n",
            "Word: management\n",
            "Similar Words and Their Distances:\n",
            "\n",
            "Levenshtein Distances for the word 'management':\n",
            "  management -> managing: Levenshtein Distance = 4, Cosine Similarity = 0.8936\n",
            "  management -> managerial: Levenshtein Distance = 4, Cosine Similarity = 0.8539\n",
            "  management -> manage: Levenshtein Distance = 4, Cosine Similarity = 0.8503\n",
            "  management -> manager: Levenshtein Distance = 4, Cosine Similarity = 0.8017\n",
            "  management -> organisation: Levenshtein Distance = 10, Cosine Similarity = 0.7037\n",
            "\n",
            "Word: process\n",
            "Similar Words and Their Distances:\n",
            "\n",
            "Levenshtein Distances for the word 'process':\n",
            "  process -> process-related: Levenshtein Distance = 8, Cosine Similarity = 0.8229\n",
            "  process -> processrelated: Levenshtein Distance = 7, Cosine Similarity = 0.6600\n",
            "  process -> processesrisk: Levenshtein Distance = 6, Cosine Similarity = 0.6553\n",
            "  process -> execution: Levenshtein Distance = 8, Cosine Similarity = 0.5894\n",
            "  process -> procedure: Levenshtein Distance = 4, Cosine Similarity = 0.5794\n",
            "\n",
            "Word: analysis\n",
            "Similar Words and Their Distances:\n",
            "\n",
            "Levenshtein Distances for the word 'analysis':\n",
            "  analysis -> analyze: Levenshtein Distance = 3, Cosine Similarity = 0.7923\n",
            "  analysis -> evaluation: Levenshtein Distance = 7, Cosine Similarity = 0.6173\n",
            "  analysis -> analytic: Levenshtein Distance = 2, Cosine Similarity = 0.5817\n",
            "  analysis -> examine: Levenshtein Distance = 7, Cosine Similarity = 0.5607\n",
            "  analysis -> research: Levenshtein Distance = 8, Cosine Similarity = 0.5536\n",
            "\n",
            "Word: plan\n",
            "Similar Words and Their Distances:\n",
            "\n",
            "Levenshtein Distances for the word 'plan':\n",
            "  plan -> planned: Levenshtein Distance = 3, Cosine Similarity = 0.7775\n",
            "  plan -> re-plan: Levenshtein Distance = 3, Cosine Similarity = 0.7056\n",
            "  plan -> planning: Levenshtein Distance = 4, Cosine Similarity = 0.6821\n",
            "  plan -> re-planning: Levenshtein Distance = 7, Cosine Similarity = 0.5945\n",
            "  plan -> intend: Levenshtein Distance = 5, Cosine Similarity = 0.5756\n",
            "\n",
            "Word: standard\n",
            "Similar Words and Their Distances:\n",
            "\n",
            "Levenshtein Distances for the word 'standard':\n",
            "  standard -> standardization: Levenshtein Distance = 7, Cosine Similarity = 0.6638\n",
            "  standard -> regular: Levenshtein Distance = 6, Cosine Similarity = 0.6506\n",
            "  standard -> conventional: Levenshtein Distance = 11, Cosine Similarity = 0.5918\n",
            "  standard -> normal: Levenshtein Distance = 7, Cosine Similarity = 0.5723\n",
            "  standard -> common: Levenshtein Distance = 8, Cosine Similarity = 0.5646\n",
            "\n",
            "Word: response\n",
            "Similar Words and Their Distances:\n",
            "\n",
            "Levenshtein Distances for the word 'response':\n",
            "  response -> responses: Levenshtein Distance = 1, Cosine Similarity = 0.8920\n",
            "  response -> respond: Levenshtein Distance = 2, Cosine Similarity = 0.8446\n",
            "  response -> response-related: Levenshtein Distance = 8, Cosine Similarity = 0.7272\n",
            "  response -> post-response: Levenshtein Distance = 5, Cosine Similarity = 0.7071\n",
            "  response -> respondent: Levenshtein Distance = 3, Cosine Similarity = 0.6911\n",
            "\n",
            "Word: practice\n",
            "Similar Words and Their Distances:\n",
            "\n",
            "Levenshtein Distances for the word 'practice':\n",
            "  practice -> learn: Levenshtein Distance = 7, Cosine Similarity = 0.6061\n",
            "  practice -> play: Levenshtein Distance = 6, Cosine Similarity = 0.5875\n",
            "  practice -> technique: Levenshtein Distance = 7, Cosine Similarity = 0.5754\n",
            "  practice -> training: Levenshtein Distance = 5, Cosine Similarity = 0.5606\n",
            "  practice -> techniques: Levenshtein Distance = 8, Cosine Similarity = 0.5545\n",
            "\n",
            "Word: pmp\n",
            "Similar Words and Their Distances:\n",
            "\n",
            "Levenshtein Distances for the word 'pmp':\n",
            "  pmp -> pmisp: Levenshtein Distance = 2, Cosine Similarity = 0.8074\n",
            "  pmp -> pme: Levenshtein Distance = 1, Cosine Similarity = 0.7456\n",
            "  pmp -> pmi: Levenshtein Distance = 1, Cosine Similarity = 0.7252\n",
            "  pmp -> pmba: Levenshtein Distance = 2, Cosine Similarity = 0.6945\n",
            "  pmp -> pmi-rmp: Levenshtein Distance = 4, Cosine Similarity = 0.6506\n"
          ]
        }
      ]
    },
    {
      "cell_type": "code",
      "source": [],
      "metadata": {
        "id": "Kg-mxWtgQ1-j"
      },
      "id": "Kg-mxWtgQ1-j",
      "execution_count": null,
      "outputs": []
    },
    {
      "cell_type": "code",
      "source": [
        "\n",
        "# ------------- TF-IDF Calculation ------------- #\n",
        "\n",
        "# Rebuild the cleaned, lemmatized sentences for TF-IDF vectorization\n",
        "cleaned_sentences = [' '.join(sentence) for sentence in sentences]\n",
        "\n",
        "# Create a TF-IDF Vectorizer\n",
        "tfidf_vectorizer = TfidfVectorizer()\n",
        "tfidf_matrix = tfidf_vectorizer.fit_transform(cleaned_sentences)\n",
        "\n",
        "# Store the vocab (terms) and their importance scores (TF-IDF)\n",
        "tfidf_feature_names = tfidf_vectorizer.get_feature_names_out()\n",
        "tfidf_scores = np.asarray(tfidf_matrix.mean(axis=0)).flatten()  # Mean TF-IDF across all documents\n",
        "tfidf_df = pd.DataFrame({'Word': tfidf_feature_names, 'TF-IDF Score': tfidf_scores})\n",
        "\n",
        "# Sort the words by their TF-IDF score (descending order)\n",
        "tfidf_df = tfidf_df.sort_values(by='TF-IDF Score', ascending=False)\n",
        "\n",
        "print(\"\\nTop 20 Words by TF-IDF Score:\")\n",
        "print(tfidf_df.head(20).to_string(index=False))"
      ],
      "metadata": {
        "colab": {
          "base_uri": "https://localhost:8080/"
        },
        "id": "kg3BRLnPQ3tc",
        "outputId": "536fb8aa-1480-4348-ce9d-adcb6509c572"
      },
      "id": "kg3BRLnPQ3tc",
      "execution_count": null,
      "outputs": [
        {
          "output_type": "stream",
          "name": "stdout",
          "text": [
            "\n",
            "Top 20 Words by TF-IDF Score:\n",
            "       Word  TF-IDF Score\n",
            "       risk      0.109692\n",
            "    project      0.100289\n",
            " management      0.087584\n",
            "   standard      0.040488\n",
            "  institute      0.039991\n",
            "   practice      0.038371\n",
            "    process      0.033015\n",
            "       plan      0.028025\n",
            "   analysis      0.026495\n",
            "   response      0.025326\n",
            "        use      0.019927\n",
            "     action      0.018914\n",
            "  objective      0.018394\n",
            "    example      0.017402\n",
            "   identifi      0.017350\n",
            "  technique      0.017025\n",
            "     figure      0.015023\n",
            "stakeholder      0.014704\n",
            "     impact      0.014166\n",
            "   identify      0.014025\n"
          ]
        }
      ]
    },
    {
      "cell_type": "code",
      "source": [
        "# ------------- F-Measure Evaluation ------------- #\n",
        "\n",
        "# Assuming 'most_common_concepts' from your previous code are True Positives\n",
        "tp_words = most_common_concepts['Word'].tolist()\n",
        "\n",
        "# Consider top N words by TF-IDF as predicted relevant concepts\n",
        "N = 10\n",
        "predicted_concepts = tfidf_df.head(N)['Word'].tolist()\n",
        "\n",
        "# Create a binarizer\n",
        "mlb = MultiLabelBinarizer(classes=list(set(tp_words) | set(predicted_concepts)))\n",
        "\n",
        "# Binarize the true and predicted categories\n",
        "y_true = mlb.fit_transform([tp_words])[0]  # Actual (True Relevant Concepts)\n",
        "y_pred = mlb.fit_transform([predicted_concepts])[0]  # Predicted Concepts (TF-IDF Top N)\n",
        "\n",
        "# Calculate Precision, Recall and F1-Score\n",
        "precision = precision_score(y_true, y_pred)\n",
        "recall = recall_score(y_true, y_pred)\n",
        "f1 = f1_score(y_true, y_pred)"
      ],
      "metadata": {
        "id": "U9EE-KmgQ8KM"
      },
      "id": "U9EE-KmgQ8KM",
      "execution_count": null,
      "outputs": []
    },
    {
      "cell_type": "code",
      "execution_count": null,
      "id": "1345af29",
      "metadata": {
        "id": "1345af29",
        "outputId": "61cbb666-2b12-4fbf-82dc-2e0d48665ddb",
        "colab": {
          "base_uri": "https://localhost:8080/"
        }
      },
      "outputs": [
        {
          "output_type": "stream",
          "name": "stdout",
          "text": [
            "\n",
            "--- F-Measure Evaluation ---\n",
            "Precision: 0.9000\n",
            "Recall:    0.9000\n",
            "F1-Score: 0.9000\n"
          ]
        }
      ],
      "source": [
        "\n",
        "# Output Precision, Recall and F1-Score\n",
        "print(\"\\n--- F-Measure Evaluation ---\")\n",
        "print(f'Precision: {precision:.4f}')\n",
        "print(f'Recall:    {recall:.4f}')\n",
        "print(f'F1-Score: {f1:.4f}')"
      ]
    },
    {
      "cell_type": "markdown",
      "source": [],
      "metadata": {
        "id": "ndr9CRU9QwrC"
      },
      "id": "ndr9CRU9QwrC"
    },
    {
      "cell_type": "code",
      "source": [],
      "metadata": {
        "id": "FOtD_57zQmLz"
      },
      "id": "FOtD_57zQmLz",
      "execution_count": null,
      "outputs": []
    }
  ],
  "metadata": {
    "kernelspec": {
      "display_name": "fraud-management",
      "language": "python",
      "name": "fraud-management"
    },
    "language_info": {
      "codemirror_mode": {
        "name": "ipython",
        "version": 3
      },
      "file_extension": ".py",
      "mimetype": "text/x-python",
      "name": "python",
      "nbconvert_exporter": "python",
      "pygments_lexer": "ipython3",
      "version": "3.11.0"
    },
    "colab": {
      "provenance": [],
      "machine_shape": "hm",
      "gpuType": "A100"
    },
    "accelerator": "GPU",
    "widgets": {
      "application/vnd.jupyter.widget-state+json": {
        "cba673dd1f334bf2841319498504b3fa": {
          "model_module": "@jupyter-widgets/controls",
          "model_name": "HBoxModel",
          "model_module_version": "1.5.0",
          "state": {
            "_dom_classes": [],
            "_model_module": "@jupyter-widgets/controls",
            "_model_module_version": "1.5.0",
            "_model_name": "HBoxModel",
            "_view_count": null,
            "_view_module": "@jupyter-widgets/controls",
            "_view_module_version": "1.5.0",
            "_view_name": "HBoxView",
            "box_style": "",
            "children": [
              "IPY_MODEL_3362aebf05cb498d819d37f4f6ad8033",
              "IPY_MODEL_2cfa67969f05468399be40d82e07b957",
              "IPY_MODEL_339aa6fdf19e40a2bdf195d37a61022b"
            ],
            "layout": "IPY_MODEL_95366f5eaf844245a5c51a9a8afad592"
          }
        },
        "3362aebf05cb498d819d37f4f6ad8033": {
          "model_module": "@jupyter-widgets/controls",
          "model_name": "HTMLModel",
          "model_module_version": "1.5.0",
          "state": {
            "_dom_classes": [],
            "_model_module": "@jupyter-widgets/controls",
            "_model_module_version": "1.5.0",
            "_model_name": "HTMLModel",
            "_view_count": null,
            "_view_module": "@jupyter-widgets/controls",
            "_view_module_version": "1.5.0",
            "_view_name": "HTMLView",
            "description": "",
            "description_tooltip": null,
            "layout": "IPY_MODEL_ac7173a5e45c4ad5a2f032b0ccc629a9",
            "placeholder": "​",
            "style": "IPY_MODEL_bd6dfbc4f87443a7901dc24c7644528c",
            "value": "Batches: 100%"
          }
        },
        "2cfa67969f05468399be40d82e07b957": {
          "model_module": "@jupyter-widgets/controls",
          "model_name": "FloatProgressModel",
          "model_module_version": "1.5.0",
          "state": {
            "_dom_classes": [],
            "_model_module": "@jupyter-widgets/controls",
            "_model_module_version": "1.5.0",
            "_model_name": "FloatProgressModel",
            "_view_count": null,
            "_view_module": "@jupyter-widgets/controls",
            "_view_module_version": "1.5.0",
            "_view_name": "ProgressView",
            "bar_style": "success",
            "description": "",
            "description_tooltip": null,
            "layout": "IPY_MODEL_7998a57a2a1d4f1696e8e671260b3360",
            "max": 101,
            "min": 0,
            "orientation": "horizontal",
            "style": "IPY_MODEL_c411ace48a464f54abcde3d9fb84aebf",
            "value": 101
          }
        },
        "339aa6fdf19e40a2bdf195d37a61022b": {
          "model_module": "@jupyter-widgets/controls",
          "model_name": "HTMLModel",
          "model_module_version": "1.5.0",
          "state": {
            "_dom_classes": [],
            "_model_module": "@jupyter-widgets/controls",
            "_model_module_version": "1.5.0",
            "_model_name": "HTMLModel",
            "_view_count": null,
            "_view_module": "@jupyter-widgets/controls",
            "_view_module_version": "1.5.0",
            "_view_name": "HTMLView",
            "description": "",
            "description_tooltip": null,
            "layout": "IPY_MODEL_8bc23d5cbfca4e12a979c6f9baf29e88",
            "placeholder": "​",
            "style": "IPY_MODEL_ddc9979b5fd647a2835454b9fe4fe724",
            "value": " 101/101 [00:00&lt;00:00, 152.92it/s]"
          }
        },
        "95366f5eaf844245a5c51a9a8afad592": {
          "model_module": "@jupyter-widgets/base",
          "model_name": "LayoutModel",
          "model_module_version": "1.2.0",
          "state": {
            "_model_module": "@jupyter-widgets/base",
            "_model_module_version": "1.2.0",
            "_model_name": "LayoutModel",
            "_view_count": null,
            "_view_module": "@jupyter-widgets/base",
            "_view_module_version": "1.2.0",
            "_view_name": "LayoutView",
            "align_content": null,
            "align_items": null,
            "align_self": null,
            "border": null,
            "bottom": null,
            "display": null,
            "flex": null,
            "flex_flow": null,
            "grid_area": null,
            "grid_auto_columns": null,
            "grid_auto_flow": null,
            "grid_auto_rows": null,
            "grid_column": null,
            "grid_gap": null,
            "grid_row": null,
            "grid_template_areas": null,
            "grid_template_columns": null,
            "grid_template_rows": null,
            "height": null,
            "justify_content": null,
            "justify_items": null,
            "left": null,
            "margin": null,
            "max_height": null,
            "max_width": null,
            "min_height": null,
            "min_width": null,
            "object_fit": null,
            "object_position": null,
            "order": null,
            "overflow": null,
            "overflow_x": null,
            "overflow_y": null,
            "padding": null,
            "right": null,
            "top": null,
            "visibility": null,
            "width": null
          }
        },
        "ac7173a5e45c4ad5a2f032b0ccc629a9": {
          "model_module": "@jupyter-widgets/base",
          "model_name": "LayoutModel",
          "model_module_version": "1.2.0",
          "state": {
            "_model_module": "@jupyter-widgets/base",
            "_model_module_version": "1.2.0",
            "_model_name": "LayoutModel",
            "_view_count": null,
            "_view_module": "@jupyter-widgets/base",
            "_view_module_version": "1.2.0",
            "_view_name": "LayoutView",
            "align_content": null,
            "align_items": null,
            "align_self": null,
            "border": null,
            "bottom": null,
            "display": null,
            "flex": null,
            "flex_flow": null,
            "grid_area": null,
            "grid_auto_columns": null,
            "grid_auto_flow": null,
            "grid_auto_rows": null,
            "grid_column": null,
            "grid_gap": null,
            "grid_row": null,
            "grid_template_areas": null,
            "grid_template_columns": null,
            "grid_template_rows": null,
            "height": null,
            "justify_content": null,
            "justify_items": null,
            "left": null,
            "margin": null,
            "max_height": null,
            "max_width": null,
            "min_height": null,
            "min_width": null,
            "object_fit": null,
            "object_position": null,
            "order": null,
            "overflow": null,
            "overflow_x": null,
            "overflow_y": null,
            "padding": null,
            "right": null,
            "top": null,
            "visibility": null,
            "width": null
          }
        },
        "bd6dfbc4f87443a7901dc24c7644528c": {
          "model_module": "@jupyter-widgets/controls",
          "model_name": "DescriptionStyleModel",
          "model_module_version": "1.5.0",
          "state": {
            "_model_module": "@jupyter-widgets/controls",
            "_model_module_version": "1.5.0",
            "_model_name": "DescriptionStyleModel",
            "_view_count": null,
            "_view_module": "@jupyter-widgets/base",
            "_view_module_version": "1.2.0",
            "_view_name": "StyleView",
            "description_width": ""
          }
        },
        "7998a57a2a1d4f1696e8e671260b3360": {
          "model_module": "@jupyter-widgets/base",
          "model_name": "LayoutModel",
          "model_module_version": "1.2.0",
          "state": {
            "_model_module": "@jupyter-widgets/base",
            "_model_module_version": "1.2.0",
            "_model_name": "LayoutModel",
            "_view_count": null,
            "_view_module": "@jupyter-widgets/base",
            "_view_module_version": "1.2.0",
            "_view_name": "LayoutView",
            "align_content": null,
            "align_items": null,
            "align_self": null,
            "border": null,
            "bottom": null,
            "display": null,
            "flex": null,
            "flex_flow": null,
            "grid_area": null,
            "grid_auto_columns": null,
            "grid_auto_flow": null,
            "grid_auto_rows": null,
            "grid_column": null,
            "grid_gap": null,
            "grid_row": null,
            "grid_template_areas": null,
            "grid_template_columns": null,
            "grid_template_rows": null,
            "height": null,
            "justify_content": null,
            "justify_items": null,
            "left": null,
            "margin": null,
            "max_height": null,
            "max_width": null,
            "min_height": null,
            "min_width": null,
            "object_fit": null,
            "object_position": null,
            "order": null,
            "overflow": null,
            "overflow_x": null,
            "overflow_y": null,
            "padding": null,
            "right": null,
            "top": null,
            "visibility": null,
            "width": null
          }
        },
        "c411ace48a464f54abcde3d9fb84aebf": {
          "model_module": "@jupyter-widgets/controls",
          "model_name": "ProgressStyleModel",
          "model_module_version": "1.5.0",
          "state": {
            "_model_module": "@jupyter-widgets/controls",
            "_model_module_version": "1.5.0",
            "_model_name": "ProgressStyleModel",
            "_view_count": null,
            "_view_module": "@jupyter-widgets/base",
            "_view_module_version": "1.2.0",
            "_view_name": "StyleView",
            "bar_color": null,
            "description_width": ""
          }
        },
        "8bc23d5cbfca4e12a979c6f9baf29e88": {
          "model_module": "@jupyter-widgets/base",
          "model_name": "LayoutModel",
          "model_module_version": "1.2.0",
          "state": {
            "_model_module": "@jupyter-widgets/base",
            "_model_module_version": "1.2.0",
            "_model_name": "LayoutModel",
            "_view_count": null,
            "_view_module": "@jupyter-widgets/base",
            "_view_module_version": "1.2.0",
            "_view_name": "LayoutView",
            "align_content": null,
            "align_items": null,
            "align_self": null,
            "border": null,
            "bottom": null,
            "display": null,
            "flex": null,
            "flex_flow": null,
            "grid_area": null,
            "grid_auto_columns": null,
            "grid_auto_flow": null,
            "grid_auto_rows": null,
            "grid_column": null,
            "grid_gap": null,
            "grid_row": null,
            "grid_template_areas": null,
            "grid_template_columns": null,
            "grid_template_rows": null,
            "height": null,
            "justify_content": null,
            "justify_items": null,
            "left": null,
            "margin": null,
            "max_height": null,
            "max_width": null,
            "min_height": null,
            "min_width": null,
            "object_fit": null,
            "object_position": null,
            "order": null,
            "overflow": null,
            "overflow_x": null,
            "overflow_y": null,
            "padding": null,
            "right": null,
            "top": null,
            "visibility": null,
            "width": null
          }
        },
        "ddc9979b5fd647a2835454b9fe4fe724": {
          "model_module": "@jupyter-widgets/controls",
          "model_name": "DescriptionStyleModel",
          "model_module_version": "1.5.0",
          "state": {
            "_model_module": "@jupyter-widgets/controls",
            "_model_module_version": "1.5.0",
            "_model_name": "DescriptionStyleModel",
            "_view_count": null,
            "_view_module": "@jupyter-widgets/base",
            "_view_module_version": "1.2.0",
            "_view_name": "StyleView",
            "description_width": ""
          }
        },
        "fcf3a031dc7245188d76a3d0fd10f46d": {
          "model_module": "@jupyter-widgets/controls",
          "model_name": "HBoxModel",
          "model_module_version": "1.5.0",
          "state": {
            "_dom_classes": [],
            "_model_module": "@jupyter-widgets/controls",
            "_model_module_version": "1.5.0",
            "_model_name": "HBoxModel",
            "_view_count": null,
            "_view_module": "@jupyter-widgets/controls",
            "_view_module_version": "1.5.0",
            "_view_name": "HBoxView",
            "box_style": "",
            "children": [
              "IPY_MODEL_e17e3adee8b6410d84deaeb5d3537bb2",
              "IPY_MODEL_37d95bbfae7e41edb8f37cbf8957835c",
              "IPY_MODEL_cf51afdfd28a46328bd9e479714e812b"
            ],
            "layout": "IPY_MODEL_189de8cb34c94969979b21a1452d7ff6"
          }
        },
        "e17e3adee8b6410d84deaeb5d3537bb2": {
          "model_module": "@jupyter-widgets/controls",
          "model_name": "HTMLModel",
          "model_module_version": "1.5.0",
          "state": {
            "_dom_classes": [],
            "_model_module": "@jupyter-widgets/controls",
            "_model_module_version": "1.5.0",
            "_model_name": "HTMLModel",
            "_view_count": null,
            "_view_module": "@jupyter-widgets/controls",
            "_view_module_version": "1.5.0",
            "_view_name": "HTMLView",
            "description": "",
            "description_tooltip": null,
            "layout": "IPY_MODEL_135b6a149d584602ac4685653f117008",
            "placeholder": "​",
            "style": "IPY_MODEL_ba3b9c4760f5428699bbcd5cd0ce555e",
            "value": "Batches: 100%"
          }
        },
        "37d95bbfae7e41edb8f37cbf8957835c": {
          "model_module": "@jupyter-widgets/controls",
          "model_name": "FloatProgressModel",
          "model_module_version": "1.5.0",
          "state": {
            "_dom_classes": [],
            "_model_module": "@jupyter-widgets/controls",
            "_model_module_version": "1.5.0",
            "_model_name": "FloatProgressModel",
            "_view_count": null,
            "_view_module": "@jupyter-widgets/controls",
            "_view_module_version": "1.5.0",
            "_view_name": "ProgressView",
            "bar_style": "success",
            "description": "",
            "description_tooltip": null,
            "layout": "IPY_MODEL_f3a857cba6bb41c3811da61100aa7bf4",
            "max": 116,
            "min": 0,
            "orientation": "horizontal",
            "style": "IPY_MODEL_27cea97deb814f6b8a395faf22a632f8",
            "value": 116
          }
        },
        "cf51afdfd28a46328bd9e479714e812b": {
          "model_module": "@jupyter-widgets/controls",
          "model_name": "HTMLModel",
          "model_module_version": "1.5.0",
          "state": {
            "_dom_classes": [],
            "_model_module": "@jupyter-widgets/controls",
            "_model_module_version": "1.5.0",
            "_model_name": "HTMLModel",
            "_view_count": null,
            "_view_module": "@jupyter-widgets/controls",
            "_view_module_version": "1.5.0",
            "_view_name": "HTMLView",
            "description": "",
            "description_tooltip": null,
            "layout": "IPY_MODEL_805a1f18e65d40bba7c9d50e14d94034",
            "placeholder": "​",
            "style": "IPY_MODEL_3c29ff21b540480db987681dd45d0619",
            "value": " 116/116 [00:00&lt;00:00, 146.41it/s]"
          }
        },
        "189de8cb34c94969979b21a1452d7ff6": {
          "model_module": "@jupyter-widgets/base",
          "model_name": "LayoutModel",
          "model_module_version": "1.2.0",
          "state": {
            "_model_module": "@jupyter-widgets/base",
            "_model_module_version": "1.2.0",
            "_model_name": "LayoutModel",
            "_view_count": null,
            "_view_module": "@jupyter-widgets/base",
            "_view_module_version": "1.2.0",
            "_view_name": "LayoutView",
            "align_content": null,
            "align_items": null,
            "align_self": null,
            "border": null,
            "bottom": null,
            "display": null,
            "flex": null,
            "flex_flow": null,
            "grid_area": null,
            "grid_auto_columns": null,
            "grid_auto_flow": null,
            "grid_auto_rows": null,
            "grid_column": null,
            "grid_gap": null,
            "grid_row": null,
            "grid_template_areas": null,
            "grid_template_columns": null,
            "grid_template_rows": null,
            "height": null,
            "justify_content": null,
            "justify_items": null,
            "left": null,
            "margin": null,
            "max_height": null,
            "max_width": null,
            "min_height": null,
            "min_width": null,
            "object_fit": null,
            "object_position": null,
            "order": null,
            "overflow": null,
            "overflow_x": null,
            "overflow_y": null,
            "padding": null,
            "right": null,
            "top": null,
            "visibility": null,
            "width": null
          }
        },
        "135b6a149d584602ac4685653f117008": {
          "model_module": "@jupyter-widgets/base",
          "model_name": "LayoutModel",
          "model_module_version": "1.2.0",
          "state": {
            "_model_module": "@jupyter-widgets/base",
            "_model_module_version": "1.2.0",
            "_model_name": "LayoutModel",
            "_view_count": null,
            "_view_module": "@jupyter-widgets/base",
            "_view_module_version": "1.2.0",
            "_view_name": "LayoutView",
            "align_content": null,
            "align_items": null,
            "align_self": null,
            "border": null,
            "bottom": null,
            "display": null,
            "flex": null,
            "flex_flow": null,
            "grid_area": null,
            "grid_auto_columns": null,
            "grid_auto_flow": null,
            "grid_auto_rows": null,
            "grid_column": null,
            "grid_gap": null,
            "grid_row": null,
            "grid_template_areas": null,
            "grid_template_columns": null,
            "grid_template_rows": null,
            "height": null,
            "justify_content": null,
            "justify_items": null,
            "left": null,
            "margin": null,
            "max_height": null,
            "max_width": null,
            "min_height": null,
            "min_width": null,
            "object_fit": null,
            "object_position": null,
            "order": null,
            "overflow": null,
            "overflow_x": null,
            "overflow_y": null,
            "padding": null,
            "right": null,
            "top": null,
            "visibility": null,
            "width": null
          }
        },
        "ba3b9c4760f5428699bbcd5cd0ce555e": {
          "model_module": "@jupyter-widgets/controls",
          "model_name": "DescriptionStyleModel",
          "model_module_version": "1.5.0",
          "state": {
            "_model_module": "@jupyter-widgets/controls",
            "_model_module_version": "1.5.0",
            "_model_name": "DescriptionStyleModel",
            "_view_count": null,
            "_view_module": "@jupyter-widgets/base",
            "_view_module_version": "1.2.0",
            "_view_name": "StyleView",
            "description_width": ""
          }
        },
        "f3a857cba6bb41c3811da61100aa7bf4": {
          "model_module": "@jupyter-widgets/base",
          "model_name": "LayoutModel",
          "model_module_version": "1.2.0",
          "state": {
            "_model_module": "@jupyter-widgets/base",
            "_model_module_version": "1.2.0",
            "_model_name": "LayoutModel",
            "_view_count": null,
            "_view_module": "@jupyter-widgets/base",
            "_view_module_version": "1.2.0",
            "_view_name": "LayoutView",
            "align_content": null,
            "align_items": null,
            "align_self": null,
            "border": null,
            "bottom": null,
            "display": null,
            "flex": null,
            "flex_flow": null,
            "grid_area": null,
            "grid_auto_columns": null,
            "grid_auto_flow": null,
            "grid_auto_rows": null,
            "grid_column": null,
            "grid_gap": null,
            "grid_row": null,
            "grid_template_areas": null,
            "grid_template_columns": null,
            "grid_template_rows": null,
            "height": null,
            "justify_content": null,
            "justify_items": null,
            "left": null,
            "margin": null,
            "max_height": null,
            "max_width": null,
            "min_height": null,
            "min_width": null,
            "object_fit": null,
            "object_position": null,
            "order": null,
            "overflow": null,
            "overflow_x": null,
            "overflow_y": null,
            "padding": null,
            "right": null,
            "top": null,
            "visibility": null,
            "width": null
          }
        },
        "27cea97deb814f6b8a395faf22a632f8": {
          "model_module": "@jupyter-widgets/controls",
          "model_name": "ProgressStyleModel",
          "model_module_version": "1.5.0",
          "state": {
            "_model_module": "@jupyter-widgets/controls",
            "_model_module_version": "1.5.0",
            "_model_name": "ProgressStyleModel",
            "_view_count": null,
            "_view_module": "@jupyter-widgets/base",
            "_view_module_version": "1.2.0",
            "_view_name": "StyleView",
            "bar_color": null,
            "description_width": ""
          }
        },
        "805a1f18e65d40bba7c9d50e14d94034": {
          "model_module": "@jupyter-widgets/base",
          "model_name": "LayoutModel",
          "model_module_version": "1.2.0",
          "state": {
            "_model_module": "@jupyter-widgets/base",
            "_model_module_version": "1.2.0",
            "_model_name": "LayoutModel",
            "_view_count": null,
            "_view_module": "@jupyter-widgets/base",
            "_view_module_version": "1.2.0",
            "_view_name": "LayoutView",
            "align_content": null,
            "align_items": null,
            "align_self": null,
            "border": null,
            "bottom": null,
            "display": null,
            "flex": null,
            "flex_flow": null,
            "grid_area": null,
            "grid_auto_columns": null,
            "grid_auto_flow": null,
            "grid_auto_rows": null,
            "grid_column": null,
            "grid_gap": null,
            "grid_row": null,
            "grid_template_areas": null,
            "grid_template_columns": null,
            "grid_template_rows": null,
            "height": null,
            "justify_content": null,
            "justify_items": null,
            "left": null,
            "margin": null,
            "max_height": null,
            "max_width": null,
            "min_height": null,
            "min_width": null,
            "object_fit": null,
            "object_position": null,
            "order": null,
            "overflow": null,
            "overflow_x": null,
            "overflow_y": null,
            "padding": null,
            "right": null,
            "top": null,
            "visibility": null,
            "width": null
          }
        },
        "3c29ff21b540480db987681dd45d0619": {
          "model_module": "@jupyter-widgets/controls",
          "model_name": "DescriptionStyleModel",
          "model_module_version": "1.5.0",
          "state": {
            "_model_module": "@jupyter-widgets/controls",
            "_model_module_version": "1.5.0",
            "_model_name": "DescriptionStyleModel",
            "_view_count": null,
            "_view_module": "@jupyter-widgets/base",
            "_view_module_version": "1.2.0",
            "_view_name": "StyleView",
            "description_width": ""
          }
        }
      }
    }
  },
  "nbformat": 4,
  "nbformat_minor": 5
}